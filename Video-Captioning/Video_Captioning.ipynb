{
 "cells": [
  {
   "cell_type": "code",
   "execution_count": 2,
   "metadata": {
    "id": "Mi3WWkf3_UAL"
   },
   "outputs": [
    {
     "name": "stderr",
     "output_type": "stream",
     "text": [
      "c:\\users\\aryan\\appdata\\local\\programs\\python\\python37\\lib\\site-packages\\tqdm\\auto.py:22: TqdmWarning: IProgress not found. Please update jupyter and ipywidgets. See https://ipywidgets.readthedocs.io/en/stable/user_install.html\n",
      "  from .autonotebook import tqdm as notebook_tqdm\n"
     ]
    }
   ],
   "source": [
    "import os\n",
    "import torch\n",
    "import copy\n",
    "from tqdm import tqdm_notebook\n",
    "from torchvision.transforms.functional import to_pil_image\n",
    "import matplotlib.pylab as plt\n",
    "from tqdm import tqdm_notebook\n",
    "import cv2\n",
    "import numpy as np\n",
    "import glob\n",
    "from torch.utils.data import Dataset, DataLoader, Subset\n",
    "from PIL import Image\n",
    "from torchvision import transforms\n",
    "import re\n",
    "import torch.nn.functional as F"
   ]
  },
  {
   "cell_type": "markdown",
   "metadata": {
    "id": "yXw6K7sdOI76"
   },
   "source": [
    "# Extracting frames from videos"
   ]
  },
  {
   "cell_type": "code",
   "execution_count": 3,
   "metadata": {
    "id": "E7iKTy-D-xkd"
   },
   "outputs": [],
   "source": [
    "def get_frames(filename, n_frames= 1):\n",
    "    frames = []\n",
    "    v_cap = cv2.VideoCapture(filename)\n",
    "    v_len = int(v_cap.get(cv2.CAP_PROP_FRAME_COUNT)) #cv2.CAP_PROP_FRAME_COUNT counts the tot. no. of frames in a video\n",
    "    frame_list= np.linspace(0, v_len, n_frames+1, dtype=np.int16) #np.linspace returns evenly spaced numbers over a specified interval- numpy.linspace(start, stop, num=no. of nos. to generate, endpoint=True, retstep=False, dtype=None, axis=0)\n",
    "                                                                                                                                                #both start and stop included\n",
    "    for fn in range(v_len):\n",
    "        success, frame = v_cap.read() #Reading ( cam. read() ) from a VideoCapture returns a tuple (return value, image) . With the first item you check whether the reading was successful, and if it was then you proceed to use the returned image .\n",
    "        if success is False:\n",
    "            continue\n",
    "        if (fn in frame_list):\n",
    "            frame = cv2.cvtColor(frame, cv2.COLOR_BGR2RGB)  \n",
    "            frames.append(frame)\n",
    "    v_cap.release() #When you call cap. release() , then: release software resource. release hardware resource\n",
    "    return frames, v_len\n",
    "\n",
    "def store_frames(frames, path2store):\n",
    "    for ii, frame in enumerate(frames): #Enumerate() method adds a counter to an iterable and returns it in a form of enumerating object\n",
    "        frame = cv2.cvtColor(frame, cv2.COLOR_RGB2BGR)  \n",
    "        path2img = os.path.join(path2store, \"frame\"+str(ii)+\".jpg\")\n",
    "        cv2.imwrite(path2img, frame)\n",
    "\n",
    "def get_vids(path2ajpgs):\n",
    "    listOfCats = os.listdir(path2ajpgs)   # listofCats - scoring, non scoring \n",
    "    ids = []\n",
    "    labels = []\n",
    "    for catg in listOfCats:\n",
    "      \n",
    "        path2catg = os.path.join(path2ajpgs, catg)      \n",
    "        listOfSubCats = os.listdir(path2catg)           \n",
    "        path2subCats= [os.path.join(path2catg,los) for los in listOfSubCats] \n",
    "        ids.extend(path2subCats)\n",
    "        labels.extend([catg]*len(listOfSubCats))\n",
    "    \n",
    "    return ids, labels, listOfCats "
   ]
  },
  {
   "cell_type": "code",
   "execution_count": 4,
   "metadata": {
    "colab": {
     "base_uri": "https://localhost:8080/"
    },
    "id": "e-Vk80rsAgow",
    "outputId": "d531bdf1-c148-4b94-bc8c-a113f84ea9ef"
   },
   "outputs": [
    {
     "data": {
      "text/plain": [
       "1970"
      ]
     },
     "execution_count": 4,
     "metadata": {},
     "output_type": "execute_result"
    }
   ],
   "source": [
    "video_paths = glob.glob('YouTubeClips/YouTubeClips'+\"/*.avi\")\n",
    "len(video_paths)"
   ]
  },
  {
   "cell_type": "code",
   "execution_count": 5,
   "metadata": {
    "colab": {
     "base_uri": "https://localhost:8080/"
    },
    "id": "whJgVkY__dRS",
    "outputId": "9b846647-6428-431c-c703-e5c9043d9631"
   },
   "outputs": [
    {
     "data": {
      "text/plain": [
       "'for i,vid_path in enumerate(video_paths):  \\n  \\n    frames, l = get_frames(vid_path, 49)\\n    vid_name = vid_path.replace(vid_dir,\\'\\')\\n    path2store = frame_dir + vid_name.replace(\".avi\", \"\")\\n    os.makedirs(path2store, exist_ok = True) \\n    store_frames(frames, path2store)\\n    print(f\"video {i}/1970 done\", end = \\'\\r\\')'"
      ]
     },
     "execution_count": 5,
     "metadata": {},
     "output_type": "execute_result"
    }
   ],
   "source": [
    "vid_dir = 'YouTubeClips/YouTubeClips'\n",
    "frame_dir = 'frames'\n",
    "  \n",
    "'''for i,vid_path in enumerate(video_paths):  \n",
    "  \n",
    "    frames, l = get_frames(vid_path, 49)\n",
    "    vid_name = vid_path.replace(vid_dir,'')\n",
    "    path2store = frame_dir + vid_name.replace(\".avi\", \"\")\n",
    "    os.makedirs(path2store, exist_ok = True) \n",
    "    store_frames(frames, path2store)\n",
    "    print(f\"video {i}/1970 done\", end = '\\r')'''"
   ]
  },
  {
   "cell_type": "markdown",
   "metadata": {
    "id": "Nx1wMVCnyaGA"
   },
   "source": [
    "# Preprocessing Captions"
   ]
  },
  {
   "cell_type": "code",
   "execution_count": 6,
   "metadata": {
    "id": "oaI0Twsa21U3"
   },
   "outputs": [],
   "source": [
    "import spacy\n",
    "spacy_eng = spacy.load(\"en_core_web_sm\")\n",
    "class Vocabulary:\n",
    "    PAD_token = 0   # Used for padding short sentences\n",
    "    SOS_token = 1   # Start-of-sentence token\n",
    "    EOS_token = 2   # End-of-sentence token\n",
    "\n",
    "    def __init__(self, name):\n",
    "        self.name = name\n",
    "        self.word2index = {'PAD': 0, 'SOS': 1, 'EOS': 2}\n",
    "        self.word2count = {}\n",
    "        self.index2word = {0: \"PAD\", 1: \"SOS\", 2: \"EOS\"}\n",
    "        self.num_words = 3\n",
    "        self.num_sentences = 0 \n",
    "        self.longest_sentence = 0\n",
    "    \n",
    "\n",
    "\n",
    "    def add_word(self, word):\n",
    "        \n",
    "        if word not in self.word2count:\n",
    "            # First entry of word into vocabulary\n",
    "            self.word2count[word] = 1\n",
    "            self.word2index[word] = self.num_words\n",
    "            self.index2word[self.num_words] = word\n",
    "            self.num_words += 1\n",
    "\n",
    "        else:\n",
    "            self.word2count[word] += 1\n",
    "        \n",
    "  \n",
    "    def tokenizer(self,text):\n",
    "        return [tok.text.lower() for tok in spacy_eng.tokenizer(text)]\n",
    "    \n",
    "    def add_sentence(self, sentence):\n",
    "        sentence_len = 0\n",
    "        #for word in sentence.split(' '):\n",
    "        for word in self.tokenizer(sentence):\n",
    "            sentence_len += 1\n",
    "            self.add_word(word)\n",
    "        if sentence_len > self.longest_sentence:\n",
    "            # This is the longest sentence\n",
    "            self.longest_sentence = sentence_len\n",
    "        # Count the number of sentences\n",
    "        self.num_sentences += 1\n",
    "\n",
    "    def to_word(self, index):\n",
    "        return self.index2word[index]\n",
    "\n",
    "    def to_index(self, word):\n",
    "        return self.word2index[word]"
   ]
  },
  {
   "cell_type": "code",
   "execution_count": 7,
   "metadata": {
    "colab": {
     "base_uri": "https://localhost:8080/",
     "height": 206
    },
    "id": "uoY3Nt0pX7Bf",
    "outputId": "98de86b0-a42d-4392-fb2b-eae557faf16f"
   },
   "outputs": [
    {
     "data": {
      "text/html": [
       "<div>\n",
       "<style scoped>\n",
       "    .dataframe tbody tr th:only-of-type {\n",
       "        vertical-align: middle;\n",
       "    }\n",
       "\n",
       "    .dataframe tbody tr th {\n",
       "        vertical-align: top;\n",
       "    }\n",
       "\n",
       "    .dataframe thead th {\n",
       "        text-align: right;\n",
       "    }\n",
       "</style>\n",
       "<table border=\"1\" class=\"dataframe\">\n",
       "  <thead>\n",
       "    <tr style=\"text-align: right;\">\n",
       "      <th></th>\n",
       "      <th>VideoID</th>\n",
       "      <th>Start</th>\n",
       "      <th>End</th>\n",
       "      <th>WorkerID</th>\n",
       "      <th>Source</th>\n",
       "      <th>AnnotationTime</th>\n",
       "      <th>Language</th>\n",
       "      <th>Description</th>\n",
       "    </tr>\n",
       "  </thead>\n",
       "  <tbody>\n",
       "    <tr>\n",
       "      <th>0</th>\n",
       "      <td>mv89psg6zh4</td>\n",
       "      <td>33</td>\n",
       "      <td>46</td>\n",
       "      <td>588702</td>\n",
       "      <td>unverified</td>\n",
       "      <td>55</td>\n",
       "      <td>Slovene</td>\n",
       "      <td>Papagaj se umiva pod tekočo vodo v lijaku.</td>\n",
       "    </tr>\n",
       "    <tr>\n",
       "      <th>1</th>\n",
       "      <td>mv89psg6zh4</td>\n",
       "      <td>33</td>\n",
       "      <td>46</td>\n",
       "      <td>588702</td>\n",
       "      <td>unverified</td>\n",
       "      <td>37</td>\n",
       "      <td>Slovene</td>\n",
       "      <td>Papagaj se umiva pod tekočo vodo v lijaku.</td>\n",
       "    </tr>\n",
       "    <tr>\n",
       "      <th>2</th>\n",
       "      <td>mv89psg6zh4</td>\n",
       "      <td>33</td>\n",
       "      <td>46</td>\n",
       "      <td>362812</td>\n",
       "      <td>unverified</td>\n",
       "      <td>11</td>\n",
       "      <td>Macedonian</td>\n",
       "      <td>папагал се бања</td>\n",
       "    </tr>\n",
       "    <tr>\n",
       "      <th>3</th>\n",
       "      <td>mv89psg6zh4</td>\n",
       "      <td>33</td>\n",
       "      <td>46</td>\n",
       "      <td>968828</td>\n",
       "      <td>unverified</td>\n",
       "      <td>84</td>\n",
       "      <td>German</td>\n",
       "      <td>Ein Wellensittich duscht unter einem Wasserhahn.</td>\n",
       "    </tr>\n",
       "    <tr>\n",
       "      <th>4</th>\n",
       "      <td>mv89psg6zh4</td>\n",
       "      <td>33</td>\n",
       "      <td>46</td>\n",
       "      <td>203142</td>\n",
       "      <td>unverified</td>\n",
       "      <td>14</td>\n",
       "      <td>Romanian</td>\n",
       "      <td>o pasare sta intr-o chiuveta.</td>\n",
       "    </tr>\n",
       "  </tbody>\n",
       "</table>\n",
       "</div>"
      ],
      "text/plain": [
       "       VideoID  Start  End  WorkerID      Source  AnnotationTime    Language  \\\n",
       "0  mv89psg6zh4     33   46    588702  unverified              55     Slovene   \n",
       "1  mv89psg6zh4     33   46    588702  unverified              37     Slovene   \n",
       "2  mv89psg6zh4     33   46    362812  unverified              11  Macedonian   \n",
       "3  mv89psg6zh4     33   46    968828  unverified              84      German   \n",
       "4  mv89psg6zh4     33   46    203142  unverified              14    Romanian   \n",
       "\n",
       "                                        Description  \n",
       "0        Papagaj se umiva pod tekočo vodo v lijaku.  \n",
       "1        Papagaj se umiva pod tekočo vodo v lijaku.  \n",
       "2                                   папагал се бања  \n",
       "3  Ein Wellensittich duscht unter einem Wasserhahn.  \n",
       "4                     o pasare sta intr-o chiuveta.  "
      ]
     },
     "execution_count": 7,
     "metadata": {},
     "output_type": "execute_result"
    }
   ],
   "source": [
    "import pandas as pd\n",
    "df = pd.read_csv(\"video_corpus.csv\")\n",
    "df.head()"
   ]
  },
  {
   "cell_type": "code",
   "execution_count": 8,
   "metadata": {
    "colab": {
     "base_uri": "https://localhost:8080/"
    },
    "id": "WQNzAZTqyjrY",
    "outputId": "848ce07c-0eba-4cab-8cbc-e44bce3800b3"
   },
   "outputs": [
    {
     "data": {
      "text/plain": [
       "85511"
      ]
     },
     "execution_count": 8,
     "metadata": {},
     "output_type": "execute_result"
    }
   ],
   "source": [
    "df_eng = df[df['Language'] == 'English']\n",
    "len(df_eng)"
   ]
  },
  {
   "cell_type": "code",
   "execution_count": 9,
   "metadata": {
    "colab": {
     "base_uri": "https://localhost:8080/",
     "height": 206
    },
    "id": "4Q40c0Fh58eD",
    "outputId": "fb4f5ec6-e5ad-4ae8-ed15-382c164cce73"
   },
   "outputs": [
    {
     "data": {
      "text/html": [
       "<div>\n",
       "<style scoped>\n",
       "    .dataframe tbody tr th:only-of-type {\n",
       "        vertical-align: middle;\n",
       "    }\n",
       "\n",
       "    .dataframe tbody tr th {\n",
       "        vertical-align: top;\n",
       "    }\n",
       "\n",
       "    .dataframe thead th {\n",
       "        text-align: right;\n",
       "    }\n",
       "</style>\n",
       "<table border=\"1\" class=\"dataframe\">\n",
       "  <thead>\n",
       "    <tr style=\"text-align: right;\">\n",
       "      <th></th>\n",
       "      <th>VideoID</th>\n",
       "      <th>Start</th>\n",
       "      <th>End</th>\n",
       "      <th>WorkerID</th>\n",
       "      <th>Source</th>\n",
       "      <th>AnnotationTime</th>\n",
       "      <th>Language</th>\n",
       "      <th>Description</th>\n",
       "    </tr>\n",
       "  </thead>\n",
       "  <tbody>\n",
       "    <tr>\n",
       "      <th>18</th>\n",
       "      <td>mv89psg6zh4</td>\n",
       "      <td>33</td>\n",
       "      <td>46</td>\n",
       "      <td>682611</td>\n",
       "      <td>clean</td>\n",
       "      <td>66</td>\n",
       "      <td>English</td>\n",
       "      <td>A bird in a sink keeps getting under the runni...</td>\n",
       "    </tr>\n",
       "    <tr>\n",
       "      <th>19</th>\n",
       "      <td>mv89psg6zh4</td>\n",
       "      <td>33</td>\n",
       "      <td>46</td>\n",
       "      <td>760882</td>\n",
       "      <td>clean</td>\n",
       "      <td>16</td>\n",
       "      <td>English</td>\n",
       "      <td>A bird is bathing in a sink.</td>\n",
       "    </tr>\n",
       "    <tr>\n",
       "      <th>20</th>\n",
       "      <td>mv89psg6zh4</td>\n",
       "      <td>33</td>\n",
       "      <td>46</td>\n",
       "      <td>878566</td>\n",
       "      <td>clean</td>\n",
       "      <td>76</td>\n",
       "      <td>English</td>\n",
       "      <td>A bird is splashing around under a running fau...</td>\n",
       "    </tr>\n",
       "    <tr>\n",
       "      <th>21</th>\n",
       "      <td>mv89psg6zh4</td>\n",
       "      <td>33</td>\n",
       "      <td>46</td>\n",
       "      <td>707318</td>\n",
       "      <td>clean</td>\n",
       "      <td>14</td>\n",
       "      <td>English</td>\n",
       "      <td>A bird is bathing in a sink.</td>\n",
       "    </tr>\n",
       "    <tr>\n",
       "      <th>22</th>\n",
       "      <td>mv89psg6zh4</td>\n",
       "      <td>33</td>\n",
       "      <td>46</td>\n",
       "      <td>135621</td>\n",
       "      <td>clean</td>\n",
       "      <td>58</td>\n",
       "      <td>English</td>\n",
       "      <td>A bird is standing in a sink drinking water th...</td>\n",
       "    </tr>\n",
       "  </tbody>\n",
       "</table>\n",
       "</div>"
      ],
      "text/plain": [
       "        VideoID  Start  End  WorkerID Source  AnnotationTime Language  \\\n",
       "18  mv89psg6zh4     33   46    682611  clean              66  English   \n",
       "19  mv89psg6zh4     33   46    760882  clean              16  English   \n",
       "20  mv89psg6zh4     33   46    878566  clean              76  English   \n",
       "21  mv89psg6zh4     33   46    707318  clean              14  English   \n",
       "22  mv89psg6zh4     33   46    135621  clean              58  English   \n",
       "\n",
       "                                          Description  \n",
       "18  A bird in a sink keeps getting under the runni...  \n",
       "19                       A bird is bathing in a sink.  \n",
       "20  A bird is splashing around under a running fau...  \n",
       "21                       A bird is bathing in a sink.  \n",
       "22  A bird is standing in a sink drinking water th...  "
      ]
     },
     "execution_count": 9,
     "metadata": {},
     "output_type": "execute_result"
    }
   ],
   "source": [
    "df_eng.head()"
   ]
  },
  {
   "cell_type": "code",
   "execution_count": 10,
   "metadata": {
    "id": "j7YSHTJG0SVT"
   },
   "outputs": [],
   "source": [
    "# creating the vocabulary \n",
    "vocab = Vocabulary('test')\n",
    "\n",
    "# adding words to the vocabulary \n",
    "for sentence in df_eng['Description']:\n",
    "    vocab.add_sentence(str(sentence))\n",
    "\n",
    "d = {}\n",
    "idx = 0\n",
    "for id in df_eng['VideoID'].unique():\n",
    "  while idx <(len(df_eng)):\n",
    "    if df_eng['VideoID'].iloc[idx] == id:\n",
    "      \n",
    "\n",
    "\n",
    "      sentence = df_eng['Description'].iloc[idx]\n",
    "      sent_idxs = [1]\n",
    "      i = 0\n",
    "      \n",
    "      for word in vocab.tokenizer(sentence):\n",
    " \n",
    "          sent_idxs.append(vocab.to_index(word))\n",
    "          i+=1\n",
    "\n",
    "      sent_idxs.append(2)\n",
    "\n",
    "      while i < ((vocab.longest_sentence) + 1):\n",
    "          sent_idxs.append(0)\n",
    "          i+=1\n",
    "      \n",
    "      \n",
    "      d[id] = sent_idxs\n",
    "       \n",
    "      break\n",
    "    idx+=1"
   ]
  },
  {
   "cell_type": "code",
   "execution_count": 11,
   "metadata": {
    "colab": {
     "base_uri": "https://localhost:8080/"
    },
    "id": "TecoP2mc3l4l",
    "outputId": "6809f70f-65a5-4bef-cd8d-0d4f0e05200f"
   },
   "outputs": [
    {
     "data": {
      "text/plain": [
       "1586"
      ]
     },
     "execution_count": 11,
     "metadata": {},
     "output_type": "execute_result"
    }
   ],
   "source": [
    "len(d)"
   ]
  },
  {
   "cell_type": "code",
   "execution_count": 12,
   "metadata": {
    "colab": {
     "base_uri": "https://localhost:8080/"
    },
    "id": "iCrUSrh_8jDr",
    "outputId": "34b2e5e0-a640-4750-d683-f006fa287fc5"
   },
   "outputs": [
    {
     "data": {
      "text/plain": [
       "1586"
      ]
     },
     "execution_count": 12,
     "metadata": {},
     "output_type": "execute_result"
    }
   ],
   "source": [
    "len(df_eng['VideoID'].unique())"
   ]
  },
  {
   "cell_type": "markdown",
   "metadata": {
    "id": "Jqpjxdhm8Kvt"
   },
   "source": [
    "# Creating the Dataset"
   ]
  },
  {
   "cell_type": "code",
   "execution_count": 13,
   "metadata": {
    "colab": {
     "base_uri": "https://localhost:8080/"
    },
    "id": "KHkh2OEdONps",
    "outputId": "3ee1e299-b2b9-43b6-95ff-0fb4771916d0"
   },
   "outputs": [
    {
     "data": {
      "text/plain": [
       "1970"
      ]
     },
     "execution_count": 13,
     "metadata": {},
     "output_type": "execute_result"
    }
   ],
   "source": [
    "frame_paths = glob.glob('frames'+\"/*\")\n",
    "len(frame_paths)"
   ]
  },
  {
   "cell_type": "code",
   "execution_count": 14,
   "metadata": {
    "id": "Ml_Gj5IIOOmd"
   },
   "outputs": [],
   "source": [
    "class VideoDataset(Dataset):\n",
    "  \n",
    "  def __init__(self, root_dir, caption_dict, transform):\n",
    "    self.root_dir = root_dir\n",
    "    self.transform = transform\n",
    "    \n",
    "    self.frame_paths = glob.glob(root_dir+'/*')\n",
    "    #print(self.frame_paths[0])\n",
    "    self.video_ids = []\n",
    "    for frame_path in self.frame_paths:\n",
    "        video_id = frame_path.replace(root_dir+'\\\\', \"\").replace(\".avi\", \"\")\n",
    "        video_id = re.sub(\"_[0-9]+\", \"\", video_id)\n",
    "        self.video_ids.append(video_id)\n",
    "\n",
    "   \n",
    "    self.dic = caption_dict\n",
    "    #print(self.video_ids[0], self.dic.keys())\n",
    "   \n",
    "    idx = 0\n",
    "    while idx <(len(self.video_ids)):\n",
    "      if self.video_ids[idx] not in self.dic:\n",
    "        self.video_ids.remove(self.video_ids[idx])\n",
    "        self.frame_paths.remove(self.frame_paths[idx])\n",
    "      else:\n",
    "        idx+=1\n",
    "\n",
    "    \n",
    "  def __len__(self):\n",
    "    return len(self.frame_paths)\n",
    "\n",
    "  def __getitem__(self, idx):\n",
    "\n",
    "\n",
    "    frame_path = self.frame_paths[idx]\n",
    "    video_id = frame_path.replace(root_dir+'\\\\', \"\").replace(\".avi\", \"\")\n",
    "    video_id = re.sub(\"_[0-9]+\", \"\", video_id)\n",
    "    \n",
    "    caption = self.dic[video_id]\n",
    "   \n",
    "\n",
    "    frames_p = glob.glob(frame_path+'/*.jpg')\n",
    "    frames = []\n",
    "    for idx,f in enumerate(frames_p):\n",
    "        frame = Image.open(f)\n",
    "        frame = self.transform(frame)\n",
    "        frames.append(frame)\n",
    "    while idx<48:\n",
    "        frames.append(torch.zeros(3,224,224))\n",
    "        idx+=1\n",
    "    frames = torch.stack(frames)\n",
    "    return frames, torch.tensor(caption)"
   ]
  },
  {
   "cell_type": "code",
   "execution_count": 15,
   "metadata": {
    "id": "5SJ-J2o2OOkK"
   },
   "outputs": [
    {
     "name": "stdout",
     "output_type": "stream",
     "text": [
      "1905\n"
     ]
    }
   ],
   "source": [
    "from torchvision import transforms\n",
    "root_dir = 'frames'\n",
    "transforms = transforms.Compose([transforms.ToTensor(), transforms.Resize((224,224)),  transforms.Normalize((0.5,0.5,0.5), (0.5,0.5,0.5))])\n",
    "dataset = VideoDataset(root_dir, d,transforms)\n",
    "print(len(dataset))"
   ]
  },
  {
   "cell_type": "code",
   "execution_count": 16,
   "metadata": {
    "id": "5bOvekAv06Da"
   },
   "outputs": [],
   "source": [
    "train_dataloader = DataLoader(dataset, batch_size=1, shuffle=True)"
   ]
  },
  {
   "cell_type": "code",
   "execution_count": 17,
   "metadata": {
    "colab": {
     "base_uri": "https://localhost:8080/",
     "height": 324
    },
    "id": "VxaVat-F1kui",
    "outputId": "896cf8d9-09f5-4d0c-87df-2c26eb89a789"
   },
   "outputs": [
    {
     "name": "stderr",
     "output_type": "stream",
     "text": [
      "Clipping input data to the valid range for imshow with RGB data ([0..1] for floats or [0..255] for integers).\n"
     ]
    },
    {
     "name": "stdout",
     "output_type": "stream",
     "text": [
      "SOS a boy is checking a calendar . EOS PAD PAD PAD PAD PAD PAD PAD PAD PAD PAD PAD PAD PAD PAD PAD PAD PAD PAD PAD PAD PAD PAD PAD PAD PAD PAD PAD PAD PAD PAD PAD PAD PAD PAD PAD PAD PAD PAD PAD PAD PAD PAD PAD PAD PAD PAD PAD PAD PAD PAD PAD PAD PAD PAD PAD PAD PAD PAD PAD PAD PAD PAD PAD PAD PAD PAD PAD PAD PAD PAD PAD PAD PAD PAD PAD PAD PAD PAD PAD PAD PAD PAD PAD PAD PAD PAD PAD PAD PAD PAD PAD PAD PAD PAD PAD PAD PAD PAD PAD PAD PAD PAD PAD PAD PAD PAD PAD PAD PAD PAD PAD PAD PAD PAD PAD PAD PAD PAD PAD PAD PAD PAD PAD PAD PAD PAD PAD PAD PAD PAD PAD PAD PAD PAD PAD PAD PAD PAD PAD PAD PAD PAD PAD PAD PAD PAD PAD PAD PAD PAD PAD PAD PAD PAD PAD PAD PAD PAD PAD PAD PAD PAD PAD PAD PAD PAD PAD PAD PAD PAD PAD PAD PAD PAD PAD PAD PAD "
     ]
    },
    {
     "data": {
      "image/png": "[encoded data removed]",
      "text/plain": [
       "<Figure size 432x288 with 1 Axes>"
      ]
     },
     "metadata": {
      "needs_background": "light"
     },
     "output_type": "display_data"
    }
   ],
   "source": [
    "for vids, cap in train_dataloader:\n",
    "  for c in cap[0]:\n",
    "    print(vocab.to_word(int(c)), end = \" \")\n",
    "  plt.imshow(vids[0][0].permute(1,2,0))\n",
    "  break"
   ]
  },
  {
   "cell_type": "code",
   "execution_count": 18,
   "metadata": {
    "id": "g7e3MtNr2NeA"
   },
   "outputs": [],
   "source": [
    "import numpy as np \n",
    "vocabs = vocab.word2index.keys()\n",
    "\n",
    "def load_embeds(root_dir):\n",
    "    embeddings_index = dict()\n",
    "    f = open(root_dir, encoding = 'utf8')\n",
    "\n",
    "    for line in f:\n",
    "        values = line.split()\n",
    "        word = values[0]\n",
    "        coefs = np.asarray(values[1:], dtype='float32')\n",
    "        embeddings_index[word] = coefs\n",
    "\n",
    "    f.close()\n",
    "    return embeddings_index\n",
    "embeddings_index = load_embeds('glove.6B.300d.txt')"
   ]
  },
  {
   "cell_type": "code",
   "execution_count": 19,
   "metadata": {
    "colab": {
     "base_uri": "https://localhost:8080/"
    },
    "id": "icvJt1tYdVi2",
    "outputId": "9b6badad-03de-4277-c7e2-2fc0f31cf6f5"
   },
   "outputs": [
    {
     "data": {
      "text/plain": [
       "torch.Size([13254, 300])"
      ]
     },
     "execution_count": 19,
     "metadata": {},
     "output_type": "execute_result"
    }
   ],
   "source": [
    "import torch\n",
    "def load_embed_weights(embeddings_index, embed_dim, vocab, vocab_size):\n",
    "    matrix_len = vocab_size\n",
    "    weights_matrix = np.zeros((matrix_len, embed_dim))\n",
    "    words_found = 0\n",
    "\n",
    "    for i, word in enumerate(vocab):\n",
    "        try: \n",
    "            weights_matrix[i] = embeddings_index[word]\n",
    "            words_found += 1\n",
    "        except KeyError:\n",
    "            weights_matrix[i] = np.random.normal(scale=0.6, size=(embed_dim, ))\n",
    "    weights_matrix = torch.tensor(weights_matrix)\n",
    "    return weights_matrix\n",
    "weights_matrix = load_embed_weights(embeddings_index, 300, vocabs, vocab.num_words)\n",
    "weights_matrix.shape"
   ]
  },
  {
   "cell_type": "code",
   "execution_count": 20,
   "metadata": {
    "id": "noGxhmPVd1MI"
   },
   "outputs": [],
   "source": [
    "def output_to_caption(outputs, index):\n",
    "    preds = outputs[index]\n",
    "    preds = torch.argmax(preds, dim = 1)\n",
    "    preds = preds.cpu()\n",
    "    preds = np.array(preds)\n",
    "    for index in preds:\n",
    "        if index == 2:\n",
    "            break    \n",
    "        if index != 1:    \n",
    "            print(vocab.to_word(index), end = ' ')\n",
    "\n",
    "def tensor_to_caption(preds, index):\n",
    "    preds = preds[index].cpu()\n",
    "    preds = np.array(preds)\n",
    "    for index in preds:\n",
    "        if index == 2:\n",
    "            break\n",
    "        if index != 1:    \n",
    "            print(vocab.to_word(index), end = ' ')\n",
    "\n",
    "def tensor_to_image(img_list, index):\n",
    "    img = img_list[index].permute(1,2,0)\n",
    "    plt.figure()\n",
    "    plt.imshow(img.cpu())"
   ]
  },
  {
   "cell_type": "code",
   "execution_count": 21,
   "metadata": {
    "colab": {
     "base_uri": "https://localhost:8080/",
     "height": 66,
     "referenced_widgets": [
      "c0edd239ae2949dd833a8cf36be80380",
      "bb153795e28a4cb6abbcbc9e441c3b8f",
      "39e662735d124759a8ea95804762aa3f",
      "6878a26d03f442b3803b5cb8bf9c8c19",
      "15f3c3e77e2a4c58813722a393afc20e",
      "47a93197bb2343a699ebce30721f0f14",
      "464b63dc1e4546ab95dc4507ba8bde10",
      "15a51c6c244d425599d024dbcaf324d1",
      "9ecacfbde4de437bbadfaca97c565cd0",
      "8069bdcbed244bd594eba49e9c8e3a92",
      "12e4e7696a134cb893757da3a3d80f44"
     ]
    },
    "id": "DbswPfQud6F3",
    "outputId": "935a5226-5839-48b2-ed5d-abf875aa36ca"
   },
   "outputs": [],
   "source": [
    "import torchvision\n",
    "import torch.nn as  nn\n",
    "\n",
    "class Encoder(nn.Module):\n",
    "    def __init__(self):\n",
    "        super().__init__()\n",
    "        self.model = torchvision.models.resnet50(pretrained=True)\n",
    "        for param in self.model.parameters():\n",
    "            param.requires_grad = False\n",
    "        self.model = torch.nn.Sequential(*(list(self.model.children())[:-2]))\n",
    "    def forward(self, x):\n",
    "        features =  self.model(x)\n",
    "        return features.reshape(-1, 2048, 49) # [49,2048,49]\n",
    "encoder = Encoder()"
   ]
  },
  {
   "cell_type": "code",
   "execution_count": 22,
   "metadata": {
    "id": "VWYSV4tJd-iY"
   },
   "outputs": [],
   "source": [
    "class attention(nn.Module):\n",
    "  def __init__(self, feature_dim, hidden_dim, embed_dim, num_vecs):\n",
    "    super().__init__()\n",
    "    \n",
    "    self.features_fc = nn.Linear(feature_dim, num_vecs)\n",
    "    self.hidden_fc = nn.Linear(hidden_dim, num_vecs)\n",
    "    self.context_fc = nn.Linear(num_vecs, 1)\n",
    "    self.input_fc = nn.Linear(embed_dim, hidden_dim)\n",
    "    self.hidden_gate_fc = nn.Linear(hidden_dim, hidden_dim)\n",
    "    self.s_fc = nn.Linear(hidden_dim, num_vecs)\n",
    "    self.ones = torch.ones(num_vecs,1).to(device)\n",
    "    self.tanh = torch.tanh\n",
    "    self.sigma = torch.sigmoid\n",
    "  \n",
    "  def forward(self, features, hidden, inputs, memory):\n",
    "\n",
    "    c1 = []\n",
    "    #c1 = c1.to(device)\n",
    "    for i in range(features.shape[0]):\n",
    "      f = self.features_fc(features[i,:,:])            #3,3\n",
    "      h = self.hidden_fc(hidden[i,:].unsqueeze(0))     #1,3\n",
    "      h1 = self.ones @ h\n",
    "      c = self.tanh(f+h1)                               #3,3\n",
    "      z = self.context_fc(c).permute((1,0))            #1,3\n",
    "      a = F.softmax(z, dim = 1)\n",
    "      test = a @ features[i,:,:]\n",
    "\n",
    "    \n",
    "      gate = self.sigma( self.input_fc(inputs[i,:]) + self.hidden_gate_fc(hidden[i,:]) )\n",
    "      s = gate * self.tanh(memory[i,:])                \n",
    "  \n",
    "      ws = self.s_fc(s.unsqueeze(0))                   #1,3\n",
    "      \n",
    "      w = self.tanh(ws+h)                              #1,3\n",
    "      i = self.context_fc(w)                           \n",
    "      \n",
    "      concat = F.softmax(torch.cat((z,i), dim = 1), dim = 1).squeeze(0)\n",
    "      b = concat[-1]\n",
    "  \n",
    "      c1b = b*s + (1-b)*(test)\n",
    "      c1.append(c1b)\n",
    "\n",
    "\n",
    "    c1 = torch.stack(c1)\n",
    "\n",
    "    return  c1.squeeze(1)"
   ]
  },
  {
   "cell_type": "code",
   "execution_count": 23,
   "metadata": {
    "id": "sz35LreweYzm"
   },
   "outputs": [],
   "source": [
    "class Decoder(nn.Module):\n",
    "    def __init__(self, embed_size, hidden_size, vocab_size, weights_matrix, device, num_layers=1):\n",
    "        super(Decoder, self).__init__()\n",
    "        \n",
    "        # define the properties\n",
    "        self.embed_size = embed_size\n",
    "        self.hidden_size = hidden_size\n",
    "        self.vocab_size = vocab_size\n",
    "        \n",
    "\n",
    "\n",
    "\n",
    "        self.init_fc = nn.Linear(in_features = 49, out_features = 1)\n",
    "        # lstm cell\n",
    "        #self.lstm_cell = nn.LSTMCell(input_size = embed_size + hidden_size, hidden_size=hidden_size)\n",
    "        self.lstm_cell = nn.LSTMCell(input_size = embed_size, hidden_size=hidden_size)\n",
    "        # output fully connected layer\n",
    "        self.fc_out = nn.Linear(in_features = self.hidden_size*2, out_features = self.vocab_size)\n",
    "    \n",
    "        # embedding layer\n",
    "        self.embed = nn.Embedding(num_embeddings = self.vocab_size, embedding_dim = self.embed_size)\n",
    "        self.embed.weight.requires_grad = False\n",
    "        self.embed.load_state_dict({'weight': weights_matrix})\n",
    "        \n",
    "        self.attn = attention(2048, 2048, 300, 49).to(device)\n",
    "        \n",
    "        #self.embed_test = nn.Embedding(num_embeddings = self.vocab_size, embedding_dim = self.embed_size)\n",
    "        #self.embed_test.weight.requires_grad = False\n",
    "        #self.embed_test.load_state_dict({'weight': weights_matrix})\n",
    "         \n",
    "    def forward(self, features, captions, test = False):\n",
    "\n",
    "\n",
    "        # features = [49,2048,49], captions = [1,num_words]\n",
    "        \n",
    "        # batch size\n",
    "        batch_size = 1   \n",
    "        \n",
    "        # init the hidden and cell states to zeros\n",
    "        \n",
    "        hidden_state = torch.zeros((batch_size, self.hidden_size)).to(device)    #[1,2048]\n",
    "        cell_state = torch.zeros((batch_size, self.hidden_size)).to(device)      #[1,2048]\n",
    "        \n",
    "        #hidden_state = torch.mean(features, dim = 1)    #[32,512]\n",
    "        #cell_state = torch.mean(features, dim = 1)      #[32,512]\n",
    "        \n",
    "        states = (hidden_state, cell_state)\n",
    "        outputs = torch.empty((batch_size, captions.size(1), self.vocab_size)).to(device) #captions.size(1) is the number of words \n",
    "        # outputs = [1,num_words,vocab_size]\n",
    "        \n",
    "        # embed the captions\n",
    "        captions_embed = self.embed(captions)    #[1,num_words,300]\n",
    "        features1 = self.init_fc(features).squeeze(-1).unsqueeze(0)       #[1,49,2048]\n",
    "        \n",
    "        # pass the caption word by word\n",
    "        if test == False: \n",
    "            for t in range(captions.size(1)):\n",
    "\n",
    "                # getting the features of the image to be focussed on  \n",
    "                #context = attn(features, hidden_state)  #[32,512]\n",
    "\n",
    "                # concatnating it with the input word\n",
    "                #inputs = torch.cat((context, captions_embed[:, t, :]), dim = 1) # [32,812] \n",
    "\n",
    "                #passing the combination through lstm\n",
    "                #hidden_state, cell_state = self.lstm_cell(inputs, (hidden_state, cell_state))\n",
    "                hidden_state, cell_state = self.lstm_cell(captions_embed[:,t,:], (hidden_state, cell_state))\n",
    "\n",
    "\n",
    "                context = self.attn(features1, hidden_state, captions_embed[:,t,:], cell_state)\n",
    "\n",
    "                out = torch.cat((context, hidden_state), dim = 1)\n",
    "                # output of the attention mechanism\n",
    "                out = self.fc_out(out)\n",
    "\n",
    "                # build the output tensor\n",
    "                outputs[:, t, :] = out      \n",
    "\n",
    "            return F.log_softmax(outputs, dim = 2)\n",
    "        \n",
    "        \n",
    "\n",
    "        \n",
    "    \n",
    "        else:\n",
    "            \n",
    "            word_idxs = torch.ones(batch_size).long().to(device)\n",
    "            \n",
    "            \n",
    "            for i in range(captions.size(1)):\n",
    "                \n",
    "                word_embeds = self.embed(word_idxs)     #[32,300]\n",
    "            \n",
    "                \n",
    "                hidden_state, cell_state = self.lstm_cell(word_embeds, (hidden_state, cell_state))\n",
    "\n",
    "\n",
    "                context = self.attn(features, hidden_state, word_embeds, cell_state)\n",
    "\n",
    "                out = torch.cat((context, hidden_state), dim = 1)\n",
    "                # output of the attention mechanism\n",
    "                out = self.fc_out(out)\n",
    "            \n",
    "                # build the output tensor\n",
    "                outputs[:, i, :] = out\n",
    "                \n",
    "                word_idxs = torch.argmax(out, dim = 1)\n",
    "                \n",
    "\n",
    "            return F.log_softmax(outputs, dim = 2)\n",
    "\n",
    "              \n",
    "            \n",
    "        \n",
    "        \n",
    "        \n",
    "vocab_size = vocab.num_words\n",
    "device = torch.device('cuda' if torch.cuda.is_available() else 'cpu')\n",
    "#attn = attention(2048, 2048, 300, 49)\n",
    "#attn = attn.to(device)\n",
    "decoder = Decoder(300,2048, vocab_size,weights_matrix, device)"
   ]
  },
  {
   "cell_type": "code",
   "execution_count": 35,
   "metadata": {
    "id": "OIAso1-pewuS"
   },
   "outputs": [
    {
     "name": "stdout",
     "output_type": "stream",
     "text": [
      "\n",
      "predicted caption:\n",
      "a woman is laying a motorcycle with a wheels in circles . \n",
      "\n",
      "actual caption:\n",
      "a monkey is riding a bicycle with training wheels in circles . "
     ]
    }
   ],
   "source": [
    "    encoder = encoder.to(device)\n",
    "    decoder = decoder.to(device)\n",
    "    device = torch.device(\"cuda\")\n",
    "    decoder.load_state_dict(torch.load('final_run3.pth'))\n",
    "    for idx, (img_list, caption) in enumerate (train_dataloader):\n",
    "\n",
    "        img_list = img_list[0].to(device)\n",
    "        caption_target = caption[:,1:]    # skips SOS\n",
    "        caption_train = caption[:,:-1]    # skips EOS\n",
    "        caption_target, caption_train = caption_target.to(device).long(), caption_train.to(device).long()\n",
    "        features = encoder(img_list) # [49,2048,49]\n",
    "        outputs = decoder(features, caption_train)\n",
    "        print('\\npredicted caption:')\n",
    "        output_to_caption(outputs, 0)\n",
    "        print(\"\\n\\nactual caption:\")\n",
    "        tensor_to_caption(caption, 0)\n",
    "        \n",
    "        break"
   ]
  },
  {
   "cell_type": "code",
   "execution_count": 33,
   "metadata": {
    "id": "ltom0i9PJFTa"
   },
   "outputs": [],
   "source": [
    "import pyprind\n",
    "def train(encoder, decoder, trainloader, criterion, optimizer_decoder, epoch, device):\n",
    "    \n",
    "    train_loss = []\n",
    "    bar = pyprind.ProgBar(len(trainloader), bar_char='█')\n",
    "    for idx, (img_list, caption) in enumerate (trainloader):\n",
    "\n",
    "        img_list = img_list[0].to(device)\n",
    "        caption_target = caption[:,1:]    # skips SOS\n",
    "        caption_train = caption[:,:-1]    # skips EOS\n",
    "        caption_target, caption_train = caption_target.to(device).long(), caption_train.to(device).long()\n",
    "        features = encoder(img_list) # [49,2048,49]\n",
    "        outputs = decoder(features, caption_train)\n",
    "        #print(outputs.shape)\n",
    "        \n",
    "        #optimizer_encoder.zero_grad()\n",
    "        optimizer_decoder.zero_grad()\n",
    "        \n",
    "        loss = criterion(outputs.view(-1, vocab_size), caption_target.contiguous().view(-1))\n",
    "        \n",
    "        train_loss.append(loss.item())\n",
    "        \n",
    "        loss.backward()\n",
    "        #optimizer_encoder.step()\n",
    "        optimizer_decoder.step()\n",
    "        bar.update()\n",
    "        \n",
    "        \n",
    "        print('train loss : {}'.format(np.mean(train_loss)), end = '\\r')\n",
    "    print('\\npredicted caption:')\n",
    "    output_to_caption(outputs, 0)\n",
    "    print(\"\\n\\nactual caption:\")\n",
    "    tensor_to_caption(caption, 0)\n",
    "    print()\n",
    "    return np.mean(train_loss)"
   ]
  },
  {
   "cell_type": "code",
   "execution_count": 34,
   "metadata": {
    "colab": {
     "base_uri": "https://localhost:8080/",
     "height": 380
    },
    "id": "GGupr0T7JV4w",
    "outputId": "a6693c0d-b9d4-4537-c85d-e26d6709ed90",
    "scrolled": true
   },
   "outputs": [
    {
     "name": "stdout",
     "output_type": "stream",
     "text": [
      "cuda\n",
      "train loss : 1.7361593260651542\r"
     ]
    },
    {
     "name": "stderr",
     "output_type": "stream",
     "text": [
      "\r",
      "0% [█                             ] 100% | ETA: 01:04:09"
     ]
    },
    {
     "name": "stdout",
     "output_type": "stream",
     "text": [
      "train loss : 1.7909914520051744\r"
     ]
    },
    {
     "name": "stderr",
     "output_type": "stream",
     "text": [
      "\r",
      "0% [██                            ] 100% | ETA: 01:03:09"
     ]
    },
    {
     "name": "stdout",
     "output_type": "stream",
     "text": [
      "train loss : 1.8034754244904779\r"
     ]
    },
    {
     "name": "stderr",
     "output_type": "stream",
     "text": [
      "\r",
      "0% [███                           ] 100% | ETA: 01:00:24"
     ]
    },
    {
     "name": "stdout",
     "output_type": "stream",
     "text": [
      "train loss : 1.8639301036990534\r"
     ]
    },
    {
     "name": "stderr",
     "output_type": "stream",
     "text": [
      "\r",
      "0% [████                          ] 100% | ETA: 00:57:35"
     ]
    },
    {
     "name": "stdout",
     "output_type": "stream",
     "text": [
      "train loss : 1.9447171349630747\r"
     ]
    },
    {
     "name": "stderr",
     "output_type": "stream",
     "text": [
      "\r",
      "0% [█████                         ] 100% | ETA: 00:55:06"
     ]
    },
    {
     "name": "stdout",
     "output_type": "stream",
     "text": [
      "train loss : 1.9736911051367458\r"
     ]
    },
    {
     "name": "stderr",
     "output_type": "stream",
     "text": [
      "\r",
      "0% [██████                        ] 100% | ETA: 00:52:48"
     ]
    },
    {
     "name": "stdout",
     "output_type": "stream",
     "text": [
      "train loss : 2.0073880316303656\r"
     ]
    },
    {
     "name": "stderr",
     "output_type": "stream",
     "text": [
      "\r",
      "0% [███████                       ] 100% | ETA: 00:50:24"
     ]
    },
    {
     "name": "stdout",
     "output_type": "stream",
     "text": [
      "train loss : 2.0129708099294694\r"
     ]
    },
    {
     "name": "stderr",
     "output_type": "stream",
     "text": [
      "\r",
      "0% [████████                      ] 100% | ETA: 00:48:13"
     ]
    },
    {
     "name": "stdout",
     "output_type": "stream",
     "text": [
      "train loss : 2.0338621550808855\r"
     ]
    },
    {
     "name": "stderr",
     "output_type": "stream",
     "text": [
      "\r",
      "0% [█████████                     ] 100% | ETA: 00:45:58"
     ]
    },
    {
     "name": "stdout",
     "output_type": "stream",
     "text": [
      "train loss : 2.0196396575668665\r"
     ]
    },
    {
     "name": "stderr",
     "output_type": "stream",
     "text": [
      "\r",
      "0% [██████████                    ] 100% | ETA: 00:43:43"
     ]
    },
    {
     "name": "stdout",
     "output_type": "stream",
     "text": [
      "train loss : 2.0562161835268183\r"
     ]
    },
    {
     "name": "stderr",
     "output_type": "stream",
     "text": [
      "\r",
      "0% [███████████                   ] 100% | ETA: 00:41:34"
     ]
    },
    {
     "name": "stdout",
     "output_type": "stream",
     "text": [
      "train loss : 2.0406500254213107\r"
     ]
    },
    {
     "name": "stderr",
     "output_type": "stream",
     "text": [
      "\r",
      "0% [████████████                  ] 100% | ETA: 00:39:25"
     ]
    },
    {
     "name": "stdout",
     "output_type": "stream",
     "text": [
      "train loss : 2.0619684254129726\r"
     ]
    },
    {
     "name": "stderr",
     "output_type": "stream",
     "text": [
      "\r",
      "0% [█████████████                 ] 100% | ETA: 00:37:13"
     ]
    },
    {
     "name": "stdout",
     "output_type": "stream",
     "text": [
      "train loss : 2.0716592999477244\r"
     ]
    },
    {
     "name": "stderr",
     "output_type": "stream",
     "text": [
      "\r",
      "0% [██████████████                ] 100% | ETA: 00:35:04"
     ]
    },
    {
     "name": "stdout",
     "output_type": "stream",
     "text": [
      "train loss : 2.0780641379680076\r"
     ]
    },
    {
     "name": "stderr",
     "output_type": "stream",
     "text": [
      "\r",
      "0% [███████████████               ] 100% | ETA: 00:32:48"
     ]
    },
    {
     "name": "stdout",
     "output_type": "stream",
     "text": [
      "train loss : 2.0987372024160793\r"
     ]
    },
    {
     "name": "stderr",
     "output_type": "stream",
     "text": [
      "\r",
      "0% [████████████████              ] 100% | ETA: 00:30:35"
     ]
    },
    {
     "name": "stdout",
     "output_type": "stream",
     "text": [
      "train loss : 2.1079886714557565\r"
     ]
    },
    {
     "name": "stderr",
     "output_type": "stream",
     "text": [
      "\r",
      "0% [█████████████████             ] 100% | ETA: 00:28:25"
     ]
    },
    {
     "name": "stdout",
     "output_type": "stream",
     "text": [
      "train loss : 2.1236806606935853\r"
     ]
    },
    {
     "name": "stderr",
     "output_type": "stream",
     "text": [
      "\r",
      "0% [██████████████████            ] 100% | ETA: 00:26:14"
     ]
    },
    {
     "name": "stdout",
     "output_type": "stream",
     "text": [
      "train loss : 2.1187628821267515\r"
     ]
    },
    {
     "name": "stderr",
     "output_type": "stream",
     "text": [
      "\r",
      "0% [███████████████████           ] 100% | ETA: 00:24:03"
     ]
    },
    {
     "name": "stdout",
     "output_type": "stream",
     "text": [
      "train loss : 2.1171572834922634\r"
     ]
    },
    {
     "name": "stderr",
     "output_type": "stream",
     "text": [
      "\r",
      "0% [████████████████████          ] 100% | ETA: 00:21:52"
     ]
    },
    {
     "name": "stdout",
     "output_type": "stream",
     "text": [
      "train loss : 2.1234095903631895\r"
     ]
    },
    {
     "name": "stderr",
     "output_type": "stream",
     "text": [
      "\r",
      "0% [█████████████████████         ] 100% | ETA: 00:19:40"
     ]
    },
    {
     "name": "stdout",
     "output_type": "stream",
     "text": [
      "train loss : 2.1488741390892416\r"
     ]
    },
    {
     "name": "stderr",
     "output_type": "stream",
     "text": [
      "\r",
      "0% [██████████████████████        ] 100% | ETA: 00:17:28"
     ]
    },
    {
     "name": "stdout",
     "output_type": "stream",
     "text": [
      "train loss : 2.1629059189956075\r"
     ]
    },
    {
     "name": "stderr",
     "output_type": "stream",
     "text": [
      "\r",
      "0% [███████████████████████       ] 100% | ETA: 00:15:18"
     ]
    },
    {
     "name": "stdout",
     "output_type": "stream",
     "text": [
      "train loss : 2.1931209524241625\r"
     ]
    },
    {
     "name": "stderr",
     "output_type": "stream",
     "text": [
      "\r",
      "0% [████████████████████████      ] 100% | ETA: 00:13:07"
     ]
    },
    {
     "name": "stdout",
     "output_type": "stream",
     "text": [
      "train loss : 2.2015175152318838\r"
     ]
    },
    {
     "name": "stderr",
     "output_type": "stream",
     "text": [
      "\r",
      "0% [█████████████████████████     ] 100% | ETA: 00:10:55"
     ]
    },
    {
     "name": "stdout",
     "output_type": "stream",
     "text": [
      "train loss : 2.2151913556682344\r"
     ]
    },
    {
     "name": "stderr",
     "output_type": "stream",
     "text": [
      "\r",
      "0% [██████████████████████████    ] 100% | ETA: 00:08:45"
     ]
    },
    {
     "name": "stdout",
     "output_type": "stream",
     "text": [
      "train loss : 2.2214981762598875\r"
     ]
    },
    {
     "name": "stderr",
     "output_type": "stream",
     "text": [
      "\r",
      "0% [███████████████████████████   ] 100% | ETA: 00:06:32"
     ]
    },
    {
     "name": "stdout",
     "output_type": "stream",
     "text": [
      "train loss : 2.2196824705297353\r"
     ]
    },
    {
     "name": "stderr",
     "output_type": "stream",
     "text": [
      "\r",
      "0% [████████████████████████████  ] 100% | ETA: 00:04:20"
     ]
    },
    {
     "name": "stdout",
     "output_type": "stream",
     "text": [
      "train loss : 2.2241994634772537\r"
     ]
    },
    {
     "name": "stderr",
     "output_type": "stream",
     "text": [
      "\r",
      "0% [█████████████████████████████ ] 100% | ETA: 00:02:10"
     ]
    },
    {
     "name": "stdout",
     "output_type": "stream",
     "text": [
      "train loss : 2.2241379736468765\r"
     ]
    },
    {
     "name": "stderr",
     "output_type": "stream",
     "text": [
      "0% [██████████████████████████████] 100% | ETA: 00:00:00\n",
      "Total time elapsed: 01:05:42\n"
     ]
    },
    {
     "name": "stdout",
     "output_type": "stream",
     "text": [
      "train loss : 2.2234390550828356\n",
      "predicted caption:\n",
      "a dices a reddish liquid into a saucepan of sausage from a large glass jug . \n",
      "\n",
      "actual caption:\n",
      "someone pours a reddish liquid into a saucepan of sausage from a large glass jug . \n",
      "train loss : 1.8733846067436157\r"
     ]
    },
    {
     "name": "stderr",
     "output_type": "stream",
     "text": [
      "\r",
      "0% [█                             ] 100% | ETA: 01:03:20"
     ]
    },
    {
     "name": "stdout",
     "output_type": "stream",
     "text": [
      "train loss : 1.8680515715054102\r"
     ]
    },
    {
     "name": "stderr",
     "output_type": "stream",
     "text": [
      "\r",
      "0% [██                            ] 100% | ETA: 01:00:41"
     ]
    },
    {
     "name": "stdout",
     "output_type": "stream",
     "text": [
      "train loss : 1.7740960659165135\r"
     ]
    },
    {
     "name": "stderr",
     "output_type": "stream",
     "text": [
      "\r",
      "0% [███                           ] 100% | ETA: 00:58:38"
     ]
    },
    {
     "name": "stdout",
     "output_type": "stream",
     "text": [
      "train loss : 1.8254475885723528\r"
     ]
    },
    {
     "name": "stderr",
     "output_type": "stream",
     "text": [
      "\r",
      "0% [████                          ] 100% | ETA: 00:56:25"
     ]
    },
    {
     "name": "stdout",
     "output_type": "stream",
     "text": [
      "train loss : 1.8085635699308258\r"
     ]
    },
    {
     "name": "stderr",
     "output_type": "stream",
     "text": [
      "\r",
      "0% [█████                         ] 100% | ETA: 00:54:15"
     ]
    },
    {
     "name": "stdout",
     "output_type": "stream",
     "text": [
      "train loss : 1.7946808127980483\r"
     ]
    },
    {
     "name": "stderr",
     "output_type": "stream",
     "text": [
      "\r",
      "0% [██████                        ] 100% | ETA: 00:52:08"
     ]
    },
    {
     "name": "stdout",
     "output_type": "stream",
     "text": [
      "train loss : 1.8565919201921772\r"
     ]
    },
    {
     "name": "stderr",
     "output_type": "stream",
     "text": [
      "\r",
      "0% [███████                       ] 100% | ETA: 00:49:57"
     ]
    },
    {
     "name": "stdout",
     "output_type": "stream",
     "text": [
      "train loss : 1.8611200447148355\r"
     ]
    },
    {
     "name": "stderr",
     "output_type": "stream",
     "text": [
      "\r",
      "0% [████████                      ] 100% | ETA: 00:47:58"
     ]
    },
    {
     "name": "stdout",
     "output_type": "stream",
     "text": [
      "train loss : 1.8615885005836524\r"
     ]
    },
    {
     "name": "stderr",
     "output_type": "stream",
     "text": [
      "\r",
      "0% [█████████                     ] 100% | ETA: 00:45:47"
     ]
    },
    {
     "name": "stdout",
     "output_type": "stream",
     "text": [
      "train loss : 1.8629664294363006\r"
     ]
    },
    {
     "name": "stderr",
     "output_type": "stream",
     "text": [
      "\r",
      "0% [██████████                    ] 100% | ETA: 00:43:36"
     ]
    },
    {
     "name": "stdout",
     "output_type": "stream",
     "text": [
      "train loss : 1.8693885271007833\r"
     ]
    },
    {
     "name": "stderr",
     "output_type": "stream",
     "text": [
      "\r",
      "0% [███████████                   ] 100% | ETA: 00:41:27"
     ]
    },
    {
     "name": "stdout",
     "output_type": "stream",
     "text": [
      "train loss : 1.8783937374254726\r"
     ]
    },
    {
     "name": "stderr",
     "output_type": "stream",
     "text": [
      "\r",
      "0% [████████████                  ] 100% | ETA: 00:39:19"
     ]
    },
    {
     "name": "stdout",
     "output_type": "stream",
     "text": [
      "train loss : 1.8680209703788613\r"
     ]
    },
    {
     "name": "stderr",
     "output_type": "stream",
     "text": [
      "\r",
      "0% [█████████████                 ] 100% | ETA: 00:37:05"
     ]
    },
    {
     "name": "stdout",
     "output_type": "stream",
     "text": [
      "train loss : 1.8671478969674256\r"
     ]
    },
    {
     "name": "stderr",
     "output_type": "stream",
     "text": [
      "\r",
      "0% [██████████████                ] 100% | ETA: 00:34:56"
     ]
    },
    {
     "name": "stdout",
     "output_type": "stream",
     "text": [
      "train loss : 1.8747217298853172\r"
     ]
    },
    {
     "name": "stderr",
     "output_type": "stream",
     "text": [
      "\r",
      "0% [███████████████               ] 100% | ETA: 00:32:43"
     ]
    },
    {
     "name": "stdout",
     "output_type": "stream",
     "text": [
      "train loss : 1.8908493622594813\r"
     ]
    },
    {
     "name": "stderr",
     "output_type": "stream",
     "text": [
      "\r",
      "0% [████████████████              ] 100% | ETA: 00:30:31"
     ]
    },
    {
     "name": "stdout",
     "output_type": "stream",
     "text": [
      "train loss : 1.8919210855100752\r"
     ]
    },
    {
     "name": "stderr",
     "output_type": "stream",
     "text": [
      "\r",
      "0% [█████████████████             ] 100% | ETA: 00:28:21"
     ]
    },
    {
     "name": "stdout",
     "output_type": "stream",
     "text": [
      "train loss : 1.9140969287480134\r"
     ]
    },
    {
     "name": "stderr",
     "output_type": "stream",
     "text": [
      "\r",
      "0% [██████████████████            ] 100% | ETA: 00:26:12"
     ]
    },
    {
     "name": "stdout",
     "output_type": "stream",
     "text": [
      "train loss : 1.9146696570241333\r"
     ]
    },
    {
     "name": "stderr",
     "output_type": "stream",
     "text": [
      "\r",
      "0% [███████████████████           ] 100% | ETA: 00:24:00"
     ]
    },
    {
     "name": "stdout",
     "output_type": "stream",
     "text": [
      "train loss : 1.9239364423333334\r"
     ]
    },
    {
     "name": "stderr",
     "output_type": "stream",
     "text": [
      "\r",
      "0% [████████████████████          ] 100% | ETA: 00:21:50"
     ]
    },
    {
     "name": "stdout",
     "output_type": "stream",
     "text": [
      "train loss : 1.9360749779488481\r"
     ]
    },
    {
     "name": "stderr",
     "output_type": "stream",
     "text": [
      "\r",
      "0% [█████████████████████         ] 100% | ETA: 00:19:38"
     ]
    },
    {
     "name": "stdout",
     "output_type": "stream",
     "text": [
      "train loss : 1.9440002801988752\r"
     ]
    },
    {
     "name": "stderr",
     "output_type": "stream",
     "text": [
      "\r",
      "0% [██████████████████████        ] 100% | ETA: 00:17:25"
     ]
    },
    {
     "name": "stdout",
     "output_type": "stream",
     "text": [
      "train loss : 1.9535889815232934\r"
     ]
    },
    {
     "name": "stderr",
     "output_type": "stream",
     "text": [
      "\r",
      "0% [███████████████████████       ] 100% | ETA: 00:15:15"
     ]
    },
    {
     "name": "stdout",
     "output_type": "stream",
     "text": [
      "train loss : 1.9586178629523974\r"
     ]
    },
    {
     "name": "stderr",
     "output_type": "stream",
     "text": [
      "\r",
      "0% [████████████████████████      ] 100% | ETA: 00:13:06"
     ]
    },
    {
     "name": "stdout",
     "output_type": "stream",
     "text": [
      "train loss : 1.9530596709666421\r"
     ]
    },
    {
     "name": "stderr",
     "output_type": "stream",
     "text": [
      "\r",
      "0% [█████████████████████████     ] 100% | ETA: 00:10:54"
     ]
    },
    {
     "name": "stdout",
     "output_type": "stream",
     "text": [
      "train loss : 1.9515349233556878\r"
     ]
    },
    {
     "name": "stderr",
     "output_type": "stream",
     "text": [
      "\r",
      "0% [██████████████████████████    ] 100% | ETA: 00:08:44"
     ]
    },
    {
     "name": "stdout",
     "output_type": "stream",
     "text": [
      "train loss : 1.9513038712115731\r"
     ]
    },
    {
     "name": "stderr",
     "output_type": "stream",
     "text": [
      "\r",
      "0% [███████████████████████████   ] 100% | ETA: 00:06:31"
     ]
    },
    {
     "name": "stdout",
     "output_type": "stream",
     "text": [
      "train loss : 1.9673367831122688\r"
     ]
    },
    {
     "name": "stderr",
     "output_type": "stream",
     "text": [
      "\r",
      "0% [████████████████████████████  ] 100% | ETA: 00:04:20"
     ]
    },
    {
     "name": "stdout",
     "output_type": "stream",
     "text": [
      "train loss : 1.9715145148138582\r"
     ]
    },
    {
     "name": "stderr",
     "output_type": "stream",
     "text": [
      "\r",
      "0% [█████████████████████████████ ] 100% | ETA: 00:02:10"
     ]
    },
    {
     "name": "stdout",
     "output_type": "stream",
     "text": [
      "train loss : 1.9812881103912448\r"
     ]
    },
    {
     "name": "stderr",
     "output_type": "stream",
     "text": [
      "0% [██████████████████████████████] 100% | ETA: 00:00:00\n",
      "Total time elapsed: 01:05:34\n"
     ]
    },
    {
     "name": "stdout",
     "output_type": "stream",
     "text": [
      "train loss : 1.9814763389625574\n",
      "predicted caption:\n",
      "a man is to his puppy . \n",
      "\n",
      "actual caption:\n",
      "a man talks about his puppy . \n",
      "train loss : 1.5841660409692735\r"
     ]
    },
    {
     "name": "stderr",
     "output_type": "stream",
     "text": [
      "\r",
      "0% [█                             ] 100% | ETA: 01:02:45"
     ]
    },
    {
     "name": "stdout",
     "output_type": "stream",
     "text": [
      "train loss : 1.6086156887430993\r"
     ]
    },
    {
     "name": "stderr",
     "output_type": "stream",
     "text": [
      "\r",
      "0% [██                            ] 100% | ETA: 01:00:39"
     ]
    },
    {
     "name": "stdout",
     "output_type": "stream",
     "text": [
      "train loss : 1.6167110454879318\r"
     ]
    },
    {
     "name": "stderr",
     "output_type": "stream",
     "text": [
      "\r",
      "0% [███                           ] 100% | ETA: 00:58:43"
     ]
    },
    {
     "name": "stdout",
     "output_type": "stream",
     "text": [
      "train loss : 1.5886295960526766\r"
     ]
    },
    {
     "name": "stderr",
     "output_type": "stream",
     "text": [
      "\r",
      "0% [████                          ] 100% | ETA: 00:56:51"
     ]
    },
    {
     "name": "stdout",
     "output_type": "stream",
     "text": [
      "train loss : 1.6088709403005683\r"
     ]
    },
    {
     "name": "stderr",
     "output_type": "stream",
     "text": [
      "\r",
      "0% [█████                         ] 100% | ETA: 00:54:40"
     ]
    },
    {
     "name": "stdout",
     "output_type": "stream",
     "text": [
      "train loss : 1.6483617385359186\r"
     ]
    },
    {
     "name": "stderr",
     "output_type": "stream",
     "text": [
      "\r",
      "0% [██████                        ] 100% | ETA: 00:52:28"
     ]
    },
    {
     "name": "stdout",
     "output_type": "stream",
     "text": [
      "train loss : 1.6785521741855797\r"
     ]
    },
    {
     "name": "stderr",
     "output_type": "stream",
     "text": [
      "\r",
      "0% [███████                       ] 100% | ETA: 00:50:14"
     ]
    },
    {
     "name": "stdout",
     "output_type": "stream",
     "text": [
      "train loss : 1.6917040922644107\r"
     ]
    },
    {
     "name": "stderr",
     "output_type": "stream",
     "text": [
      "\r",
      "0% [████████                      ] 100% | ETA: 00:48:09"
     ]
    },
    {
     "name": "stdout",
     "output_type": "stream",
     "text": [
      "train loss : 1.6888462332470404\r"
     ]
    },
    {
     "name": "stderr",
     "output_type": "stream",
     "text": [
      "\r",
      "0% [█████████                     ] 100% | ETA: 00:45:57"
     ]
    },
    {
     "name": "stdout",
     "output_type": "stream",
     "text": [
      "train loss : 1.7089247707541533\r"
     ]
    },
    {
     "name": "stderr",
     "output_type": "stream",
     "text": [
      "\r",
      "0% [██████████                    ] 100% | ETA: 00:43:42"
     ]
    },
    {
     "name": "stdout",
     "output_type": "stream",
     "text": [
      "train loss : 1.7190499299107103\r"
     ]
    },
    {
     "name": "stderr",
     "output_type": "stream",
     "text": [
      "\r",
      "0% [███████████                   ] 100% | ETA: 00:41:29"
     ]
    },
    {
     "name": "stdout",
     "output_type": "stream",
     "text": [
      "train loss : 1.7104735686376435\r"
     ]
    },
    {
     "name": "stderr",
     "output_type": "stream",
     "text": [
      "\r",
      "0% [████████████                  ] 100% | ETA: 00:39:19"
     ]
    },
    {
     "name": "stdout",
     "output_type": "stream",
     "text": [
      "train loss : 1.7096751353957436\r"
     ]
    },
    {
     "name": "stderr",
     "output_type": "stream",
     "text": [
      "\r",
      "0% [█████████████                 ] 100% | ETA: 00:37:10"
     ]
    },
    {
     "name": "stdout",
     "output_type": "stream",
     "text": [
      "train loss : 1.7132940461171102\r"
     ]
    },
    {
     "name": "stderr",
     "output_type": "stream",
     "text": [
      "\r",
      "0% [██████████████                ] 100% | ETA: 00:35:01"
     ]
    },
    {
     "name": "stdout",
     "output_type": "stream",
     "text": [
      "train loss : 1.7114588518415679\r"
     ]
    },
    {
     "name": "stderr",
     "output_type": "stream",
     "text": [
      "\r",
      "0% [███████████████               ] 100% | ETA: 00:32:47"
     ]
    },
    {
     "name": "stdout",
     "output_type": "stream",
     "text": [
      "train loss : 1.7213399014252377\r"
     ]
    },
    {
     "name": "stderr",
     "output_type": "stream",
     "text": [
      "\r",
      "0% [████████████████              ] 100% | ETA: 00:30:34"
     ]
    },
    {
     "name": "stdout",
     "output_type": "stream",
     "text": [
      "train loss : 1.7390564864188902\r"
     ]
    },
    {
     "name": "stderr",
     "output_type": "stream",
     "text": [
      "\r",
      "0% [█████████████████             ] 100% | ETA: 00:28:24"
     ]
    },
    {
     "name": "stdout",
     "output_type": "stream",
     "text": [
      "train loss : 1.7487444435156583\r"
     ]
    },
    {
     "name": "stderr",
     "output_type": "stream",
     "text": [
      "\r",
      "0% [██████████████████            ] 100% | ETA: 00:26:16"
     ]
    },
    {
     "name": "stdout",
     "output_type": "stream",
     "text": [
      "train loss : 1.7474424425345755\r"
     ]
    },
    {
     "name": "stderr",
     "output_type": "stream",
     "text": [
      "\r",
      "0% [███████████████████           ] 100% | ETA: 00:24:04"
     ]
    },
    {
     "name": "stdout",
     "output_type": "stream",
     "text": [
      "train loss : 1.7526927657302107\r"
     ]
    },
    {
     "name": "stderr",
     "output_type": "stream",
     "text": [
      "\r",
      "0% [████████████████████          ] 100% | ETA: 00:21:53"
     ]
    },
    {
     "name": "stdout",
     "output_type": "stream",
     "text": [
      "train loss : 1.7636885461016696\r"
     ]
    },
    {
     "name": "stderr",
     "output_type": "stream",
     "text": [
      "\r",
      "0% [█████████████████████         ] 100% | ETA: 00:19:40"
     ]
    },
    {
     "name": "stdout",
     "output_type": "stream",
     "text": [
      "train loss : 1.7698668324059942\r"
     ]
    },
    {
     "name": "stderr",
     "output_type": "stream",
     "text": [
      "\r",
      "0% [██████████████████████        ] 100% | ETA: 00:17:28"
     ]
    },
    {
     "name": "stdout",
     "output_type": "stream",
     "text": [
      "train loss : 1.7692793284581132\r"
     ]
    },
    {
     "name": "stderr",
     "output_type": "stream",
     "text": [
      "\r",
      "0% [███████████████████████       ] 100% | ETA: 00:15:18"
     ]
    },
    {
     "name": "stdout",
     "output_type": "stream",
     "text": [
      "train loss : 1.7820376149541997\r"
     ]
    },
    {
     "name": "stderr",
     "output_type": "stream",
     "text": [
      "\r",
      "0% [████████████████████████      ] 100% | ETA: 00:13:07"
     ]
    },
    {
     "name": "stdout",
     "output_type": "stream",
     "text": [
      "train loss : 1.7898736779203037\r"
     ]
    },
    {
     "name": "stderr",
     "output_type": "stream",
     "text": [
      "\r",
      "0% [█████████████████████████     ] 100% | ETA: 00:10:55"
     ]
    },
    {
     "name": "stdout",
     "output_type": "stream",
     "text": [
      "train loss : 1.8167036939209158\r"
     ]
    },
    {
     "name": "stderr",
     "output_type": "stream",
     "text": [
      "\r",
      "0% [██████████████████████████    ] 100% | ETA: 00:08:44"
     ]
    },
    {
     "name": "stdout",
     "output_type": "stream",
     "text": [
      "train loss : 1.8291740003134294\r"
     ]
    },
    {
     "name": "stderr",
     "output_type": "stream",
     "text": [
      "\r",
      "0% [███████████████████████████   ] 100% | ETA: 00:06:32"
     ]
    },
    {
     "name": "stdout",
     "output_type": "stream",
     "text": [
      "train loss : 1.8413751923193142\r"
     ]
    },
    {
     "name": "stderr",
     "output_type": "stream",
     "text": [
      "\r",
      "0% [████████████████████████████  ] 100% | ETA: 00:04:20"
     ]
    },
    {
     "name": "stdout",
     "output_type": "stream",
     "text": [
      "train loss : 1.8455244390165462\r"
     ]
    },
    {
     "name": "stderr",
     "output_type": "stream",
     "text": [
      "\r",
      "0% [█████████████████████████████ ] 100% | ETA: 00:02:10"
     ]
    },
    {
     "name": "stdout",
     "output_type": "stream",
     "text": [
      "train loss : 1.8533795488012188\r"
     ]
    },
    {
     "name": "stderr",
     "output_type": "stream",
     "text": [
      "0% [██████████████████████████████] 100% | ETA: 00:00:00\n",
      "Total time elapsed: 01:05:36\n"
     ]
    },
    {
     "name": "stdout",
     "output_type": "stream",
     "text": [
      "train loss : 1.8531298061837675\n",
      "predicted caption:\n",
      "a kitten is playing a tree . \n",
      "\n",
      "actual caption:\n",
      "a man is felling a tree . \n",
      "train loss : 1.5941333127400232\r"
     ]
    },
    {
     "name": "stderr",
     "output_type": "stream",
     "text": [
      "\r",
      "0% [█                             ] 100% | ETA: 01:02:52"
     ]
    },
    {
     "name": "stdout",
     "output_type": "stream",
     "text": [
      "train loss : 1.5730138163244913\r"
     ]
    },
    {
     "name": "stderr",
     "output_type": "stream",
     "text": [
      "\r",
      "0% [██                            ] 100% | ETA: 01:01:10"
     ]
    },
    {
     "name": "stdout",
     "output_type": "stream",
     "text": [
      "train loss : 1.5392741976599944\r"
     ]
    },
    {
     "name": "stderr",
     "output_type": "stream",
     "text": [
      "\r",
      "0% [███                           ] 100% | ETA: 00:59:09"
     ]
    },
    {
     "name": "stdout",
     "output_type": "stream",
     "text": [
      "train loss : 1.6146835410219478\r"
     ]
    },
    {
     "name": "stderr",
     "output_type": "stream",
     "text": [
      "\r",
      "0% [████                          ] 100% | ETA: 00:56:51"
     ]
    },
    {
     "name": "stdout",
     "output_type": "stream",
     "text": [
      "train loss : 1.6388587460908984\r"
     ]
    },
    {
     "name": "stderr",
     "output_type": "stream",
     "text": [
      "\r",
      "0% [█████                         ] 100% | ETA: 00:54:42"
     ]
    },
    {
     "name": "stdout",
     "output_type": "stream",
     "text": [
      "train loss : 1.6556950555035943\r"
     ]
    },
    {
     "name": "stderr",
     "output_type": "stream",
     "text": [
      "\r",
      "0% [██████                        ] 100% | ETA: 00:52:34"
     ]
    },
    {
     "name": "stdout",
     "output_type": "stream",
     "text": [
      "train loss : 1.6336786786245334\r"
     ]
    },
    {
     "name": "stderr",
     "output_type": "stream",
     "text": [
      "\r",
      "0% [███████                       ] 100% | ETA: 00:50:14"
     ]
    },
    {
     "name": "stdout",
     "output_type": "stream",
     "text": [
      "train loss : 1.6433183502339752\r"
     ]
    },
    {
     "name": "stderr",
     "output_type": "stream",
     "text": [
      "\r",
      "0% [████████                      ] 100% | ETA: 00:48:03"
     ]
    },
    {
     "name": "stdout",
     "output_type": "stream",
     "text": [
      "train loss : 1.6472671978475755\r"
     ]
    },
    {
     "name": "stderr",
     "output_type": "stream",
     "text": [
      "\r",
      "0% [█████████                     ] 100% | ETA: 00:45:46"
     ]
    },
    {
     "name": "stdout",
     "output_type": "stream",
     "text": [
      "train loss : 1.6675448681191196\r"
     ]
    },
    {
     "name": "stderr",
     "output_type": "stream",
     "text": [
      "\r",
      "0% [██████████                    ] 100% | ETA: 00:43:36"
     ]
    },
    {
     "name": "stdout",
     "output_type": "stream",
     "text": [
      "train loss : 1.6645784626760252\r"
     ]
    },
    {
     "name": "stderr",
     "output_type": "stream",
     "text": [
      "\r",
      "0% [███████████                   ] 100% | ETA: 00:41:27"
     ]
    },
    {
     "name": "stdout",
     "output_type": "stream",
     "text": [
      "train loss : 1.6793324847298132\r"
     ]
    },
    {
     "name": "stderr",
     "output_type": "stream",
     "text": [
      "\r",
      "0% [████████████                  ] 100% | ETA: 00:39:16"
     ]
    },
    {
     "name": "stdout",
     "output_type": "stream",
     "text": [
      "train loss : 1.6919042243560156\r"
     ]
    },
    {
     "name": "stderr",
     "output_type": "stream",
     "text": [
      "\r",
      "0% [█████████████                 ] 100% | ETA: 00:37:03"
     ]
    },
    {
     "name": "stdout",
     "output_type": "stream",
     "text": [
      "train loss : 1.6931900600692986\r"
     ]
    },
    {
     "name": "stderr",
     "output_type": "stream",
     "text": [
      "\r",
      "0% [██████████████                ] 100% | ETA: 00:34:54"
     ]
    },
    {
     "name": "stdout",
     "output_type": "stream",
     "text": [
      "train loss : 1.7015788031256749\r"
     ]
    },
    {
     "name": "stderr",
     "output_type": "stream",
     "text": [
      "\r",
      "0% [███████████████               ] 100% | ETA: 00:32:42"
     ]
    },
    {
     "name": "stdout",
     "output_type": "stream",
     "text": [
      "train loss : 1.7072776053980814\r"
     ]
    },
    {
     "name": "stderr",
     "output_type": "stream",
     "text": [
      "\r",
      "0% [████████████████              ] 100% | ETA: 00:30:29"
     ]
    },
    {
     "name": "stdout",
     "output_type": "stream",
     "text": [
      "train loss : 1.7164567502783448\r"
     ]
    },
    {
     "name": "stderr",
     "output_type": "stream",
     "text": [
      "\r",
      "0% [█████████████████             ] 100% | ETA: 00:28:18"
     ]
    },
    {
     "name": "stdout",
     "output_type": "stream",
     "text": [
      "train loss : 1.7286211029478005\r"
     ]
    },
    {
     "name": "stderr",
     "output_type": "stream",
     "text": [
      "\r",
      "0% [██████████████████            ] 100% | ETA: 00:26:08"
     ]
    },
    {
     "name": "stdout",
     "output_type": "stream",
     "text": [
      "train loss : 1.7377359436865074\r"
     ]
    },
    {
     "name": "stderr",
     "output_type": "stream",
     "text": [
      "\r",
      "0% [███████████████████           ] 100% | ETA: 00:23:57"
     ]
    },
    {
     "name": "stdout",
     "output_type": "stream",
     "text": [
      "train loss : 1.7565329937459542\r"
     ]
    },
    {
     "name": "stderr",
     "output_type": "stream",
     "text": [
      "\r",
      "0% [████████████████████          ] 100% | ETA: 00:21:49"
     ]
    },
    {
     "name": "stdout",
     "output_type": "stream",
     "text": [
      "train loss : 1.7706002455542886\r"
     ]
    },
    {
     "name": "stderr",
     "output_type": "stream",
     "text": [
      "\r",
      "0% [█████████████████████         ] 100% | ETA: 00:19:36"
     ]
    },
    {
     "name": "stdout",
     "output_type": "stream",
     "text": [
      "train loss : 1.7805537908053346\r"
     ]
    },
    {
     "name": "stderr",
     "output_type": "stream",
     "text": [
      "\r",
      "0% [██████████████████████        ] 100% | ETA: 00:17:24"
     ]
    },
    {
     "name": "stdout",
     "output_type": "stream",
     "text": [
      "train loss : 1.7820930547501943\r"
     ]
    },
    {
     "name": "stderr",
     "output_type": "stream",
     "text": [
      "\r",
      "0% [███████████████████████       ] 100% | ETA: 00:15:15"
     ]
    },
    {
     "name": "stdout",
     "output_type": "stream",
     "text": [
      "train loss : 1.7938729364740489\r"
     ]
    },
    {
     "name": "stderr",
     "output_type": "stream",
     "text": [
      "\r",
      "0% [████████████████████████      ] 100% | ETA: 00:13:05"
     ]
    },
    {
     "name": "stdout",
     "output_type": "stream",
     "text": [
      "train loss : 1.8096517934953933\r"
     ]
    },
    {
     "name": "stderr",
     "output_type": "stream",
     "text": [
      "\r",
      "0% [█████████████████████████     ] 100% | ETA: 00:10:53"
     ]
    },
    {
     "name": "stdout",
     "output_type": "stream",
     "text": [
      "train loss : 1.8247670843203863\r"
     ]
    },
    {
     "name": "stderr",
     "output_type": "stream",
     "text": [
      "\r",
      "0% [██████████████████████████    ] 100% | ETA: 00:08:44"
     ]
    },
    {
     "name": "stdout",
     "output_type": "stream",
     "text": [
      "train loss : 1.8443494147187491\r"
     ]
    },
    {
     "name": "stderr",
     "output_type": "stream",
     "text": [
      "\r",
      "0% [███████████████████████████   ] 100% | ETA: 00:06:32"
     ]
    },
    {
     "name": "stdout",
     "output_type": "stream",
     "text": [
      "train loss : 1.8469543234016683\r"
     ]
    },
    {
     "name": "stderr",
     "output_type": "stream",
     "text": [
      "\r",
      "0% [████████████████████████████  ] 100% | ETA: 00:04:20"
     ]
    },
    {
     "name": "stdout",
     "output_type": "stream",
     "text": [
      "train loss : 1.8541476465012963\r"
     ]
    },
    {
     "name": "stderr",
     "output_type": "stream",
     "text": [
      "\r",
      "0% [█████████████████████████████ ] 100% | ETA: 00:02:10"
     ]
    },
    {
     "name": "stdout",
     "output_type": "stream",
     "text": [
      "train loss : 1.8628652208727323\r"
     ]
    },
    {
     "name": "stderr",
     "output_type": "stream",
     "text": [
      "0% [██████████████████████████████] 100% | ETA: 00:00:00\n",
      "Total time elapsed: 01:05:31\n"
     ]
    },
    {
     "name": "stdout",
     "output_type": "stream",
     "text": [
      "train loss : 1.864269495909921\n",
      "predicted caption:\n",
      "a elephants are splashing . \n",
      "\n",
      "actual caption:\n",
      "two animals are fighting . \n",
      "train loss : 1.9409177274931044\r"
     ]
    },
    {
     "name": "stderr",
     "output_type": "stream",
     "text": [
      "\r",
      "0% [█                             ] 100% | ETA: 01:03:15"
     ]
    },
    {
     "name": "stdout",
     "output_type": "stream",
     "text": [
      "train loss : 1.8709280306384677\r"
     ]
    },
    {
     "name": "stderr",
     "output_type": "stream",
     "text": [
      "\r",
      "0% [██                            ] 100% | ETA: 01:01:02"
     ]
    },
    {
     "name": "stdout",
     "output_type": "stream",
     "text": [
      "train loss : 1.8690124028607418\r"
     ]
    },
    {
     "name": "stderr",
     "output_type": "stream",
     "text": [
      "\r",
      "0% [███                           ] 100% | ETA: 00:58:34"
     ]
    },
    {
     "name": "stdout",
     "output_type": "stream",
     "text": [
      "train loss : 1.7692629520114012\r"
     ]
    },
    {
     "name": "stderr",
     "output_type": "stream",
     "text": [
      "\r",
      "0% [████                          ] 100% | ETA: 00:56:22"
     ]
    },
    {
     "name": "stdout",
     "output_type": "stream",
     "text": [
      "train loss : 1.7751617866923757\r"
     ]
    },
    {
     "name": "stderr",
     "output_type": "stream",
     "text": [
      "\r",
      "0% [█████                         ] 100% | ETA: 00:54:33"
     ]
    },
    {
     "name": "stdout",
     "output_type": "stream",
     "text": [
      "train loss : 1.7654031533943984\r"
     ]
    },
    {
     "name": "stderr",
     "output_type": "stream",
     "text": [
      "\r",
      "0% [██████                        ] 100% | ETA: 00:52:24"
     ]
    },
    {
     "name": "stdout",
     "output_type": "stream",
     "text": [
      "train loss : 1.7269661950098503\r"
     ]
    },
    {
     "name": "stderr",
     "output_type": "stream",
     "text": [
      "\r",
      "0% [███████                       ] 100% | ETA: 00:50:13"
     ]
    },
    {
     "name": "stdout",
     "output_type": "stream",
     "text": [
      "train loss : 1.7425532283691259\r"
     ]
    },
    {
     "name": "stderr",
     "output_type": "stream",
     "text": [
      "\r",
      "0% [████████                      ] 100% | ETA: 00:48:01"
     ]
    },
    {
     "name": "stdout",
     "output_type": "stream",
     "text": [
      "train loss : 1.7364409456058894\r"
     ]
    },
    {
     "name": "stderr",
     "output_type": "stream",
     "text": [
      "\r",
      "0% [█████████                     ] 100% | ETA: 00:45:48"
     ]
    },
    {
     "name": "stdout",
     "output_type": "stream",
     "text": [
      "train loss : 1.7150762231565837\r"
     ]
    },
    {
     "name": "stderr",
     "output_type": "stream",
     "text": [
      "\r",
      "0% [██████████                    ] 100% | ETA: 00:43:38"
     ]
    },
    {
     "name": "stdout",
     "output_type": "stream",
     "text": [
      "train loss : 1.7240811610503661\r"
     ]
    },
    {
     "name": "stderr",
     "output_type": "stream",
     "text": [
      "\r",
      "0% [███████████                   ] 100% | ETA: 00:41:28"
     ]
    },
    {
     "name": "stdout",
     "output_type": "stream",
     "text": [
      "train loss : 1.7198212500196561\r"
     ]
    },
    {
     "name": "stderr",
     "output_type": "stream",
     "text": [
      "\r",
      "0% [████████████                  ] 100% | ETA: 00:39:19"
     ]
    },
    {
     "name": "stdout",
     "output_type": "stream",
     "text": [
      "train loss : 1.7535566548325798\r"
     ]
    },
    {
     "name": "stderr",
     "output_type": "stream",
     "text": [
      "\r",
      "0% [█████████████                 ] 100% | ETA: 00:37:04"
     ]
    },
    {
     "name": "stdout",
     "output_type": "stream",
     "text": [
      "train loss : 1.7453640161065367\r"
     ]
    },
    {
     "name": "stderr",
     "output_type": "stream",
     "text": [
      "\r",
      "0% [██████████████                ] 100% | ETA: 00:34:53"
     ]
    },
    {
     "name": "stdout",
     "output_type": "stream",
     "text": [
      "train loss : 1.7680152481531395\r"
     ]
    },
    {
     "name": "stderr",
     "output_type": "stream",
     "text": [
      "\r",
      "0% [███████████████               ] 100% | ETA: 00:32:41"
     ]
    },
    {
     "name": "stdout",
     "output_type": "stream",
     "text": [
      "train loss : 1.7622695738875026\r"
     ]
    },
    {
     "name": "stderr",
     "output_type": "stream",
     "text": [
      "\r",
      "0% [████████████████              ] 100% | ETA: 00:30:31"
     ]
    },
    {
     "name": "stdout",
     "output_type": "stream",
     "text": [
      "train loss : 1.7524440072829024\r"
     ]
    },
    {
     "name": "stderr",
     "output_type": "stream",
     "text": [
      "\r",
      "0% [█████████████████             ] 100% | ETA: 00:28:21"
     ]
    },
    {
     "name": "stdout",
     "output_type": "stream",
     "text": [
      "train loss : 1.7725153614990348\r"
     ]
    },
    {
     "name": "stderr",
     "output_type": "stream",
     "text": [
      "\r",
      "0% [██████████████████            ] 100% | ETA: 00:26:12"
     ]
    },
    {
     "name": "stdout",
     "output_type": "stream",
     "text": [
      "train loss : 1.7682078264245945\r"
     ]
    },
    {
     "name": "stderr",
     "output_type": "stream",
     "text": [
      "\r",
      "0% [███████████████████           ] 100% | ETA: 00:24:01"
     ]
    },
    {
     "name": "stdout",
     "output_type": "stream",
     "text": [
      "train loss : 1.7739383105549689\r"
     ]
    },
    {
     "name": "stderr",
     "output_type": "stream",
     "text": [
      "\r",
      "0% [████████████████████          ] 100% | ETA: 00:21:52"
     ]
    },
    {
     "name": "stdout",
     "output_type": "stream",
     "text": [
      "train loss : 1.7856658909970091\r"
     ]
    },
    {
     "name": "stderr",
     "output_type": "stream",
     "text": [
      "\r",
      "0% [█████████████████████         ] 100% | ETA: 00:19:40"
     ]
    },
    {
     "name": "stdout",
     "output_type": "stream",
     "text": [
      "train loss : 1.8001427467627105\r"
     ]
    },
    {
     "name": "stderr",
     "output_type": "stream",
     "text": [
      "\r",
      "0% [██████████████████████        ] 100% | ETA: 00:17:27"
     ]
    },
    {
     "name": "stdout",
     "output_type": "stream",
     "text": [
      "train loss : 1.8038519736226292\r"
     ]
    },
    {
     "name": "stderr",
     "output_type": "stream",
     "text": [
      "\r",
      "0% [███████████████████████       ] 100% | ETA: 00:15:17"
     ]
    },
    {
     "name": "stdout",
     "output_type": "stream",
     "text": [
      "train loss : 1.8005943065087262\r"
     ]
    },
    {
     "name": "stderr",
     "output_type": "stream",
     "text": [
      "\r",
      "0% [████████████████████████      ] 100% | ETA: 00:13:07"
     ]
    },
    {
     "name": "stdout",
     "output_type": "stream",
     "text": [
      "train loss : 1.8011978831806494\r"
     ]
    },
    {
     "name": "stderr",
     "output_type": "stream",
     "text": [
      "\r",
      "0% [█████████████████████████     ] 100% | ETA: 00:10:54"
     ]
    },
    {
     "name": "stdout",
     "output_type": "stream",
     "text": [
      "train loss : 1.8142217527555697\r"
     ]
    },
    {
     "name": "stderr",
     "output_type": "stream",
     "text": [
      "\r",
      "0% [██████████████████████████    ] 100% | ETA: 00:08:44"
     ]
    },
    {
     "name": "stdout",
     "output_type": "stream",
     "text": [
      "train loss : 1.8208754610709394\r"
     ]
    },
    {
     "name": "stderr",
     "output_type": "stream",
     "text": [
      "\r",
      "0% [███████████████████████████   ] 100% | ETA: 00:06:32"
     ]
    },
    {
     "name": "stdout",
     "output_type": "stream",
     "text": [
      "train loss : 1.8299167304728243\r"
     ]
    },
    {
     "name": "stderr",
     "output_type": "stream",
     "text": [
      "\r",
      "0% [████████████████████████████  ] 100% | ETA: 00:04:20"
     ]
    },
    {
     "name": "stdout",
     "output_type": "stream",
     "text": [
      "train loss : 1.8361595720295544\r"
     ]
    },
    {
     "name": "stderr",
     "output_type": "stream",
     "text": [
      "\r",
      "0% [█████████████████████████████ ] 100% | ETA: 00:02:10"
     ]
    },
    {
     "name": "stdout",
     "output_type": "stream",
     "text": [
      "train loss : 1.8412605907079302\r"
     ]
    },
    {
     "name": "stderr",
     "output_type": "stream",
     "text": [
      "0% [██████████████████████████████] 100% | ETA: 00:00:00\n",
      "Total time elapsed: 01:05:34\n"
     ]
    },
    {
     "name": "stdout",
     "output_type": "stream",
     "text": [
      "train loss : 1.8411819701276113\n",
      "predicted caption:\n",
      "a puppy is takes sunglasses out of a dark bag . puts them on . \n",
      "\n",
      "actual caption:\n",
      "a woman sunbather takes sunglasses out of a dark bag and puts them on . \n",
      "train loss : 1.5751647660656584\r"
     ]
    },
    {
     "name": "stderr",
     "output_type": "stream",
     "text": [
      "\r",
      "0% [█                             ] 100% | ETA: 01:02:40"
     ]
    },
    {
     "name": "stdout",
     "output_type": "stream",
     "text": [
      "train loss : 1.5595567801168986\r"
     ]
    },
    {
     "name": "stderr",
     "output_type": "stream",
     "text": [
      "\r",
      "0% [██                            ] 100% | ETA: 01:00:51"
     ]
    },
    {
     "name": "stdout",
     "output_type": "stream",
     "text": [
      "train loss : 1.5748864123695776\r"
     ]
    },
    {
     "name": "stderr",
     "output_type": "stream",
     "text": [
      "\r",
      "0% [███                           ] 100% | ETA: 00:59:01"
     ]
    },
    {
     "name": "stdout",
     "output_type": "stream",
     "text": [
      "train loss : 1.5659148845616289\r"
     ]
    },
    {
     "name": "stderr",
     "output_type": "stream",
     "text": [
      "\r",
      "0% [████                          ] 100% | ETA: 00:56:37"
     ]
    },
    {
     "name": "stdout",
     "output_type": "stream",
     "text": [
      "train loss : 1.6264098527303636\r"
     ]
    },
    {
     "name": "stderr",
     "output_type": "stream",
     "text": [
      "\r",
      "0% [█████                         ] 100% | ETA: 00:54:22"
     ]
    },
    {
     "name": "stdout",
     "output_type": "stream",
     "text": [
      "train loss : 1.6009660757685962\r"
     ]
    },
    {
     "name": "stderr",
     "output_type": "stream",
     "text": [
      "\r",
      "0% [██████                        ] 100% | ETA: 00:52:22"
     ]
    },
    {
     "name": "stdout",
     "output_type": "stream",
     "text": [
      "train loss : 1.6418576477481447\r"
     ]
    },
    {
     "name": "stderr",
     "output_type": "stream",
     "text": [
      "\r",
      "0% [███████                       ] 100% | ETA: 00:50:08"
     ]
    },
    {
     "name": "stdout",
     "output_type": "stream",
     "text": [
      "train loss : 1.6574975332682425\r"
     ]
    },
    {
     "name": "stderr",
     "output_type": "stream",
     "text": [
      "\r",
      "0% [████████                      ] 100% | ETA: 00:47:57"
     ]
    },
    {
     "name": "stdout",
     "output_type": "stream",
     "text": [
      "train loss : 1.6651719542915058\r"
     ]
    },
    {
     "name": "stderr",
     "output_type": "stream",
     "text": [
      "\r",
      "0% [█████████                     ] 100% | ETA: 00:45:44"
     ]
    },
    {
     "name": "stdout",
     "output_type": "stream",
     "text": [
      "train loss : 1.6978789303715773\r"
     ]
    },
    {
     "name": "stderr",
     "output_type": "stream",
     "text": [
      "\r",
      "0% [██████████                    ] 100% | ETA: 00:43:33"
     ]
    },
    {
     "name": "stdout",
     "output_type": "stream",
     "text": [
      "train loss : 1.6976952620256254\r"
     ]
    },
    {
     "name": "stderr",
     "output_type": "stream",
     "text": [
      "\r",
      "0% [███████████                   ] 100% | ETA: 00:41:24"
     ]
    },
    {
     "name": "stdout",
     "output_type": "stream",
     "text": [
      "train loss : 1.7010584596187158\r"
     ]
    },
    {
     "name": "stderr",
     "output_type": "stream",
     "text": [
      "\r",
      "0% [████████████                  ] 100% | ETA: 00:39:18"
     ]
    },
    {
     "name": "stdout",
     "output_type": "stream",
     "text": [
      "train loss : 1.7027523942788443\r"
     ]
    },
    {
     "name": "stderr",
     "output_type": "stream",
     "text": [
      "\r",
      "0% [█████████████                 ] 100% | ETA: 00:37:09"
     ]
    },
    {
     "name": "stdout",
     "output_type": "stream",
     "text": [
      "train loss : 1.7209559679366984\r"
     ]
    },
    {
     "name": "stderr",
     "output_type": "stream",
     "text": [
      "\r",
      "0% [██████████████                ] 100% | ETA: 00:35:01"
     ]
    },
    {
     "name": "stdout",
     "output_type": "stream",
     "text": [
      "train loss : 1.7168413913738327\r"
     ]
    },
    {
     "name": "stderr",
     "output_type": "stream",
     "text": [
      "\r",
      "0% [███████████████               ] 100% | ETA: 00:32:46"
     ]
    },
    {
     "name": "stdout",
     "output_type": "stream",
     "text": [
      "train loss : 1.7036971341173246\r"
     ]
    },
    {
     "name": "stderr",
     "output_type": "stream",
     "text": [
      "\r",
      "0% [████████████████              ] 100% | ETA: 00:30:32"
     ]
    },
    {
     "name": "stdout",
     "output_type": "stream",
     "text": [
      "train loss : 1.7037823124822364\r"
     ]
    },
    {
     "name": "stderr",
     "output_type": "stream",
     "text": [
      "\r",
      "0% [█████████████████             ] 100% | ETA: 00:28:23"
     ]
    },
    {
     "name": "stdout",
     "output_type": "stream",
     "text": [
      "train loss : 1.6940686777625527\r"
     ]
    },
    {
     "name": "stderr",
     "output_type": "stream",
     "text": [
      "\r",
      "0% [██████████████████            ] 100% | ETA: 00:26:12"
     ]
    },
    {
     "name": "stdout",
     "output_type": "stream",
     "text": [
      "train loss : 1.7002199440700308\r"
     ]
    },
    {
     "name": "stderr",
     "output_type": "stream",
     "text": [
      "\r",
      "0% [███████████████████           ] 100% | ETA: 00:23:59"
     ]
    },
    {
     "name": "stdout",
     "output_type": "stream",
     "text": [
      "train loss : 1.7024403609940157\r"
     ]
    },
    {
     "name": "stderr",
     "output_type": "stream",
     "text": [
      "\r",
      "0% [████████████████████          ] 100% | ETA: 00:21:49"
     ]
    },
    {
     "name": "stdout",
     "output_type": "stream",
     "text": [
      "train loss : 1.6958134458508602\r"
     ]
    },
    {
     "name": "stderr",
     "output_type": "stream",
     "text": [
      "\r",
      "0% [█████████████████████         ] 100% | ETA: 00:19:38"
     ]
    },
    {
     "name": "stdout",
     "output_type": "stream",
     "text": [
      "train loss : 1.6950928053005985\r"
     ]
    },
    {
     "name": "stderr",
     "output_type": "stream",
     "text": [
      "\r",
      "0% [██████████████████████        ] 100% | ETA: 00:17:25"
     ]
    },
    {
     "name": "stdout",
     "output_type": "stream",
     "text": [
      "train loss : 1.6968409749538937\r"
     ]
    },
    {
     "name": "stderr",
     "output_type": "stream",
     "text": [
      "\r",
      "0% [███████████████████████       ] 100% | ETA: 00:15:15"
     ]
    },
    {
     "name": "stdout",
     "output_type": "stream",
     "text": [
      "train loss : 1.7112385567793782\r"
     ]
    },
    {
     "name": "stderr",
     "output_type": "stream",
     "text": [
      "\r",
      "0% [████████████████████████      ] 100% | ETA: 00:13:05"
     ]
    },
    {
     "name": "stdout",
     "output_type": "stream",
     "text": [
      "train loss : 1.7165343133285545\r"
     ]
    },
    {
     "name": "stderr",
     "output_type": "stream",
     "text": [
      "\r",
      "0% [█████████████████████████     ] 100% | ETA: 00:10:53"
     ]
    },
    {
     "name": "stdout",
     "output_type": "stream",
     "text": [
      "train loss : 1.7172809462655674\r"
     ]
    },
    {
     "name": "stderr",
     "output_type": "stream",
     "text": [
      "\r",
      "0% [██████████████████████████    ] 100% | ETA: 00:08:44"
     ]
    },
    {
     "name": "stdout",
     "output_type": "stream",
     "text": [
      "train loss : 1.7201615162063368\r"
     ]
    },
    {
     "name": "stderr",
     "output_type": "stream",
     "text": [
      "\r",
      "0% [███████████████████████████   ] 100% | ETA: 00:06:32"
     ]
    },
    {
     "name": "stdout",
     "output_type": "stream",
     "text": [
      "train loss : 1.7348173854137163\r"
     ]
    },
    {
     "name": "stderr",
     "output_type": "stream",
     "text": [
      "\r",
      "0% [████████████████████████████  ] 100% | ETA: 00:04:20"
     ]
    },
    {
     "name": "stdout",
     "output_type": "stream",
     "text": [
      "train loss : 1.7324513532767667\r"
     ]
    },
    {
     "name": "stderr",
     "output_type": "stream",
     "text": [
      "\r",
      "0% [█████████████████████████████ ] 100% | ETA: 00:02:10"
     ]
    },
    {
     "name": "stdout",
     "output_type": "stream",
     "text": [
      "train loss : 1.7329852099006043\r"
     ]
    },
    {
     "name": "stderr",
     "output_type": "stream",
     "text": [
      "0% [██████████████████████████████] 100% | ETA: 00:00:00\n",
      "Total time elapsed: 01:05:34\n"
     ]
    },
    {
     "name": "stdout",
     "output_type": "stream",
     "text": [
      "train loss : 1.7337929362778275\n",
      "predicted caption:\n",
      "a men women are synchronized dancing . \n",
      "\n",
      "actual caption:\n",
      "three animated women are synchronized dancing . \n",
      "train loss : 1.5510642736677145\r"
     ]
    },
    {
     "name": "stderr",
     "output_type": "stream",
     "text": [
      "\r",
      "0% [█                             ] 100% | ETA: 01:03:24"
     ]
    },
    {
     "name": "stdout",
     "output_type": "stream",
     "text": [
      "train loss : 1.5597546758159769\r"
     ]
    },
    {
     "name": "stderr",
     "output_type": "stream",
     "text": [
      "\r",
      "0% [██                            ] 100% | ETA: 01:00:43"
     ]
    },
    {
     "name": "stdout",
     "output_type": "stream",
     "text": [
      "train loss : 1.5841872591721384\r"
     ]
    },
    {
     "name": "stderr",
     "output_type": "stream",
     "text": [
      "\r",
      "0% [███                           ] 100% | ETA: 00:58:38"
     ]
    },
    {
     "name": "stdout",
     "output_type": "stream",
     "text": [
      "train loss : 1.5734700153427877\r"
     ]
    },
    {
     "name": "stderr",
     "output_type": "stream",
     "text": [
      "\r",
      "0% [████                          ] 100% | ETA: 00:56:25"
     ]
    },
    {
     "name": "stdout",
     "output_type": "stream",
     "text": [
      "train loss : 1.5418639174583206\r"
     ]
    },
    {
     "name": "stderr",
     "output_type": "stream",
     "text": [
      "\r",
      "0% [█████                         ] 100% | ETA: 00:54:22"
     ]
    },
    {
     "name": "stdout",
     "output_type": "stream",
     "text": [
      "train loss : 1.5517069873056915\r"
     ]
    },
    {
     "name": "stderr",
     "output_type": "stream",
     "text": [
      "\r",
      "0% [██████                        ] 100% | ETA: 00:52:23"
     ]
    },
    {
     "name": "stdout",
     "output_type": "stream",
     "text": [
      "train loss : 1.5615854735175774\r"
     ]
    },
    {
     "name": "stderr",
     "output_type": "stream",
     "text": [
      "\r",
      "0% [███████                       ] 100% | ETA: 00:50:18"
     ]
    },
    {
     "name": "stdout",
     "output_type": "stream",
     "text": [
      "train loss : 1.5583724148527405\r"
     ]
    },
    {
     "name": "stderr",
     "output_type": "stream",
     "text": [
      "\r",
      "0% [████████                      ] 100% | ETA: 00:48:07"
     ]
    },
    {
     "name": "stdout",
     "output_type": "stream",
     "text": [
      "train loss : 1.5612866475316982\r"
     ]
    },
    {
     "name": "stderr",
     "output_type": "stream",
     "text": [
      "\r",
      "0% [█████████                     ] 100% | ETA: 00:45:54"
     ]
    },
    {
     "name": "stdout",
     "output_type": "stream",
     "text": [
      "train loss : 1.5772643464052771\r"
     ]
    },
    {
     "name": "stderr",
     "output_type": "stream",
     "text": [
      "\r",
      "0% [██████████                    ] 100% | ETA: 00:43:47"
     ]
    },
    {
     "name": "stdout",
     "output_type": "stream",
     "text": [
      "train loss : 1.5663322596076907\r"
     ]
    },
    {
     "name": "stderr",
     "output_type": "stream",
     "text": [
      "\r",
      "0% [███████████                   ] 100% | ETA: 00:41:33"
     ]
    },
    {
     "name": "stdout",
     "output_type": "stream",
     "text": [
      "train loss : 1.5744470771641987\r"
     ]
    },
    {
     "name": "stderr",
     "output_type": "stream",
     "text": [
      "\r",
      "0% [████████████                  ] 100% | ETA: 00:39:21"
     ]
    },
    {
     "name": "stdout",
     "output_type": "stream",
     "text": [
      "train loss : 1.5696831768028663\r"
     ]
    },
    {
     "name": "stderr",
     "output_type": "stream",
     "text": [
      "\r",
      "0% [█████████████                 ] 100% | ETA: 00:37:10"
     ]
    },
    {
     "name": "stdout",
     "output_type": "stream",
     "text": [
      "train loss : 1.5707743128610623\r"
     ]
    },
    {
     "name": "stderr",
     "output_type": "stream",
     "text": [
      "\r",
      "0% [██████████████                ] 100% | ETA: 00:34:59"
     ]
    },
    {
     "name": "stdout",
     "output_type": "stream",
     "text": [
      "train loss : 1.5815881542047532\r"
     ]
    },
    {
     "name": "stderr",
     "output_type": "stream",
     "text": [
      "\r",
      "0% [███████████████               ] 100% | ETA: 00:32:47"
     ]
    },
    {
     "name": "stdout",
     "output_type": "stream",
     "text": [
      "train loss : 1.5937768223688125\r"
     ]
    },
    {
     "name": "stderr",
     "output_type": "stream",
     "text": [
      "\r",
      "0% [████████████████              ] 100% | ETA: 00:30:35"
     ]
    },
    {
     "name": "stdout",
     "output_type": "stream",
     "text": [
      "train loss : 1.5880201681965032\r"
     ]
    },
    {
     "name": "stderr",
     "output_type": "stream",
     "text": [
      "\r",
      "0% [█████████████████             ] 100% | ETA: 00:28:24"
     ]
    },
    {
     "name": "stdout",
     "output_type": "stream",
     "text": [
      "train loss : 1.5987272177367828\r"
     ]
    },
    {
     "name": "stderr",
     "output_type": "stream",
     "text": [
      "\r",
      "0% [██████████████████            ] 100% | ETA: 00:26:13"
     ]
    },
    {
     "name": "stdout",
     "output_type": "stream",
     "text": [
      "train loss : 1.6066872015916696\r"
     ]
    },
    {
     "name": "stderr",
     "output_type": "stream",
     "text": [
      "\r",
      "0% [███████████████████           ] 100% | ETA: 00:24:02"
     ]
    },
    {
     "name": "stdout",
     "output_type": "stream",
     "text": [
      "train loss : 1.6205186481265406\r"
     ]
    },
    {
     "name": "stderr",
     "output_type": "stream",
     "text": [
      "\r",
      "0% [████████████████████          ] 100% | ETA: 00:21:50"
     ]
    },
    {
     "name": "stdout",
     "output_type": "stream",
     "text": [
      "train loss : 1.6276322267865742\r"
     ]
    },
    {
     "name": "stderr",
     "output_type": "stream",
     "text": [
      "\r",
      "0% [█████████████████████         ] 100% | ETA: 00:19:38"
     ]
    },
    {
     "name": "stdout",
     "output_type": "stream",
     "text": [
      "train loss : 1.6406617002480357\r"
     ]
    },
    {
     "name": "stderr",
     "output_type": "stream",
     "text": [
      "\r",
      "0% [██████████████████████        ] 100% | ETA: 00:17:26"
     ]
    },
    {
     "name": "stdout",
     "output_type": "stream",
     "text": [
      "train loss : 1.6436905754551496\r"
     ]
    },
    {
     "name": "stderr",
     "output_type": "stream",
     "text": [
      "\r",
      "0% [███████████████████████       ] 100% | ETA: 00:15:16"
     ]
    },
    {
     "name": "stdout",
     "output_type": "stream",
     "text": [
      "train loss : 1.6517016894905017\r"
     ]
    },
    {
     "name": "stderr",
     "output_type": "stream",
     "text": [
      "\r",
      "0% [████████████████████████      ] 100% | ETA: 00:13:06"
     ]
    },
    {
     "name": "stdout",
     "output_type": "stream",
     "text": [
      "train loss : 1.6556577872538911\r"
     ]
    },
    {
     "name": "stderr",
     "output_type": "stream",
     "text": [
      "\r",
      "0% [█████████████████████████     ] 100% | ETA: 00:10:54"
     ]
    },
    {
     "name": "stdout",
     "output_type": "stream",
     "text": [
      "train loss : 1.6627594761776265\r"
     ]
    },
    {
     "name": "stderr",
     "output_type": "stream",
     "text": [
      "\r",
      "0% [██████████████████████████    ] 100% | ETA: 00:08:44"
     ]
    },
    {
     "name": "stdout",
     "output_type": "stream",
     "text": [
      "train loss : 1.6750695527538815\r"
     ]
    },
    {
     "name": "stderr",
     "output_type": "stream",
     "text": [
      "\r",
      "0% [███████████████████████████   ] 100% | ETA: 00:06:32"
     ]
    },
    {
     "name": "stdout",
     "output_type": "stream",
     "text": [
      "train loss : 1.6911138772243723\r"
     ]
    },
    {
     "name": "stderr",
     "output_type": "stream",
     "text": [
      "\r",
      "0% [████████████████████████████  ] 100% | ETA: 00:04:20"
     ]
    },
    {
     "name": "stdout",
     "output_type": "stream",
     "text": [
      "train loss : 1.7076605735736218\r"
     ]
    },
    {
     "name": "stderr",
     "output_type": "stream",
     "text": [
      "\r",
      "0% [█████████████████████████████ ] 100% | ETA: 00:02:10"
     ]
    },
    {
     "name": "stdout",
     "output_type": "stream",
     "text": [
      "train loss : 1.7264539867623893\r"
     ]
    },
    {
     "name": "stderr",
     "output_type": "stream",
     "text": [
      "0% [██████████████████████████████] 100% | ETA: 00:00:00\n",
      "Total time elapsed: 01:05:32\n"
     ]
    },
    {
     "name": "stdout",
     "output_type": "stream",
     "text": [
      "train loss : 1.7265346263884873\n",
      "predicted caption:\n",
      "a woman is and fires a rifle . \n",
      "\n",
      "actual caption:\n",
      "a man aims and fires a rifle . \n",
      "train loss : 1.5975848592462993\r"
     ]
    },
    {
     "name": "stderr",
     "output_type": "stream",
     "text": [
      "\r",
      "0% [█                             ] 100% | ETA: 01:03:36"
     ]
    },
    {
     "name": "stdout",
     "output_type": "stream",
     "text": [
      "train loss : 1.6022399668655698\r"
     ]
    },
    {
     "name": "stderr",
     "output_type": "stream",
     "text": [
      "\r",
      "0% [██                            ] 100% | ETA: 01:00:59"
     ]
    },
    {
     "name": "stdout",
     "output_type": "stream",
     "text": [
      "train loss : 1.6088591654049722\r"
     ]
    },
    {
     "name": "stderr",
     "output_type": "stream",
     "text": [
      "\r",
      "0% [███                           ] 100% | ETA: 00:58:32"
     ]
    },
    {
     "name": "stdout",
     "output_type": "stream",
     "text": [
      "train loss : 1.6235022908589973\r"
     ]
    },
    {
     "name": "stderr",
     "output_type": "stream",
     "text": [
      "\r",
      "0% [████                          ] 100% | ETA: 00:56:14"
     ]
    },
    {
     "name": "stdout",
     "output_type": "stream",
     "text": [
      "train loss : 1.6337041588799817\r"
     ]
    },
    {
     "name": "stderr",
     "output_type": "stream",
     "text": [
      "\r",
      "0% [█████                         ] 100% | ETA: 00:54:14"
     ]
    },
    {
     "name": "stdout",
     "output_type": "stream",
     "text": [
      "train loss : 1.6371709990658259\r"
     ]
    },
    {
     "name": "stderr",
     "output_type": "stream",
     "text": [
      "\r",
      "0% [██████                        ] 100% | ETA: 00:52:00"
     ]
    },
    {
     "name": "stdout",
     "output_type": "stream",
     "text": [
      "train loss : 1.6441666220759485\r"
     ]
    },
    {
     "name": "stderr",
     "output_type": "stream",
     "text": [
      "\r",
      "0% [███████                       ] 100% | ETA: 00:49:51"
     ]
    },
    {
     "name": "stdout",
     "output_type": "stream",
     "text": [
      "train loss : 1.6520515454003561\r"
     ]
    },
    {
     "name": "stderr",
     "output_type": "stream",
     "text": [
      "\r",
      "0% [████████                      ] 100% | ETA: 00:47:47"
     ]
    },
    {
     "name": "stdout",
     "output_type": "stream",
     "text": [
      "train loss : 1.6703326703422758\r"
     ]
    },
    {
     "name": "stderr",
     "output_type": "stream",
     "text": [
      "\r",
      "0% [█████████                     ] 100% | ETA: 00:45:38"
     ]
    },
    {
     "name": "stdout",
     "output_type": "stream",
     "text": [
      "train loss : 1.6842972733608381\r"
     ]
    },
    {
     "name": "stderr",
     "output_type": "stream",
     "text": [
      "\r",
      "0% [██████████                    ] 100% | ETA: 00:43:26"
     ]
    },
    {
     "name": "stdout",
     "output_type": "stream",
     "text": [
      "train loss : 1.6961460242683026\r"
     ]
    },
    {
     "name": "stderr",
     "output_type": "stream",
     "text": [
      "\r",
      "0% [███████████                   ] 100% | ETA: 00:41:22"
     ]
    },
    {
     "name": "stdout",
     "output_type": "stream",
     "text": [
      "train loss : 1.7133508792218022\r"
     ]
    },
    {
     "name": "stderr",
     "output_type": "stream",
     "text": [
      "\r",
      "0% [████████████                  ] 100% | ETA: 00:39:12"
     ]
    },
    {
     "name": "stdout",
     "output_type": "stream",
     "text": [
      "train loss : 1.7079983024886165\r"
     ]
    },
    {
     "name": "stderr",
     "output_type": "stream",
     "text": [
      "\r",
      "0% [█████████████                 ] 100% | ETA: 00:37:03"
     ]
    },
    {
     "name": "stdout",
     "output_type": "stream",
     "text": [
      "train loss : 1.7106228872193947\r"
     ]
    },
    {
     "name": "stderr",
     "output_type": "stream",
     "text": [
      "\r",
      "0% [██████████████                ] 100% | ETA: 00:34:53"
     ]
    },
    {
     "name": "stdout",
     "output_type": "stream",
     "text": [
      "train loss : 1.7226640532935868\r"
     ]
    },
    {
     "name": "stderr",
     "output_type": "stream",
     "text": [
      "\r",
      "0% [███████████████               ] 100% | ETA: 00:32:40"
     ]
    },
    {
     "name": "stdout",
     "output_type": "stream",
     "text": [
      "train loss : 1.7340264598156994\r"
     ]
    },
    {
     "name": "stderr",
     "output_type": "stream",
     "text": [
      "\r",
      "0% [████████████████              ] 100% | ETA: 00:30:29"
     ]
    },
    {
     "name": "stdout",
     "output_type": "stream",
     "text": [
      "train loss : 1.7252016132826933\r"
     ]
    },
    {
     "name": "stderr",
     "output_type": "stream",
     "text": [
      "\r",
      "0% [█████████████████             ] 100% | ETA: 00:28:20"
     ]
    },
    {
     "name": "stdout",
     "output_type": "stream",
     "text": [
      "train loss : 1.7319034023533353\r"
     ]
    },
    {
     "name": "stderr",
     "output_type": "stream",
     "text": [
      "\r",
      "0% [██████████████████            ] 100% | ETA: 00:26:12"
     ]
    },
    {
     "name": "stdout",
     "output_type": "stream",
     "text": [
      "train loss : 1.7302604484222026\r"
     ]
    },
    {
     "name": "stderr",
     "output_type": "stream",
     "text": [
      "\r",
      "0% [███████████████████           ] 100% | ETA: 00:23:59"
     ]
    },
    {
     "name": "stdout",
     "output_type": "stream",
     "text": [
      "train loss : 1.7297209815259427\r"
     ]
    },
    {
     "name": "stderr",
     "output_type": "stream",
     "text": [
      "\r",
      "0% [████████████████████          ] 100% | ETA: 00:21:51"
     ]
    },
    {
     "name": "stdout",
     "output_type": "stream",
     "text": [
      "train loss : 1.7264907722377456\r"
     ]
    },
    {
     "name": "stderr",
     "output_type": "stream",
     "text": [
      "\r",
      "0% [█████████████████████         ] 100% | ETA: 00:19:38"
     ]
    },
    {
     "name": "stdout",
     "output_type": "stream",
     "text": [
      "train loss : 1.7286513743331455\r"
     ]
    },
    {
     "name": "stderr",
     "output_type": "stream",
     "text": [
      "\r",
      "0% [██████████████████████        ] 100% | ETA: 00:17:27"
     ]
    },
    {
     "name": "stdout",
     "output_type": "stream",
     "text": [
      "train loss : 1.7230740481145579\r"
     ]
    },
    {
     "name": "stderr",
     "output_type": "stream",
     "text": [
      "\r",
      "0% [███████████████████████       ] 100% | ETA: 00:15:17"
     ]
    },
    {
     "name": "stdout",
     "output_type": "stream",
     "text": [
      "train loss : 1.7236302782165636\r"
     ]
    },
    {
     "name": "stderr",
     "output_type": "stream",
     "text": [
      "\r",
      "0% [████████████████████████      ] 100% | ETA: 00:13:07"
     ]
    },
    {
     "name": "stdout",
     "output_type": "stream",
     "text": [
      "train loss : 1.7396929457023156\r"
     ]
    },
    {
     "name": "stderr",
     "output_type": "stream",
     "text": [
      "\r",
      "0% [█████████████████████████     ] 100% | ETA: 00:10:55"
     ]
    },
    {
     "name": "stdout",
     "output_type": "stream",
     "text": [
      "train loss : 1.7461609193321438\r"
     ]
    },
    {
     "name": "stderr",
     "output_type": "stream",
     "text": [
      "\r",
      "0% [██████████████████████████    ] 100% | ETA: 00:08:44"
     ]
    },
    {
     "name": "stdout",
     "output_type": "stream",
     "text": [
      "train loss : 1.7495922149357885\r"
     ]
    },
    {
     "name": "stderr",
     "output_type": "stream",
     "text": [
      "\r",
      "0% [███████████████████████████   ] 100% | ETA: 00:06:32"
     ]
    },
    {
     "name": "stdout",
     "output_type": "stream",
     "text": [
      "train loss : 1.7529452658259426\r"
     ]
    },
    {
     "name": "stderr",
     "output_type": "stream",
     "text": [
      "\r",
      "0% [████████████████████████████  ] 100% | ETA: 00:04:20"
     ]
    },
    {
     "name": "stdout",
     "output_type": "stream",
     "text": [
      "train loss : 1.7645502910625022\r"
     ]
    },
    {
     "name": "stderr",
     "output_type": "stream",
     "text": [
      "\r",
      "0% [█████████████████████████████ ] 100% | ETA: 00:02:10"
     ]
    },
    {
     "name": "stdout",
     "output_type": "stream",
     "text": [
      "train loss : 1.7726260975958044\r"
     ]
    },
    {
     "name": "stderr",
     "output_type": "stream",
     "text": [
      "0% [██████████████████████████████] 100% | ETA: 00:00:00\n",
      "Total time elapsed: 01:05:34\n"
     ]
    },
    {
     "name": "stdout",
     "output_type": "stream",
     "text": [
      "train loss : 1.7721244326179109\n",
      "predicted caption:\n",
      "a man cutting potatoes bread . \n",
      "\n",
      "actual caption:\n",
      "a person slices a bread . \n",
      "OVERALL TRAINING COMPLETE\n"
     ]
    }
   ],
   "source": [
    "device = torch.device('cuda' if torch.cuda.is_available() else 'cpu')\n",
    "print(device)\n",
    "criterion = nn.NLLLoss(ignore_index = 0 )\n",
    "criterion.to(device)\n",
    "#encoder = model\n",
    "optimizer_decoder = torch.optim.Adam(decoder.parameters(), lr = 1e-2)\n",
    "#optimizer_encoder = torch.optim.Adam(encoder.parameters(), lr = 1e-2)\n",
    "encoder.to(device)\n",
    "decoder.to(device)\n",
    "epochs = 8\n",
    "#decoder.load_state_dict(torch.load('../input/final-run2/final_run2.pth'))\n",
    "best_loss = 1.947587166120374\n",
    "for epoch in range(epochs):\n",
    "    loss = train(encoder, decoder, train_dataloader, criterion, optimizer_decoder, epoch, device)\n",
    "    if loss < best_loss:\n",
    "        best_loss = loss\n",
    "        torch.save(decoder.state_dict(), 'final_run1.pth')\n",
    "print(\"OVERALL TRAINING COMPLETE\")"
   ]
  },
  {
   "cell_type": "code",
   "execution_count": null,
   "metadata": {},
   "outputs": [],
   "source": []
  }
 ],
 "metadata": {
  "accelerator": "GPU",
  "colab": {
   "name": "Video Captioning.ipynb",
   "provenance": []
  },
  "kernelspec": {
   "display_name": "Python 3 (ipykernel)",
   "language": "python",
   "name": "python3"
  },
  "language_info": {
   "codemirror_mode": {
    "name": "ipython",
    "version": 3
   },
   "file_extension": ".py",
   "mimetype": "text/x-python",
   "name": "python",
   "nbconvert_exporter": "python",
   "pygments_lexer": "ipython3",
   "version": "3.7.9"
  },
  "widgets": {
   "application/vnd.jupyter.widget-state+json": {
    "12e4e7696a134cb893757da3a3d80f44": {
     "model_module": "@jupyter-widgets/base",
     "model_module_version": "1.2.0",
     "model_name": "LayoutModel",
     "state": {
      "_model_module": "@jupyter-widgets/base",
      "_model_module_version": "1.2.0",
      "_model_name": "LayoutModel",
      "_view_count": null,
      "_view_module": "@jupyter-widgets/base",
      "_view_module_version": "1.2.0",
      "_view_name": "LayoutView",
      "align_content": null,
      "align_items": null,
      "align_self": null,
      "border": null,
      "bottom": null,
      "display": null,
      "flex": null,
      "flex_flow": null,
      "grid_area": null,
      "grid_auto_columns": null,
      "grid_auto_flow": null,
      "grid_auto_rows": null,
      "grid_column": null,
      "grid_gap": null,
      "grid_row": null,
      "grid_template_areas": null,
      "grid_template_columns": null,
      "grid_template_rows": null,
      "height": null,
      "justify_content": null,
      "justify_items": null,
      "left": null,
      "margin": null,
      "max_height": null,
      "max_width": null,
      "min_height": null,
      "min_width": null,
      "object_fit": null,
      "object_position": null,
      "order": null,
      "overflow": null,
      "overflow_x": null,
      "overflow_y": null,
      "padding": null,
      "right": null,
      "top": null,
      "visibility": null,
      "width": null
     }
    },
    "15a51c6c244d425599d024dbcaf324d1": {
     "model_module": "@jupyter-widgets/controls",
     "model_module_version": "1.5.0",
     "model_name": "ProgressStyleModel",
     "state": {
      "_model_module": "@jupyter-widgets/controls",
      "_model_module_version": "1.5.0",
      "_model_name": "ProgressStyleModel",
      "_view_count": null,
      "_view_module": "@jupyter-widgets/base",
      "_view_module_version": "1.2.0",
      "_view_name": "StyleView",
      "bar_color": null,
      "description_width": ""
     }
    },
    "15f3c3e77e2a4c58813722a393afc20e": {
     "model_module": "@jupyter-widgets/controls",
     "model_module_version": "1.5.0",
     "model_name": "HTMLModel",
     "state": {
      "_dom_classes": [],
      "_model_module": "@jupyter-widgets/controls",
      "_model_module_version": "1.5.0",
      "_model_name": "HTMLModel",
      "_view_count": null,
      "_view_module": "@jupyter-widgets/controls",
      "_view_module_version": "1.5.0",
      "_view_name": "HTMLView",
      "description": "",
      "description_tooltip": null,
      "layout": "IPY_MODEL_12e4e7696a134cb893757da3a3d80f44",
      "placeholder": "​",
      "style": "IPY_MODEL_8069bdcbed244bd594eba49e9c8e3a92",
      "value": " 97.8M/97.8M [00:00&lt;00:00, 134MB/s]"
     }
    },
    "39e662735d124759a8ea95804762aa3f": {
     "model_module": "@jupyter-widgets/controls",
     "model_module_version": "1.5.0",
     "model_name": "HTMLModel",
     "state": {
      "_dom_classes": [],
      "_model_module": "@jupyter-widgets/controls",
      "_model_module_version": "1.5.0",
      "_model_name": "HTMLModel",
      "_view_count": null,
      "_view_module": "@jupyter-widgets/controls",
      "_view_module_version": "1.5.0",
      "_view_name": "HTMLView",
      "description": "",
      "description_tooltip": null,
      "layout": "IPY_MODEL_464b63dc1e4546ab95dc4507ba8bde10",
      "placeholder": "​",
      "style": "IPY_MODEL_47a93197bb2343a699ebce30721f0f14",
      "value": "100%"
     }
    },
    "464b63dc1e4546ab95dc4507ba8bde10": {
     "model_module": "@jupyter-widgets/base",
     "model_module_version": "1.2.0",
     "model_name": "LayoutModel",
     "state": {
      "_model_module": "@jupyter-widgets/base",
      "_model_module_version": "1.2.0",
      "_model_name": "LayoutModel",
      "_view_count": null,
      "_view_module": "@jupyter-widgets/base",
      "_view_module_version": "1.2.0",
      "_view_name": "LayoutView",
      "align_content": null,
      "align_items": null,
      "align_self": null,
      "border": null,
      "bottom": null,
      "display": null,
      "flex": null,
      "flex_flow": null,
      "grid_area": null,
      "grid_auto_columns": null,
      "grid_auto_flow": null,
      "grid_auto_rows": null,
      "grid_column": null,
      "grid_gap": null,
      "grid_row": null,
      "grid_template_areas": null,
      "grid_template_columns": null,
      "grid_template_rows": null,
      "height": null,
      "justify_content": null,
      "justify_items": null,
      "left": null,
      "margin": null,
      "max_height": null,
      "max_width": null,
      "min_height": null,
      "min_width": null,
      "object_fit": null,
      "object_position": null,
      "order": null,
      "overflow": null,
      "overflow_x": null,
      "overflow_y": null,
      "padding": null,
      "right": null,
      "top": null,
      "visibility": null,
      "width": null
     }
    },
    "47a93197bb2343a699ebce30721f0f14": {
     "model_module": "@jupyter-widgets/controls",
     "model_module_version": "1.5.0",
     "model_name": "DescriptionStyleModel",
     "state": {
      "_model_module": "@jupyter-widgets/controls",
      "_model_module_version": "1.5.0",
      "_model_name": "DescriptionStyleModel",
      "_view_count": null,
      "_view_module": "@jupyter-widgets/base",
      "_view_module_version": "1.2.0",
      "_view_name": "StyleView",
      "description_width": ""
     }
    },
    "6878a26d03f442b3803b5cb8bf9c8c19": {
     "model_module": "@jupyter-widgets/controls",
     "model_module_version": "1.5.0",
     "model_name": "FloatProgressModel",
     "state": {
      "_dom_classes": [],
      "_model_module": "@jupyter-widgets/controls",
      "_model_module_version": "1.5.0",
      "_model_name": "FloatProgressModel",
      "_view_count": null,
      "_view_module": "@jupyter-widgets/controls",
      "_view_module_version": "1.5.0",
      "_view_name": "ProgressView",
      "bar_style": "success",
      "description": "",
      "description_tooltip": null,
      "layout": "IPY_MODEL_9ecacfbde4de437bbadfaca97c565cd0",
      "max": 102530333,
      "min": 0,
      "orientation": "horizontal",
      "style": "IPY_MODEL_15a51c6c244d425599d024dbcaf324d1",
      "value": 102530333
     }
    },
    "8069bdcbed244bd594eba49e9c8e3a92": {
     "model_module": "@jupyter-widgets/controls",
     "model_module_version": "1.5.0",
     "model_name": "DescriptionStyleModel",
     "state": {
      "_model_module": "@jupyter-widgets/controls",
      "_model_module_version": "1.5.0",
      "_model_name": "DescriptionStyleModel",
      "_view_count": null,
      "_view_module": "@jupyter-widgets/base",
      "_view_module_version": "1.2.0",
      "_view_name": "StyleView",
      "description_width": ""
     }
    },
    "9ecacfbde4de437bbadfaca97c565cd0": {
     "model_module": "@jupyter-widgets/base",
     "model_module_version": "1.2.0",
     "model_name": "LayoutModel",
     "state": {
      "_model_module": "@jupyter-widgets/base",
      "_model_module_version": "1.2.0",
      "_model_name": "LayoutModel",
      "_view_count": null,
      "_view_module": "@jupyter-widgets/base",
      "_view_module_version": "1.2.0",
      "_view_name": "LayoutView",
      "align_content": null,
      "align_items": null,
      "align_self": null,
      "border": null,
      "bottom": null,
      "display": null,
      "flex": null,
      "flex_flow": null,
      "grid_area": null,
      "grid_auto_columns": null,
      "grid_auto_flow": null,
      "grid_auto_rows": null,
      "grid_column": null,
      "grid_gap": null,
      "grid_row": null,
      "grid_template_areas": null,
      "grid_template_columns": null,
      "grid_template_rows": null,
      "height": null,
      "justify_content": null,
      "justify_items": null,
      "left": null,
      "margin": null,
      "max_height": null,
      "max_width": null,
      "min_height": null,
      "min_width": null,
      "object_fit": null,
      "object_position": null,
      "order": null,
      "overflow": null,
      "overflow_x": null,
      "overflow_y": null,
      "padding": null,
      "right": null,
      "top": null,
      "visibility": null,
      "width": null
     }
    },
    "bb153795e28a4cb6abbcbc9e441c3b8f": {
     "model_module": "@jupyter-widgets/base",
     "model_module_version": "1.2.0",
     "model_name": "LayoutModel",
     "state": {
      "_model_module": "@jupyter-widgets/base",
      "_model_module_version": "1.2.0",
      "_model_name": "LayoutModel",
      "_view_count": null,
      "_view_module": "@jupyter-widgets/base",
      "_view_module_version": "1.2.0",
      "_view_name": "LayoutView",
      "align_content": null,
      "align_items": null,
      "align_self": null,
      "border": null,
      "bottom": null,
      "display": null,
      "flex": null,
      "flex_flow": null,
      "grid_area": null,
      "grid_auto_columns": null,
      "grid_auto_flow": null,
      "grid_auto_rows": null,
      "grid_column": null,
      "grid_gap": null,
      "grid_row": null,
      "grid_template_areas": null,
      "grid_template_columns": null,
      "grid_template_rows": null,
      "height": null,
      "justify_content": null,
      "justify_items": null,
      "left": null,
      "margin": null,
      "max_height": null,
      "max_width": null,
      "min_height": null,
      "min_width": null,
      "object_fit": null,
      "object_position": null,
      "order": null,
      "overflow": null,
      "overflow_x": null,
      "overflow_y": null,
      "padding": null,
      "right": null,
      "top": null,
      "visibility": null,
      "width": null
     }
    },
    "c0edd239ae2949dd833a8cf36be80380": {
     "model_module": "@jupyter-widgets/controls",
     "model_module_version": "1.5.0",
     "model_name": "HBoxModel",
     "state": {
      "_dom_classes": [],
      "_model_module": "@jupyter-widgets/controls",
      "_model_module_version": "1.5.0",
      "_model_name": "HBoxModel",
      "_view_count": null,
      "_view_module": "@jupyter-widgets/controls",
      "_view_module_version": "1.5.0",
      "_view_name": "HBoxView",
      "box_style": "",
      "children": [
       "IPY_MODEL_39e662735d124759a8ea95804762aa3f",
       "IPY_MODEL_6878a26d03f442b3803b5cb8bf9c8c19",
       "IPY_MODEL_15f3c3e77e2a4c58813722a393afc20e"
      ],
      "layout": "IPY_MODEL_bb153795e28a4cb6abbcbc9e441c3b8f"
     }
    }
   }
  }
 },
 "nbformat": 4,
 "nbformat_minor": 1
}
