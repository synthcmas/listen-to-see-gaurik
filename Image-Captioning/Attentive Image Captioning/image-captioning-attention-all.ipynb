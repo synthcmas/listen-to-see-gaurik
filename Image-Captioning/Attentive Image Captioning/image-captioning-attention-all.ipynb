{
 "cells": [
  {
   "cell_type": "code",
   "execution_count": 1,
   "id": "periodic-diesel",
   "metadata": {
    "execution": {
     "iopub.execute_input": "2021-07-14T09:51:30.493402Z",
     "iopub.status.busy": "2021-07-14T09:51:30.492861Z",
     "iopub.status.idle": "2021-07-14T09:51:55.207429Z",
     "shell.execute_reply": "2021-07-14T09:51:55.206849Z",
     "shell.execute_reply.started": "2021-07-14T05:40:14.862956Z"
    },
    "papermill": {
     "duration": 24.745075,
     "end_time": "2021-07-14T09:51:55.207582",
     "exception": false,
     "start_time": "2021-07-14T09:51:30.462507",
     "status": "completed"
    },
    "tags": []
   },
   "outputs": [
    {
     "name": "stdout",
     "output_type": "stream",
     "text": [
      "Collecting git+https://github.com/Maluuba/nlg-eval.git@master\r\n",
      "  Cloning https://github.com/Maluuba/nlg-eval.git (to revision master) to /tmp/pip-req-build-0or99tpk\r\n",
      "  Running command git clone -q https://github.com/Maluuba/nlg-eval.git /tmp/pip-req-build-0or99tpk\r\n",
      "Collecting nltk>=3.4.5\r\n",
      "  Downloading nltk-3.6.2-py3-none-any.whl (1.5 MB)\r\n",
      "\u001b[K     |████████████████████████████████| 1.5 MB 835 kB/s \r\n",
      "\u001b[?25hRequirement already satisfied: numpy>=1.11.0 in /opt/conda/lib/python3.7/site-packages (from nlg-eval==2.3) (1.19.5)\r\n",
      "Requirement already satisfied: psutil>=5.6.2 in /opt/conda/lib/python3.7/site-packages (from nlg-eval==2.3) (5.8.0)\r\n",
      "Requirement already satisfied: requests>=2.19 in /opt/conda/lib/python3.7/site-packages (from nlg-eval==2.3) (2.25.1)\r\n",
      "Requirement already satisfied: six>=1.11 in /opt/conda/lib/python3.7/site-packages (from nlg-eval==2.3) (1.15.0)\r\n",
      "Requirement already satisfied: Cython>=0.28.5 in /opt/conda/lib/python3.7/site-packages (from nlg-eval==2.3) (0.29.23)\r\n",
      "Requirement already satisfied: scipy>=0.17.0 in /opt/conda/lib/python3.7/site-packages (from nlg-eval==2.3) (1.5.4)\r\n",
      "Requirement already satisfied: scikit-learn>=0.17 in /opt/conda/lib/python3.7/site-packages (from nlg-eval==2.3) (0.24.1)\r\n",
      "Collecting gensim~=3.8.3\r\n",
      "  Downloading gensim-3.8.3-cp37-cp37m-manylinux1_x86_64.whl (24.2 MB)\r\n",
      "\u001b[K     |████████████████████████████████| 24.2 MB 7.7 MB/s \r\n",
      "\u001b[?25hRequirement already satisfied: Theano>=0.8.1 in /opt/conda/lib/python3.7/site-packages (from nlg-eval==2.3) (1.0.5)\r\n",
      "Requirement already satisfied: tqdm>=4.24 in /opt/conda/lib/python3.7/site-packages (from nlg-eval==2.3) (4.59.0)\r\n",
      "Collecting xdg\r\n",
      "  Downloading xdg-5.1.0-py3-none-any.whl (5.0 kB)\r\n",
      "Requirement already satisfied: smart-open>=1.8.1 in /opt/conda/lib/python3.7/site-packages (from gensim~=3.8.3->nlg-eval==2.3) (5.0.0)\r\n",
      "Requirement already satisfied: click in /opt/conda/lib/python3.7/site-packages (from nltk>=3.4.5->nlg-eval==2.3) (7.1.2)\r\n",
      "Requirement already satisfied: joblib in /opt/conda/lib/python3.7/site-packages (from nltk>=3.4.5->nlg-eval==2.3) (1.0.1)\r\n",
      "Requirement already satisfied: regex in /opt/conda/lib/python3.7/site-packages (from nltk>=3.4.5->nlg-eval==2.3) (2021.3.17)\r\n",
      "Requirement already satisfied: chardet<5,>=3.0.2 in /opt/conda/lib/python3.7/site-packages (from requests>=2.19->nlg-eval==2.3) (4.0.0)\r\n",
      "Requirement already satisfied: certifi>=2017.4.17 in /opt/conda/lib/python3.7/site-packages (from requests>=2.19->nlg-eval==2.3) (2020.12.5)\r\n",
      "Requirement already satisfied: idna<3,>=2.5 in /opt/conda/lib/python3.7/site-packages (from requests>=2.19->nlg-eval==2.3) (2.10)\r\n",
      "Requirement already satisfied: urllib3<1.27,>=1.21.1 in /opt/conda/lib/python3.7/site-packages (from requests>=2.19->nlg-eval==2.3) (1.26.4)\r\n",
      "Requirement already satisfied: threadpoolctl>=2.0.0 in /opt/conda/lib/python3.7/site-packages (from scikit-learn>=0.17->nlg-eval==2.3) (2.1.0)\r\n",
      "Building wheels for collected packages: nlg-eval\r\n",
      "  Building wheel for nlg-eval (setup.py) ... \u001b[?25l-\b \b\\\b \b|\b \b/\b \b-\b \b\\\b \bdone\r\n",
      "\u001b[?25h  Created wheel for nlg-eval: filename=nlg_eval-2.3-py3-none-any.whl size=68175150 sha256=c374e57a6cfda2314b3bcfb5d58f8e3da0209ab544d7f0c2a3526f2e5d929b23\r\n",
      "  Stored in directory: /tmp/pip-ephem-wheel-cache-c0wyl_1y/wheels/08/20/df/33ced66932f198c4323042d18ff1c2db9b9716369f0de4afb4\r\n",
      "Successfully built nlg-eval\r\n",
      "Installing collected packages: xdg, nltk, gensim, nlg-eval\r\n",
      "  Attempting uninstall: nltk\r\n",
      "    Found existing installation: nltk 3.2.4\r\n",
      "    Uninstalling nltk-3.2.4:\r\n",
      "      Successfully uninstalled nltk-3.2.4\r\n",
      "  Attempting uninstall: gensim\r\n",
      "    Found existing installation: gensim 4.0.1\r\n",
      "    Uninstalling gensim-4.0.1:\r\n",
      "      Successfully uninstalled gensim-4.0.1\r\n",
      "\u001b[31mERROR: pip's dependency resolver does not currently take into account all the packages that are installed. This behaviour is the source of the following dependency conflicts.\r\n",
      "pyldavis 3.3.1 requires numpy>=1.20.0, but you have numpy 1.19.5 which is incompatible.\r\n",
      "pyldavis 3.3.1 requires pandas>=1.2.0, but you have pandas 1.1.5 which is incompatible.\r\n",
      "preprocessing 0.1.13 requires nltk==3.2.4, but you have nltk 3.6.2 which is incompatible.\u001b[0m\r\n",
      "Successfully installed gensim-3.8.3 nlg-eval-2.3 nltk-3.6.2 xdg-5.1.0\r\n"
     ]
    }
   ],
   "source": [
    "! pip install 'git+https://github.com/Maluuba/nlg-eval.git@master'"
   ]
  },
  {
   "cell_type": "code",
   "execution_count": 2,
   "id": "finnish-cheese",
   "metadata": {
    "execution": {
     "iopub.execute_input": "2021-07-14T09:51:55.314800Z",
     "iopub.status.busy": "2021-07-14T09:51:55.310636Z",
     "iopub.status.idle": "2021-07-14T10:01:19.093617Z",
     "shell.execute_reply": "2021-07-14T10:01:19.093125Z",
     "shell.execute_reply.started": "2021-07-14T05:53:38.21608Z"
    },
    "papermill": {
     "duration": 563.83556,
     "end_time": "2021-07-14T10:01:19.093781",
     "exception": false,
     "start_time": "2021-07-14T09:51:55.258221",
     "status": "completed"
    },
    "tags": []
   },
   "outputs": [
    {
     "name": "stdout",
     "output_type": "stream",
     "text": [
      "[nltk_data] Downloading package punkt to /usr/share/nltk_data...\r\n",
      "[nltk_data]   Package punkt is already up-to-date!\r\n",
      "\u001b[31mInstalling to /root/.cache/nlgeval\u001b[0m\r\n",
      "\u001b[31mIn case of incomplete downloads, delete the directory and run `nlg-eval --setup /root/.cache/nlgeval' again.\u001b[0m\r\n",
      "Downloading http://nlp.stanford.edu/data/glove.6B.zip to /root/.cache/nlgeval.\r\n",
      "Downloading https://raw.githubusercontent.com/robmsmt/glove-gensim/4c2224bccd61627b76c50a5e1d6afd1c82699d22/glove2word2vec.py to /opt/conda/lib/python3.7/site-packages/nlgeval/word2vec.\r\n",
      "Downloading http://www.cs.toronto.edu/~rkiros/models/dictionary.txt to /root/.cache/nlgeval.\r\n",
      "Downloading http://www.cs.toronto.edu/~rkiros/models/utable.npy to /root/.cache/nlgeval.\r\n",
      "glove2word2vec.py: 100%|█████████████████| 1.00/1.00 [00:00<00:00, 506 chunks/s]\r\n",
      "Downloading http://www.cs.toronto.edu/~rkiros/models/btable.npy to /root/.cache/nlgeval.\r\n",
      "dictionary.txt: 550 chunks [00:00, 621 chunks/s]\r\n",
      "Downloading http://www.cs.toronto.edu/~rkiros/models/uni_skip.npz to /root/.cache/nlgeval.\r\n",
      "uni_skip.npz: 100%|███████████████████████| 634/634 [00:24<00:00, 26.2 chunks/s]\r\n",
      "Downloading http://www.cs.toronto.edu/~rkiros/models/uni_skip.npz.pkl to /root/.cache/nlgeval.\r\n",
      "uni_skip.npz.pkl: 100%|████████████████| 1.00/1.00 [00:00<00:00, 1.24k chunks/s]\r\n",
      "Downloading http://www.cs.toronto.edu/~rkiros/models/bi_skip.npz to /root/.cache/nlgeval.\r\n",
      "bi_skip.npz: 100%|████████████████████████| 276/276 [00:10<00:00, 26.4 chunks/s]\r\n",
      "Downloading http://www.cs.toronto.edu/~rkiros/models/bi_skip.npz.pkl to /root/.cache/nlgeval.\r\n",
      "bi_skip.npz.pkl: 100%|█████████████████| 1.00/1.00 [00:00<00:00, 1.20k chunks/s]\r\n",
      "Downloading https://raw.githubusercontent.com/moses-smt/mosesdecoder/b199e654df2a26ea58f234cbb642e89d9c1f269d/scripts/generic/multi-bleu.perl to /opt/conda/lib/python3.7/site-packages/nlgeval/multibleu.\r\n",
      "multi-bleu.perl: 100%|███████████████████| 1.00/1.00 [00:00<00:00, 567 chunks/s]\r\n",
      "utable.npy: 100%|█████████████████████| 2.23k/2.23k [01:18<00:00, 28.4 chunks/s]\r\n",
      "btable.npy: 100%|█████████████████████| 2.23k/2.23k [01:18<00:00, 28.4 chunks/s]\r\n",
      "glove.6B.zip: 100%|███████████████████████| 823/823 [02:41<00:00, 5.10 chunks/s]\r\n",
      "WARNING: could not read rc.json in /root/.config/nlgeval, overwriting\r\n"
     ]
    }
   ],
   "source": [
    "! nlg-eval --setup"
   ]
  },
  {
   "cell_type": "code",
   "execution_count": 3,
   "id": "faced-minute",
   "metadata": {
    "execution": {
     "iopub.execute_input": "2021-07-14T10:01:19.222326Z",
     "iopub.status.busy": "2021-07-14T10:01:19.221547Z",
     "iopub.status.idle": "2021-07-14T10:01:21.845107Z",
     "shell.execute_reply": "2021-07-14T10:01:21.844484Z",
     "shell.execute_reply.started": "2021-07-14T08:26:32.464245Z"
    },
    "papermill": {
     "duration": 2.690478,
     "end_time": "2021-07-14T10:01:21.845249",
     "exception": false,
     "start_time": "2021-07-14T10:01:19.154771",
     "status": "completed"
    },
    "tags": []
   },
   "outputs": [],
   "source": [
    "import os\n",
    "import numpy as np\n",
    "import pandas as pd\n",
    "import json\n",
    "import torch, torchvision\n",
    "import torch.nn.functional as F\n",
    "import torch.nn as nn\n",
    "from torch.nn.utils.rnn import pad_sequence\n",
    "from torch.utils.data import DataLoader, Dataset\n",
    "import torchvision.models as models\n",
    "import torch.optim as optim\n",
    "import torchvision.transforms as transforms\n",
    "from torch.utils.tensorboard import SummaryWriter\n",
    "from PIL import Image\n",
    "import matplotlib.pyplot as plt\n",
    "from nltk.translate.bleu_score import sentence_bleu\n",
    "import math\n",
    "from nlgeval import compute_individual_metrics"
   ]
  },
  {
   "cell_type": "code",
   "execution_count": 4,
   "id": "expired-logging",
   "metadata": {
    "execution": {
     "iopub.execute_input": "2021-07-14T10:01:21.971277Z",
     "iopub.status.busy": "2021-07-14T10:01:21.970576Z",
     "iopub.status.idle": "2021-07-14T10:01:21.973449Z",
     "shell.execute_reply": "2021-07-14T10:01:21.973873Z",
     "shell.execute_reply.started": "2021-07-14T08:26:35.835133Z"
    },
    "papermill": {
     "duration": 0.067878,
     "end_time": "2021-07-14T10:01:21.974031",
     "exception": false,
     "start_time": "2021-07-14T10:01:21.906153",
     "status": "completed"
    },
    "tags": []
   },
   "outputs": [],
   "source": [
    "#Hyperparameters\n",
    "embed_size = 300\n",
    "hidden_size = 512\n",
    "enc_dim = 2048\n",
    "att_dim = 49\n",
    "batch_size = 80\n",
    "train_embed = False\n",
    "train_CNN = False\n",
    "lr_enc = 1e-5\n",
    "lr_dec = 5e-4\n",
    "num_layers = 1\n",
    "num_epochs = 10\n",
    "freq_threshold = 5"
   ]
  },
  {
   "cell_type": "code",
   "execution_count": 5,
   "id": "false-palestinian",
   "metadata": {
    "execution": {
     "iopub.execute_input": "2021-07-14T10:01:22.097327Z",
     "iopub.status.busy": "2021-07-14T10:01:22.096832Z",
     "iopub.status.idle": "2021-07-14T10:01:22.103635Z",
     "shell.execute_reply": "2021-07-14T10:01:22.103163Z",
     "shell.execute_reply.started": "2021-07-14T08:26:37.440501Z"
    },
    "papermill": {
     "duration": 0.069716,
     "end_time": "2021-07-14T10:01:22.103794",
     "exception": false,
     "start_time": "2021-07-14T10:01:22.034078",
     "status": "completed"
    },
    "tags": []
   },
   "outputs": [],
   "source": [
    "os.chdir('/kaggle/input/karpathy-splits')"
   ]
  },
  {
   "cell_type": "code",
   "execution_count": 6,
   "id": "motivated-national",
   "metadata": {
    "execution": {
     "iopub.execute_input": "2021-07-14T10:01:22.227481Z",
     "iopub.status.busy": "2021-07-14T10:01:22.226983Z",
     "iopub.status.idle": "2021-07-14T10:01:24.061394Z",
     "shell.execute_reply": "2021-07-14T10:01:24.060918Z",
     "shell.execute_reply.started": "2021-07-14T08:26:40.493573Z"
    },
    "papermill": {
     "duration": 1.897542,
     "end_time": "2021-07-14T10:01:24.061526",
     "exception": false,
     "start_time": "2021-07-14T10:01:22.163984",
     "status": "completed"
    },
    "tags": []
   },
   "outputs": [],
   "source": [
    "f = open('dataset_flickr30k.json')\n",
    "dataset = json.load(f)"
   ]
  },
  {
   "cell_type": "code",
   "execution_count": 7,
   "id": "surprising-specification",
   "metadata": {
    "execution": {
     "iopub.execute_input": "2021-07-14T10:01:24.189212Z",
     "iopub.status.busy": "2021-07-14T10:01:24.188638Z",
     "iopub.status.idle": "2021-07-14T10:01:24.192064Z",
     "shell.execute_reply": "2021-07-14T10:01:24.192457Z",
     "shell.execute_reply.started": "2021-07-14T08:26:44.852728Z"
    },
    "papermill": {
     "duration": 0.069559,
     "end_time": "2021-07-14T10:01:24.192585",
     "exception": false,
     "start_time": "2021-07-14T10:01:24.123026",
     "status": "completed"
    },
    "tags": []
   },
   "outputs": [],
   "source": [
    "train_imgs = list()\n",
    "train_labels = list()\n",
    "val_imgs = list()\n",
    "val_labels = list()\n",
    "test_imgs = list()\n",
    "test_labels = list()\n",
    "all_labels = list()"
   ]
  },
  {
   "cell_type": "code",
   "execution_count": 8,
   "id": "appointed-memorial",
   "metadata": {
    "execution": {
     "iopub.execute_input": "2021-07-14T10:01:24.356863Z",
     "iopub.status.busy": "2021-07-14T10:01:24.352289Z",
     "iopub.status.idle": "2021-07-14T10:01:24.451427Z",
     "shell.execute_reply": "2021-07-14T10:01:24.450988Z",
     "shell.execute_reply.started": "2021-07-14T08:26:48.559125Z"
    },
    "papermill": {
     "duration": 0.198184,
     "end_time": "2021-07-14T10:01:24.451548",
     "exception": false,
     "start_time": "2021-07-14T10:01:24.253364",
     "status": "completed"
    },
    "tags": []
   },
   "outputs": [],
   "source": [
    "for img in dataset['images']:   \n",
    "    for sentence in img['sentences']:\n",
    "        \n",
    "        if img['split'] == 'train':\n",
    "            \n",
    "                train_imgs.append(img['filename'])\n",
    "                train_labels.append(sentence['tokens'])\n",
    "                all_labels.append(sentence['tokens'])\n",
    "\n",
    "                \n",
    "        if img['split'] == 'test':\n",
    "            \n",
    "                test_imgs.append(img['filename'])\n",
    "                test_labels.append(sentence['tokens'])\n",
    "                all_labels.append(sentence['tokens'])\n",
    "    \n",
    "            \n",
    "        if img['split'] == 'val':\n",
    "                 \n",
    "                val_imgs.append(img['filename'])\n",
    "                val_labels.append(sentence['tokens'])\n",
    "                all_labels.append(sentence['tokens'])"
   ]
  },
  {
   "cell_type": "code",
   "execution_count": 9,
   "id": "portuguese-engineering",
   "metadata": {
    "execution": {
     "iopub.execute_input": "2021-07-14T10:01:24.648354Z",
     "iopub.status.busy": "2021-07-14T10:01:24.632871Z",
     "iopub.status.idle": "2021-07-14T10:01:24.665403Z",
     "shell.execute_reply": "2021-07-14T10:01:24.665811Z",
     "shell.execute_reply.started": "2021-07-14T08:26:51.194919Z"
    },
    "papermill": {
     "duration": 0.149836,
     "end_time": "2021-07-14T10:01:24.665973",
     "exception": false,
     "start_time": "2021-07-14T10:01:24.516137",
     "status": "completed"
    },
    "tags": []
   },
   "outputs": [],
   "source": [
    "dict_tokens = dict()\n",
    "imgs_idx = dict()\n",
    "idx_imgs = dict()\n",
    "\n",
    "for idx, img in enumerate(dataset['images']):\n",
    "    dict_tokens[idx] = [sentence['tokens'] for sentence in img['sentences']]   \n",
    "    imgs_idx[img['filename']] = idx\n",
    "    idx_imgs[idx] = img['filename']"
   ]
  },
  {
   "cell_type": "code",
   "execution_count": 10,
   "id": "communist-bikini",
   "metadata": {
    "execution": {
     "iopub.execute_input": "2021-07-14T10:01:24.806013Z",
     "iopub.status.busy": "2021-07-14T10:01:24.805190Z",
     "iopub.status.idle": "2021-07-14T10:01:24.808196Z",
     "shell.execute_reply": "2021-07-14T10:01:24.807786Z",
     "shell.execute_reply.started": "2021-07-14T08:33:36.372797Z"
    },
    "papermill": {
     "duration": 0.081951,
     "end_time": "2021-07-14T10:01:24.808308",
     "exception": false,
     "start_time": "2021-07-14T10:01:24.726357",
     "status": "completed"
    },
    "tags": []
   },
   "outputs": [],
   "source": [
    "class Vocabulary:\n",
    "    \n",
    "    def __init__(self, freq_threshold):\n",
    "        self.itos = {0:\"<PAD>\", 1:\"<SOS>\", 2:\"<EOS>\", 3:\"<UNK>\"}\n",
    "        self.stoi = {\"<PAD>\":0, \"<SOS>\":1, \"<EOS>\":2, \"<UNK>\":3}\n",
    "        self.freq_threshold = freq_threshold\n",
    "\n",
    "    def __len__(self):\n",
    "        return len(self.itos)\n",
    "\n",
    "    def build_vocabulary(self, sentence_list):\n",
    "        frequencies = {}\n",
    "        idx = 4\n",
    "    \n",
    "        print('Start building vocabulary!')\n",
    "\n",
    "        for sentence in sentence_list: \n",
    "\n",
    "            for word in sentence:\n",
    "\n",
    "                if word not in frequencies:\n",
    "                    frequencies[word]=1\n",
    "\n",
    "                else:\n",
    "                    frequencies[word] += 1\n",
    "\n",
    "                if frequencies[word] == self.freq_threshold:\n",
    "\n",
    "                    self.stoi[word]  = idx\n",
    "                    self.itos[idx] = word\n",
    "                    idx += 1\n",
    "\n",
    "        print('Vocabulary built!')\n",
    "  \n",
    "    def numericalize(self, tokenized_text):\n",
    "\n",
    "        return [\n",
    "            self.stoi[token] if token in self.stoi else self.stoi[\"<UNK>\"]\n",
    "            for token in tokenized_text\n",
    "        ]\n",
    "\n",
    "class FlickrDataset(Dataset):\n",
    "    def __init__(self, root_dir, imgs, labels, vocab, transforms = None):\n",
    "        self.root_dir = root_dir\n",
    "        self.transforms = transforms\n",
    "\n",
    "        self.imgs = imgs\n",
    "        self.captions = labels\n",
    "\n",
    "        self.vocab = vocab\n",
    "\n",
    "    def __len__(self):\n",
    "        return (len(self.imgs))\n",
    "\n",
    "    def __getitem__(self, index):\n",
    "        \n",
    "        caption = self.captions[index]\n",
    "        img_id = self.imgs[index]\n",
    "\n",
    "        img = Image.open(os.path.join(self.root_dir, img_id)).convert(\"RGB\")\n",
    "\n",
    "        if self.transforms is not None:\n",
    "            img = self.transforms(img)\n",
    "\n",
    "        numericalized_caption = [self.vocab.stoi[\"<SOS>\"]]\n",
    "        numericalized_caption += self.vocab.numericalize(caption)\n",
    "        numericalized_caption.append(self.vocab.stoi[\"<EOS>\"])\n",
    "\n",
    "        return (img, torch.tensor(numericalized_caption), torch.tensor([imgs_idx[img_id]]))\n",
    "\n",
    "class MyCollate:\n",
    "    \n",
    "    def __init__(self, pad_idx):\n",
    "        self.pad_idx = pad_idx\n",
    "\n",
    "    def __call__(self, batch):\n",
    "        imgs = [item[0].unsqueeze(0) for item in batch]\n",
    "        imgs = torch.cat(imgs, dim = 0)\n",
    "        img_ids = [item[2].unsqueeze(0) for item in batch]\n",
    "        img_ids = torch.cat(img_ids, dim = 0)\n",
    "        targets = [item[1] for item in batch]\n",
    "        targets = pad_sequence(targets, batch_first = False, padding_value = self.pad_idx)\n",
    "\n",
    "        return imgs, targets, img_ids\n",
    "  \n",
    "\n",
    "def get_loader(root_folder, \n",
    "               imgs, \n",
    "               labels,\n",
    "               vocab,\n",
    "               transforms, \n",
    "               batch_size = 32, \n",
    "               shuffle=True):\n",
    "    dataset = FlickrDataset(root_folder, imgs, labels, vocab, transforms)\n",
    "    print('Dataset made!')\n",
    "    loader = DataLoader(\n",
    "        dataset = dataset,\n",
    "        batch_size = batch_size,\n",
    "        shuffle = shuffle,\n",
    "        collate_fn = MyCollate(pad_idx = dataset.vocab.stoi[\"<PAD>\"])\n",
    "     )\n",
    "\n",
    "    return loader, dataset"
   ]
  },
  {
   "cell_type": "code",
   "execution_count": 11,
   "id": "national-letter",
   "metadata": {
    "execution": {
     "iopub.execute_input": "2021-07-14T10:01:24.958264Z",
     "iopub.status.busy": "2021-07-14T10:01:24.948066Z",
     "iopub.status.idle": "2021-07-14T10:01:25.632343Z",
     "shell.execute_reply": "2021-07-14T10:01:25.632908Z",
     "shell.execute_reply.started": "2021-07-14T08:33:38.678623Z"
    },
    "papermill": {
     "duration": 0.764172,
     "end_time": "2021-07-14T10:01:25.633099",
     "exception": false,
     "start_time": "2021-07-14T10:01:24.868927",
     "status": "completed"
    },
    "tags": []
   },
   "outputs": [
    {
     "name": "stdout",
     "output_type": "stream",
     "text": [
      "Start building vocabulary!\n",
      "Vocabulary built!\n"
     ]
    }
   ],
   "source": [
    "vocab = Vocabulary(freq_threshold)\n",
    "vocab.build_vocabulary(all_labels)"
   ]
  },
  {
   "cell_type": "code",
   "execution_count": 12,
   "id": "literary-spine",
   "metadata": {
    "execution": {
     "iopub.execute_input": "2021-07-14T10:01:25.765149Z",
     "iopub.status.busy": "2021-07-14T10:01:25.764503Z",
     "iopub.status.idle": "2021-07-14T10:01:25.768522Z",
     "shell.execute_reply": "2021-07-14T10:01:25.768116Z",
     "shell.execute_reply.started": "2021-07-14T08:27:02.629762Z"
    },
    "papermill": {
     "duration": 0.073698,
     "end_time": "2021-07-14T10:01:25.768650",
     "exception": false,
     "start_time": "2021-07-14T10:01:25.694952",
     "status": "completed"
    },
    "tags": []
   },
   "outputs": [],
   "source": [
    "vocab_size = len(vocab)"
   ]
  },
  {
   "cell_type": "code",
   "execution_count": 13,
   "id": "unnecessary-fabric",
   "metadata": {
    "execution": {
     "iopub.execute_input": "2021-07-14T10:01:25.894105Z",
     "iopub.status.busy": "2021-07-14T10:01:25.893491Z",
     "iopub.status.idle": "2021-07-14T10:01:25.896756Z",
     "shell.execute_reply": "2021-07-14T10:01:25.897479Z",
     "shell.execute_reply.started": "2021-07-14T08:27:03.80245Z"
    },
    "papermill": {
     "duration": 0.068527,
     "end_time": "2021-07-14T10:01:25.897676",
     "exception": false,
     "start_time": "2021-07-14T10:01:25.829149",
     "status": "completed"
    },
    "tags": []
   },
   "outputs": [
    {
     "name": "stdout",
     "output_type": "stream",
     "text": [
      "7652\n"
     ]
    }
   ],
   "source": [
    "print(vocab_size)"
   ]
  },
  {
   "cell_type": "code",
   "execution_count": 14,
   "id": "liable-happiness",
   "metadata": {
    "execution": {
     "iopub.execute_input": "2021-07-14T10:01:26.025151Z",
     "iopub.status.busy": "2021-07-14T10:01:26.024339Z",
     "iopub.status.idle": "2021-07-14T10:01:26.027228Z",
     "shell.execute_reply": "2021-07-14T10:01:26.026825Z",
     "shell.execute_reply.started": "2021-07-14T08:27:06.992793Z"
    },
    "papermill": {
     "duration": 0.067556,
     "end_time": "2021-07-14T10:01:26.027335",
     "exception": false,
     "start_time": "2021-07-14T10:01:25.959779",
     "status": "completed"
    },
    "tags": []
   },
   "outputs": [],
   "source": [
    "transformations = transforms.Compose(\n",
    "        [\n",
    "            transforms.Resize((224, 224)),\n",
    "            transforms.ToTensor(),\n",
    "            transforms.Normalize((0.5, 0.5, 0.5), (0.5, 0.5, 0.5))\n",
    "        ]\n",
    "    )"
   ]
  },
  {
   "cell_type": "code",
   "execution_count": 15,
   "id": "traditional-bunny",
   "metadata": {
    "execution": {
     "iopub.execute_input": "2021-07-14T10:01:26.153163Z",
     "iopub.status.busy": "2021-07-14T10:01:26.152668Z",
     "iopub.status.idle": "2021-07-14T10:01:26.159628Z",
     "shell.execute_reply": "2021-07-14T10:01:26.159209Z",
     "shell.execute_reply.started": "2021-07-14T08:27:08.308594Z"
    },
    "papermill": {
     "duration": 0.071159,
     "end_time": "2021-07-14T10:01:26.159750",
     "exception": false,
     "start_time": "2021-07-14T10:01:26.088591",
     "status": "completed"
    },
    "tags": []
   },
   "outputs": [],
   "source": [
    "os.chdir('/kaggle/input/flickr-image-dataset/flickr30k_images')"
   ]
  },
  {
   "cell_type": "code",
   "execution_count": 16,
   "id": "ordinary-volleyball",
   "metadata": {
    "execution": {
     "iopub.execute_input": "2021-07-14T10:01:26.287827Z",
     "iopub.status.busy": "2021-07-14T10:01:26.287133Z",
     "iopub.status.idle": "2021-07-14T10:01:26.290817Z",
     "shell.execute_reply": "2021-07-14T10:01:26.292879Z",
     "shell.execute_reply.started": "2021-07-14T08:33:43.211404Z"
    },
    "papermill": {
     "duration": 0.072327,
     "end_time": "2021-07-14T10:01:26.293016",
     "exception": false,
     "start_time": "2021-07-14T10:01:26.220689",
     "status": "completed"
    },
    "tags": []
   },
   "outputs": [
    {
     "name": "stdout",
     "output_type": "stream",
     "text": [
      "Dataset made!\n",
      "Dataset made!\n"
     ]
    }
   ],
   "source": [
    "train_loader , train_dataset = get_loader(\n",
    "        root_folder=\"flickr30k_images\",\n",
    "        imgs=train_imgs,\n",
    "        labels=train_labels,\n",
    "        vocab=vocab,\n",
    "        transforms=transformations,\n",
    "        batch_size=batch_size\n",
    "    )\n",
    "val_loader , val_dataset = get_loader(\n",
    "        root_folder=\"flickr30k_images\",\n",
    "        imgs=val_imgs,\n",
    "        labels=val_labels,\n",
    "        vocab=vocab,\n",
    "        transforms=transformations,\n",
    "        batch_size=batch_size\n",
    "    )"
   ]
  },
  {
   "cell_type": "code",
   "execution_count": 17,
   "id": "broadband-communication",
   "metadata": {
    "execution": {
     "iopub.execute_input": "2021-07-14T10:01:26.429453Z",
     "iopub.status.busy": "2021-07-14T10:01:26.428945Z",
     "iopub.status.idle": "2021-07-14T10:03:26.046453Z",
     "shell.execute_reply": "2021-07-14T10:03:26.045392Z",
     "shell.execute_reply.started": "2021-07-14T08:29:54.768786Z"
    },
    "papermill": {
     "duration": 119.687696,
     "end_time": "2021-07-14T10:03:26.046663",
     "exception": false,
     "start_time": "2021-07-14T10:01:26.358967",
     "status": "completed"
    },
    "tags": []
   },
   "outputs": [],
   "source": [
    "words = []\n",
    "glove = {}\n",
    "with open(f'/kaggle/input/glove6b/glove.6B.300d.txt', 'rb') as f:\n",
    "    for l in f:\n",
    "        line = l.decode().split()\n",
    "        word = line[0]\n",
    "        words.append(word) \n",
    "        vect = np.array(line[1:]).astype(np.float)\n",
    "        glove[word] = vect"
   ]
  },
  {
   "cell_type": "code",
   "execution_count": 18,
   "id": "interested-small",
   "metadata": {
    "execution": {
     "iopub.execute_input": "2021-07-14T10:03:26.178550Z",
     "iopub.status.busy": "2021-07-14T10:03:26.177775Z",
     "iopub.status.idle": "2021-07-14T10:03:26.210051Z",
     "shell.execute_reply": "2021-07-14T10:03:26.209573Z",
     "shell.execute_reply.started": "2021-07-13T07:02:25.852812Z"
    },
    "papermill": {
     "duration": 0.100234,
     "end_time": "2021-07-14T10:03:26.210161",
     "exception": false,
     "start_time": "2021-07-14T10:03:26.109927",
     "status": "completed"
    },
    "tags": []
   },
   "outputs": [],
   "source": [
    "weights_matrix = np.zeros((vocab_size, embed_size))\n",
    "\n",
    "for key, index in vocab.stoi.items():\n",
    "    \n",
    "    if key in glove:\n",
    "        weights_matrix[index] = glove[key]\n",
    "    \n",
    "    else:\n",
    "        weights_matrix[index] = np.random.normal(scale=0.6, size=(embed_size, ))"
   ]
  },
  {
   "cell_type": "code",
   "execution_count": 19,
   "id": "brave-gateway",
   "metadata": {
    "execution": {
     "iopub.execute_input": "2021-07-14T10:03:26.353027Z",
     "iopub.status.busy": "2021-07-14T10:03:26.352277Z",
     "iopub.status.idle": "2021-07-14T10:03:26.355241Z",
     "shell.execute_reply": "2021-07-14T10:03:26.354812Z",
     "shell.execute_reply.started": "2021-07-13T07:02:29.462347Z"
    },
    "papermill": {
     "duration": 0.082052,
     "end_time": "2021-07-14T10:03:26.355350",
     "exception": false,
     "start_time": "2021-07-14T10:03:26.273298",
     "status": "completed"
    },
    "tags": []
   },
   "outputs": [],
   "source": [
    "class EncoderCNN(nn.Module):\n",
    "    def __init__(self, enc_dim, embed_size, hidden_size):\n",
    "        super(EncoderCNN, self).__init__()\n",
    "        resnet = torchvision.models.resnet101(pretrained = True)\n",
    "        all_modules = list(resnet.children())\n",
    "        modules = all_modules[:-2]\n",
    "        self.resnet = nn.Sequential(*modules) \n",
    "        self.avgpool = nn.AvgPool2d(7)\n",
    "        self.V_affine = nn.Linear(enc_dim, hidden_size)\n",
    "        self.vg_affine = nn.Linear(enc_dim, embed_size)\n",
    "        self.fine_tune()\n",
    "       \n",
    "    def forward(self, images):\n",
    "        encoded_image = self.resnet(images)\n",
    "        batch_size = encoded_image.shape[0]\n",
    "        features = encoded_image.shape[1]\n",
    "        num_pixels = encoded_image.shape[2] * encoded_image.shape[3]\n",
    "        global_features = self.avgpool(encoded_image).view(batch_size, -1)\n",
    "        global_features = F.relu(self.vg_affine(global_features))\n",
    "        enc_image = encoded_image.permute(0, 2, 3, 1)  \n",
    "        enc_image = enc_image.view(batch_size,num_pixels,features)\n",
    "        enc_image = F.relu(self.V_affine(enc_image))\n",
    "  \n",
    "        return enc_image, global_features\n",
    "\n",
    "    def fine_tune(self, train_CNN = False):\n",
    "        \n",
    "        if not train_CNN:\n",
    "            for param in self.resnet.parameters():\n",
    "                param.requires_grad = False\n",
    "                        \n",
    "        else:\n",
    "            for module in list(self.resnet.children())[len(list(self.resnet.children()))-1:]:    #1 layer only. len(list(resnet.children())) = 8\n",
    "                for param in module.parameters():\n",
    "                    param.requires_grad = True "
   ]
  },
  {
   "cell_type": "code",
   "execution_count": 20,
   "id": "sized-validation",
   "metadata": {
    "execution": {
     "iopub.execute_input": "2021-07-14T10:03:26.486283Z",
     "iopub.status.busy": "2021-07-14T10:03:26.485355Z",
     "iopub.status.idle": "2021-07-14T10:03:26.487663Z",
     "shell.execute_reply": "2021-07-14T10:03:26.488095Z",
     "shell.execute_reply.started": "2021-07-13T07:02:32.098113Z"
    },
    "papermill": {
     "duration": 0.07046,
     "end_time": "2021-07-14T10:03:26.488228",
     "exception": false,
     "start_time": "2021-07-14T10:03:26.417768",
     "status": "completed"
    },
    "tags": []
   },
   "outputs": [],
   "source": [
    "class AdaptiveLSTMCell(nn.Module):\n",
    "    def __init__(self, embed_size, hidden_size):\n",
    "        super(AdaptiveLSTMCell, self).__init__()\n",
    "        self.lstm_cell = nn.LSTMCell(embed_size, hidden_size)\n",
    "        self.x_affine = nn.Linear(embed_size, hidden_size)\n",
    "        self.h_affine = nn.Linear(hidden_size, hidden_size)\n",
    "        \n",
    "    def forward(self, inp, states):\n",
    "        h_prev, m_prev = states\n",
    "        h_t, m_t = self.lstm_cell(inp, (h_prev, m_prev))\n",
    "        g_t = torch.sigmoid(self.x_affine(inp) + self.h_affine(h_prev))\n",
    "        s_t = g_t*(torch.tanh(m_t))\n",
    "        \n",
    "        return s_t, h_t, m_t"
   ]
  },
  {
   "cell_type": "code",
   "execution_count": 21,
   "id": "latest-adobe",
   "metadata": {
    "execution": {
     "iopub.execute_input": "2021-07-14T10:03:26.622718Z",
     "iopub.status.busy": "2021-07-14T10:03:26.621831Z",
     "iopub.status.idle": "2021-07-14T10:03:26.623979Z",
     "shell.execute_reply": "2021-07-14T10:03:26.624428Z",
     "shell.execute_reply.started": "2021-07-13T07:02:36.08781Z"
    },
    "papermill": {
     "duration": 0.075022,
     "end_time": "2021-07-14T10:03:26.624553",
     "exception": false,
     "start_time": "2021-07-14T10:03:26.549531",
     "status": "completed"
    },
    "tags": []
   },
   "outputs": [],
   "source": [
    "class AdaptiveAttention(nn.Module):\n",
    "    def __init__(self, hidden_size, att_dim):\n",
    "        super(AdaptiveAttention, self).__init__()\n",
    "        self.v_affine = nn.Linear(hidden_size, att_dim)\n",
    "        self.h_affine = nn.Linear(hidden_size, hidden_size)\n",
    "        self.h_att = nn.Linear(hidden_size, att_dim)\n",
    "        self.s_affine = nn.Linear(hidden_size, hidden_size)\n",
    "        self.s_att = nn.Linear(hidden_size, att_dim)\n",
    "        self.wh_affine = nn.Linear(att_dim, 1)\n",
    "        self.c_hidden = nn.Linear(hidden_size, hidden_size)\n",
    "        \n",
    "    def forward(self, V, h_t, s_t):\n",
    "        num_pixels = V.shape[1]\n",
    "        v_att = self.v_affine(V)\n",
    "        h_affine = F.relu(self.h_affine(h_t))\n",
    "        h_att = self.h_att(h_affine)\n",
    "        h_att_r = h_att.unsqueeze(1).expand(h_att.size(0), num_pixels, h_att.size(1)) \n",
    "        \n",
    "        z_t = self.wh_affine(torch.tanh(v_att + h_att_r)).squeeze(2)\n",
    "        alpha_t = F.softmax(z_t, dim = 1)\n",
    "        c_t = torch.sum((alpha_t.unsqueeze(2).expand(V.size(0), num_pixels, V.size(2)))*V, dim = 1)\n",
    "        \n",
    "        s_affine = F.relu(self.s_affine(s_t))\n",
    "        s_att = self.s_att(s_affine)\n",
    "        z_hat_t = torch.cat((z_t, self.wh_affine(torch.tanh(s_att + h_att))), dim = 1)\n",
    "        alpha_hat_t = F.softmax(z_hat_t, dim = 1)\n",
    "        \n",
    "        beta_t = alpha_hat_t[:,-1].view(alpha_hat_t.size(0), -1)\n",
    "        \n",
    "        c_hat_t = beta_t*s_t + (1-beta_t)*c_t\n",
    "        \n",
    "        out_l = c_hat_t + h_affine\n",
    "        \n",
    "        return out_l\n",
    "        \n",
    "        # num_pixels = V.shape[1]\n",
    "        # v_att = self.v_affine(V)           # (batch_size,num_pixels,att_dim)\n",
    "        # s_affine = F.relu(self.s_affine(s_t))     # (batch_size,hidden_size)\n",
    "        # s_att = self.s_att(sentinel_affine)     # (batch_size,att_dim)\n",
    "\n",
    "        # h_affine = torch.tanh(self.h_affine(h_t))    # (batch_size,hidden_size)\n",
    "        # h_att = self.h_att(h_affine)               # (batch_size,att_dim)\n",
    "\n",
    "        # h_att_r = h_att.unsqueeze(1).expand(h_att.size(0), num_pixels + 1, h_att.size(1))\n",
    "\n",
    "        # concat_features = torch.cat([V, s_affine.unsqueeze(1)], dim = 1)   # (batch_size, num_pixels+1, hidden_size)\n",
    "        # attended_features = torch.cat([v_att, s_att.unsqueeze(1)], dim = 1)     # (batch_size, num_pixels+1, att_dim)\n",
    "\n",
    "        # attention = torch.tanh(attended_features + h_att_r)    # (batch_size, num_pixels+1, att_dim)\n",
    "        \n",
    "        # alpha = self.wh_affine(attention).squeeze(2)                   # (batch_size, num_pixels+1)\n",
    "        # att_weights = F.softmax(alpha, dim=1)                              # (batch_size, num_pixels+1)\n",
    "\n",
    "        # context = (concat_features * att_weights.unsqueeze(2)).sum(dim=1)       # (batch_size, hidden_size)     \n",
    "        # beta_value = att_weights[:,-1].unsqueeze(1)                       # (batch_size, 1)\n",
    "\n",
    "        # out_l = torch.tanh(self.c_hidden(context + h_affine))\n",
    "\n",
    "        # return out_l\n",
    "        \n",
    "        "
   ]
  },
  {
   "cell_type": "code",
   "execution_count": 22,
   "id": "obvious-people",
   "metadata": {
    "execution": {
     "iopub.execute_input": "2021-07-14T10:03:26.758920Z",
     "iopub.status.busy": "2021-07-14T10:03:26.758133Z",
     "iopub.status.idle": "2021-07-14T10:03:26.760730Z",
     "shell.execute_reply": "2021-07-14T10:03:26.760285Z",
     "shell.execute_reply.started": "2021-07-13T07:02:40.062099Z"
    },
    "papermill": {
     "duration": 0.074948,
     "end_time": "2021-07-14T10:03:26.760837",
     "exception": false,
     "start_time": "2021-07-14T10:03:26.685889",
     "status": "completed"
    },
    "tags": []
   },
   "outputs": [],
   "source": [
    "class DecoderLSTMAttention(nn.Module):\n",
    "    def __init__(self, embed_size, hidden_size, att_dim, vocab_size, train_embed = False):\n",
    "        super(DecoderLSTMAttention, self).__init__()\n",
    "        self.embed = nn.Embedding(vocab_size, embed_size)\n",
    "        self.dropout = nn.Dropout(p=0.5)\n",
    "        \n",
    "        if not train_embed:  \n",
    "            self.embed.load_state_dict({'weight': torch.tensor(weights_matrix)})\n",
    "            \n",
    "        self.vocab_size = vocab_size\n",
    "        self.adaptive_lstm = AdaptiveLSTMCell(embed_size*2, hidden_size)\n",
    "        self.adaptive_att = AdaptiveAttention(hidden_size, att_dim)\n",
    "        self.p_affine = nn.Linear(hidden_size, vocab_size)\n",
    "        self.fine_tune(train_embed)\n",
    "    \n",
    "    def init_hidden_states(self, batch_size, hidden_size):\n",
    "        h_0 = torch.zeros((batch_size, hidden_size))\n",
    "        m_0 = torch.zeros((batch_size, hidden_size))\n",
    "        \n",
    "        return h_0, m_0\n",
    "        \n",
    "    def forward(self, V, vg, captions, cap_len, device = 'cpu'):\n",
    "        \n",
    "        inp = self.embed(captions)\n",
    "        \n",
    "        h_0, m_0 = self.init_hidden_states(V.size(0), V.size(2))\n",
    "        \n",
    "        states = h_0.to(device), m_0.to(device)\n",
    "        \n",
    "        predictions = torch.zeros((inp.size(0), inp.size(1), self.vocab_size)).to(device)\n",
    "        \n",
    "        for timestep in range(cap_len):\n",
    "            \n",
    "            x_t = torch.cat((vg, inp[timestep]), dim = 1)\n",
    "            \n",
    "            s_t, h_t, m_t = self.adaptive_lstm(x_t, states)\n",
    "            \n",
    "            states = (h_t, m_t)\n",
    "            \n",
    "            out_l = self.adaptive_att(V, h_t, s_t)\n",
    "            \n",
    "            output = self.p_affine(self.dropout(out_l))\n",
    "            \n",
    "            predictions[timestep, :, :] = output\n",
    "            \n",
    "        return predictions\n",
    "    \n",
    "    def fine_tune(self, train_embed = False):\n",
    "        \n",
    "        self.embed.weight.requires_grad = train_embed"
   ]
  },
  {
   "cell_type": "code",
   "execution_count": 23,
   "id": "republican-throat",
   "metadata": {
    "execution": {
     "iopub.execute_input": "2021-07-14T10:03:26.898473Z",
     "iopub.status.busy": "2021-07-14T10:03:26.897632Z",
     "iopub.status.idle": "2021-07-14T10:03:26.900140Z",
     "shell.execute_reply": "2021-07-14T10:03:26.899742Z",
     "shell.execute_reply.started": "2021-07-13T08:36:22.418252Z"
    },
    "papermill": {
     "duration": 0.078298,
     "end_time": "2021-07-14T10:03:26.900247",
     "exception": false,
     "start_time": "2021-07-14T10:03:26.821949",
     "status": "completed"
    },
    "tags": []
   },
   "outputs": [],
   "source": [
    "def pred(inp, V, vg, states, decoder):\n",
    "    \n",
    "    inp_c = torch.cat((vg, inp), dim = 1)\n",
    "    \n",
    "    h_t, m_t = states\n",
    "    \n",
    "    s_t, h_t, m_t = decoder.adaptive_lstm(inp_c, states)\n",
    "            \n",
    "    states = (h_t, m_t)\n",
    "            \n",
    "    out_l = decoder.adaptive_att(V, h_t, s_t)\n",
    "            \n",
    "    output = decoder.p_affine(decoder.dropout(out_l))\n",
    "    \n",
    "    output = F.softmax(output, dim = 1)\n",
    "    \n",
    "    return output.view(output.size(1)).detach().cpu().numpy(), states\n",
    "    \n",
    "def caption_image_beam(image, vocabulary, encoder, decoder, device = 'cpu', k = 10, max_length=50):\n",
    "    result_caption = []\n",
    "\n",
    "    with torch.no_grad():\n",
    "        V, vg = encoder(image)\n",
    "        states = (torch.zeros((1, V.size(2))).to(device), torch.zeros((1, V.size(2))).to(device))\n",
    "        sequences = [[list(), 0.0, states]]\n",
    "        inp = vocabulary.stoi['<SOS>']\n",
    "\n",
    "        for _ in range(max_length):\n",
    "            \n",
    "            all_candidates = list()\n",
    "            \n",
    "            for i in range(len(sequences)):\n",
    "                seq, score, states = sequences[i]\n",
    "                \n",
    "                if len(seq) != 0:\n",
    "                    inp = seq[-1]\n",
    "                    \n",
    "                    if vocabulary.itos[inp] == \"<EOS>\":\n",
    "                        all_candidates.append(sequences[i])\n",
    "                        continue\n",
    "                        \n",
    "                inp = decoder.embed(torch.tensor([inp]).to(device))\n",
    "                    \n",
    "                predictions, states = pred(inp, V, vg, states, decoder)\n",
    "                \n",
    "                word_preds = np.argsort(predictions)[-k:]\n",
    "                \n",
    "                for j in word_preds:\n",
    "                    candidate = (seq + [j], score - math.log(predictions[j]), states)\n",
    "                    all_candidates.append(candidate)\n",
    "                    \n",
    "            ordered = sorted(all_candidates, key=lambda tup:tup[1]/(len(tup[0])))\n",
    "            sequences = ordered[:k]     \n",
    "            \n",
    "    output_arr = sequences[0][0]\n",
    "            \n",
    "    if vocabulary.itos[sequences[0][0][-1]] == '<EOS>':\n",
    "        output_arr = sequences[0][0][:-1]\n",
    "        \n",
    "    if vocabulary.itos[sequences[0][0][0]] == '<SOS>':\n",
    "        output_arr = output_arr[1:]    \n",
    "        \n",
    "    return [vocabulary.itos[idx] for idx in output_arr]"
   ]
  },
  {
   "cell_type": "code",
   "execution_count": 24,
   "id": "vietnamese-toddler",
   "metadata": {
    "execution": {
     "iopub.execute_input": "2021-07-14T10:03:27.073028Z",
     "iopub.status.busy": "2021-07-14T10:03:27.072149Z",
     "iopub.status.idle": "2021-07-14T10:03:27.076086Z",
     "shell.execute_reply": "2021-07-14T10:03:27.075537Z",
     "shell.execute_reply.started": "2021-07-14T06:33:53.169196Z"
    },
    "papermill": {
     "duration": 0.114051,
     "end_time": "2021-07-14T10:03:27.076241",
     "exception": false,
     "start_time": "2021-07-14T10:03:26.962190",
     "status": "completed"
    },
    "tags": []
   },
   "outputs": [],
   "source": [
    "device = torch.device(\"cuda\" if torch.cuda.is_available() else \"cpu\")"
   ]
  },
  {
   "cell_type": "code",
   "execution_count": 25,
   "id": "filled-legend",
   "metadata": {
    "execution": {
     "iopub.execute_input": "2021-07-14T10:03:27.205735Z",
     "iopub.status.busy": "2021-07-14T10:03:27.205112Z",
     "iopub.status.idle": "2021-07-14T10:03:42.692384Z",
     "shell.execute_reply": "2021-07-14T10:03:42.691920Z",
     "shell.execute_reply.started": "2021-07-13T07:02:52.223062Z"
    },
    "papermill": {
     "duration": 15.554288,
     "end_time": "2021-07-14T10:03:42.692517",
     "exception": false,
     "start_time": "2021-07-14T10:03:27.138229",
     "status": "completed"
    },
    "tags": []
   },
   "outputs": [
    {
     "name": "stderr",
     "output_type": "stream",
     "text": [
      "Downloading: \"https://download.pytorch.org/models/resnet101-5d3b4d8f.pth\" to /root/.cache/torch/hub/checkpoints/resnet101-5d3b4d8f.pth\n"
     ]
    },
    {
     "data": {
      "application/vnd.jupyter.widget-view+json": {
       "model_id": "5dcb093020a443268416b735c49f184e",
       "version_major": 2,
       "version_minor": 0
      },
      "text/plain": [
       "  0%|          | 0.00/170M [00:00<?, ?B/s]"
      ]
     },
     "metadata": {},
     "output_type": "display_data"
    }
   ],
   "source": [
    "criterion = nn.CrossEntropyLoss(ignore_index = vocab.stoi[\"<PAD>\"])\n",
    "enc = EncoderCNN(enc_dim, embed_size, hidden_size).to(device)\n",
    "dec = DecoderLSTMAttention(embed_size, hidden_size, att_dim, vocab_size, train_embed).to(device)\n",
    "optim_enc = optim.Adam(enc.parameters(), lr = lr_enc, betas = (0.8, 0.999))\n",
    "optim_dec = optim.Adam(dec.parameters(), lr = lr_dec, betas = (0.8, 0.999))"
   ]
  },
  {
   "cell_type": "code",
   "execution_count": 26,
   "id": "designed-extent",
   "metadata": {
    "execution": {
     "iopub.execute_input": "2021-07-14T10:03:42.851715Z",
     "iopub.status.busy": "2021-07-14T10:03:42.845505Z",
     "iopub.status.idle": "2021-07-14T17:15:29.457644Z",
     "shell.execute_reply": "2021-07-14T17:15:29.458059Z"
    },
    "papermill": {
     "duration": 25906.704406,
     "end_time": "2021-07-14T17:15:29.459077",
     "exception": false,
     "start_time": "2021-07-14T10:03:42.754671",
     "status": "completed"
    },
    "tags": []
   },
   "outputs": [
    {
     "name": "stdout",
     "output_type": "stream",
     "text": [
      "Epoch [1/10] Batch [1/1813] Training loss: 9.002880096435547 Validation loss: 8.879303932189941 Cumulative BLEU Score: 0 CIDEr Score: 0.0 METEOR Score: 0.0 ROUGE_L: 0.0 \n",
      "\n",
      "Ground truth: a soccer team wearing light blue gets in a huddle during a match\n",
      "\n",
      "Predicted Caption: intercept intercept intercept intercept intercept intercept intercept intercept intercept intercept intercept intercept intercept intercept intercept intercept intercept intercept intercept intercept intercept intercept intercept intercept intercept intercept intercept intercept intercept intercept intercept intercept intercept intercept intercept intercept intercept intercept intercept intercept intercept intercept intercept intercept intercept intercept intercept intercept intercept intercept\n",
      "\n",
      "\n",
      "Epoch [1/10] Batch [601/1813] Training loss: 3.947089672088623 Validation loss: 3.641061782836914 Cumulative BLEU Score: 0.4671379777282001 CIDEr Score: 0.0 METEOR Score: 0.35106313926720206 ROUGE_L: 0.7777777777777778 \n",
      "\n",
      "Ground truth: about a dozen people are standing on a beach holding hands and looking out over the water\n",
      "\n",
      "Predicted Caption: a group of people are sitting on the beach\n",
      "\n",
      "\n"
     ]
    },
    {
     "name": "stderr",
     "output_type": "stream",
     "text": [
      "/opt/conda/lib/python3.7/site-packages/nltk/translate/bleu_score.py:516: UserWarning: \n",
      "The hypothesis contains 0 counts of 3-gram overlaps.\n",
      "Therefore the BLEU score evaluates to 0, independently of\n",
      "how many N-gram overlaps of lower order it contains.\n",
      "Consider using lower n-gram order or use SmoothingFunction()\n",
      "  warnings.warn(_msg)\n",
      "/opt/conda/lib/python3.7/site-packages/nltk/translate/bleu_score.py:516: UserWarning: \n",
      "The hypothesis contains 0 counts of 4-gram overlaps.\n",
      "Therefore the BLEU score evaluates to 0, independently of\n",
      "how many N-gram overlaps of lower order it contains.\n",
      "Consider using lower n-gram order or use SmoothingFunction()\n",
      "  warnings.warn(_msg)\n"
     ]
    },
    {
     "name": "stdout",
     "output_type": "stream",
     "text": [
      "Epoch [1/10] Batch [1201/1813] Training loss: 3.534749746322632 Validation loss: 3.6472342014312744 Cumulative BLEU Score: 6.887578243315168e-155 CIDEr Score: 0.0 METEOR Score: 0.1411296728702325 ROUGE_L: 0.25884016973125884 \n",
      "\n",
      "Ground truth: seven people by a building decorated with stone pillars by the street\n",
      "\n",
      "Predicted Caption: a man in a white shirt is walking down the street\n",
      "\n",
      "\n"
     ]
    },
    {
     "name": "stderr",
     "output_type": "stream",
     "text": [
      "/opt/conda/lib/python3.7/site-packages/nltk/translate/bleu_score.py:516: UserWarning: \n",
      "The hypothesis contains 0 counts of 4-gram overlaps.\n",
      "Therefore the BLEU score evaluates to 0, independently of\n",
      "how many N-gram overlaps of lower order it contains.\n",
      "Consider using lower n-gram order or use SmoothingFunction()\n",
      "  warnings.warn(_msg)\n"
     ]
    },
    {
     "name": "stdout",
     "output_type": "stream",
     "text": [
      "Epoch [1/10] Batch [1801/1813] Training loss: 3.481802225112915 Validation loss: 3.218985080718994 Cumulative BLEU Score: 3.4697383778638943e-78 CIDEr Score: 0.0 METEOR Score: 0.16127626466099762 ROUGE_L: 0.3793532338308458 \n",
      "\n",
      "Ground truth: a woman in a white tennis outfit has jumped into the air to hit a tennis ball\n",
      "\n",
      "Predicted Caption: a man in a white shirt and white shorts is playing tennis\n",
      "\n",
      "\n"
     ]
    },
    {
     "name": "stderr",
     "output_type": "stream",
     "text": [
      "/opt/conda/lib/python3.7/site-packages/nltk/translate/bleu_score.py:516: UserWarning: \n",
      "The hypothesis contains 0 counts of 3-gram overlaps.\n",
      "Therefore the BLEU score evaluates to 0, independently of\n",
      "how many N-gram overlaps of lower order it contains.\n",
      "Consider using lower n-gram order or use SmoothingFunction()\n",
      "  warnings.warn(_msg)\n",
      "/opt/conda/lib/python3.7/site-packages/nltk/translate/bleu_score.py:516: UserWarning: \n",
      "The hypothesis contains 0 counts of 4-gram overlaps.\n",
      "Therefore the BLEU score evaluates to 0, independently of\n",
      "how many N-gram overlaps of lower order it contains.\n",
      "Consider using lower n-gram order or use SmoothingFunction()\n",
      "  warnings.warn(_msg)\n"
     ]
    },
    {
     "name": "stdout",
     "output_type": "stream",
     "text": [
      "Epoch [2/10] Batch [1/1813] Training loss: 3.416257858276367 Validation loss: 3.560100555419922 Cumulative BLEU Score: 5.969061643530969e-155 CIDEr Score: 0.0 METEOR Score: 0.056759321655216084 ROUGE_L: 0.17818889970788707 \n",
      "\n",
      "Ground truth: a group of go cart riders are racing around a go cart track\n",
      "\n",
      "Predicted Caption: a man in a blue shirt is riding a bike in a park\n",
      "\n",
      "\n",
      "Epoch [2/10] Batch [601/1813] Training loss: 3.305448055267334 Validation loss: 3.1842007637023926 Cumulative BLEU Score: 0.4518010018049224 CIDEr Score: 0.0 METEOR Score: 0.32671506416306456 ROUGE_L: 0.6747787610619468 \n",
      "\n",
      "Ground truth: a black dog is swimming through water\n",
      "\n",
      "Predicted Caption: a black dog is running in the water\n",
      "\n",
      "\n"
     ]
    },
    {
     "name": "stderr",
     "output_type": "stream",
     "text": [
      "/opt/conda/lib/python3.7/site-packages/nltk/translate/bleu_score.py:516: UserWarning: \n",
      "The hypothesis contains 0 counts of 3-gram overlaps.\n",
      "Therefore the BLEU score evaluates to 0, independently of\n",
      "how many N-gram overlaps of lower order it contains.\n",
      "Consider using lower n-gram order or use SmoothingFunction()\n",
      "  warnings.warn(_msg)\n",
      "/opt/conda/lib/python3.7/site-packages/nltk/translate/bleu_score.py:516: UserWarning: \n",
      "The hypothesis contains 0 counts of 4-gram overlaps.\n",
      "Therefore the BLEU score evaluates to 0, independently of\n",
      "how many N-gram overlaps of lower order it contains.\n",
      "Consider using lower n-gram order or use SmoothingFunction()\n",
      "  warnings.warn(_msg)\n"
     ]
    },
    {
     "name": "stdout",
     "output_type": "stream",
     "text": [
      "Epoch [2/10] Batch [1201/1813] Training loss: 3.542790651321411 Validation loss: 3.2266008853912354 Cumulative BLEU Score: 8.909555824566607e-155 CIDEr Score: 0.0 METEOR Score: 0.10504657646637346 ROUGE_L: 0.3022295623451693 \n",
      "\n",
      "Ground truth: a boy and girl in black jumpsuits stand facing a girl in a pink jacket with adults in the background\n",
      "\n",
      "Predicted Caption: a group of people are standing in front of a tree\n",
      "\n",
      "\n"
     ]
    },
    {
     "name": "stderr",
     "output_type": "stream",
     "text": [
      "/opt/conda/lib/python3.7/site-packages/nltk/translate/bleu_score.py:516: UserWarning: \n",
      "The hypothesis contains 0 counts of 3-gram overlaps.\n",
      "Therefore the BLEU score evaluates to 0, independently of\n",
      "how many N-gram overlaps of lower order it contains.\n",
      "Consider using lower n-gram order or use SmoothingFunction()\n",
      "  warnings.warn(_msg)\n",
      "/opt/conda/lib/python3.7/site-packages/nltk/translate/bleu_score.py:516: UserWarning: \n",
      "The hypothesis contains 0 counts of 4-gram overlaps.\n",
      "Therefore the BLEU score evaluates to 0, independently of\n",
      "how many N-gram overlaps of lower order it contains.\n",
      "Consider using lower n-gram order or use SmoothingFunction()\n",
      "  warnings.warn(_msg)\n"
     ]
    },
    {
     "name": "stdout",
     "output_type": "stream",
     "text": [
      "Epoch [2/10] Batch [1801/1813] Training loss: 3.0850398540496826 Validation loss: 2.9898736476898193 Cumulative BLEU Score: 8.833868277634108e-155 CIDEr Score: 0.0 METEOR Score: 0.13992764292894627 ROUGE_L: 0.271412680756396 \n",
      "\n",
      "Ground truth: woman in pink jacket and short skirt has confused look on her face\n",
      "\n",
      "Predicted Caption: a woman in a black shirt is walking down the street\n",
      "\n",
      "\n"
     ]
    },
    {
     "name": "stderr",
     "output_type": "stream",
     "text": [
      "/opt/conda/lib/python3.7/site-packages/nltk/translate/bleu_score.py:516: UserWarning: \n",
      "The hypothesis contains 0 counts of 3-gram overlaps.\n",
      "Therefore the BLEU score evaluates to 0, independently of\n",
      "how many N-gram overlaps of lower order it contains.\n",
      "Consider using lower n-gram order or use SmoothingFunction()\n",
      "  warnings.warn(_msg)\n",
      "/opt/conda/lib/python3.7/site-packages/nltk/translate/bleu_score.py:516: UserWarning: \n",
      "The hypothesis contains 0 counts of 4-gram overlaps.\n",
      "Therefore the BLEU score evaluates to 0, independently of\n",
      "how many N-gram overlaps of lower order it contains.\n",
      "Consider using lower n-gram order or use SmoothingFunction()\n",
      "  warnings.warn(_msg)\n"
     ]
    },
    {
     "name": "stdout",
     "output_type": "stream",
     "text": [
      "Epoch [3/10] Batch [1/1813] Training loss: 3.1325855255126953 Validation loss: 3.146336317062378 Cumulative BLEU Score: 8.129855005981316e-155 CIDEr Score: 0.0 METEOR Score: 0.18327183320838072 ROUGE_L: 0.36563436563436563 \n",
      "\n",
      "Ground truth: a person in a red and black jacket with a black backpack scales a mountain face\n",
      "\n",
      "Predicted Caption: a man in a blue shirt and black pants is sitting on a rock in the snow\n",
      "\n",
      "\n"
     ]
    },
    {
     "name": "stderr",
     "output_type": "stream",
     "text": [
      "/opt/conda/lib/python3.7/site-packages/nltk/translate/bleu_score.py:516: UserWarning: \n",
      "The hypothesis contains 0 counts of 4-gram overlaps.\n",
      "Therefore the BLEU score evaluates to 0, independently of\n",
      "how many N-gram overlaps of lower order it contains.\n",
      "Consider using lower n-gram order or use SmoothingFunction()\n",
      "  warnings.warn(_msg)\n"
     ]
    },
    {
     "name": "stdout",
     "output_type": "stream",
     "text": [
      "Epoch [3/10] Batch [601/1813] Training loss: 3.330070734024048 Validation loss: 3.105966329574585 Cumulative BLEU Score: 5.021333847570327e-78 CIDEr Score: 0.0 METEOR Score: 0.17867101395070953 ROUGE_L: 0.42857142857142855 \n",
      "\n",
      "Ground truth: a black dog digging through the snow\n",
      "\n",
      "Predicted Caption: two dogs are playing in the snow\n",
      "\n",
      "\n"
     ]
    },
    {
     "name": "stderr",
     "output_type": "stream",
     "text": [
      "/opt/conda/lib/python3.7/site-packages/nltk/translate/bleu_score.py:516: UserWarning: \n",
      "The hypothesis contains 0 counts of 3-gram overlaps.\n",
      "Therefore the BLEU score evaluates to 0, independently of\n",
      "how many N-gram overlaps of lower order it contains.\n",
      "Consider using lower n-gram order or use SmoothingFunction()\n",
      "  warnings.warn(_msg)\n",
      "/opt/conda/lib/python3.7/site-packages/nltk/translate/bleu_score.py:516: UserWarning: \n",
      "The hypothesis contains 0 counts of 4-gram overlaps.\n",
      "Therefore the BLEU score evaluates to 0, independently of\n",
      "how many N-gram overlaps of lower order it contains.\n",
      "Consider using lower n-gram order or use SmoothingFunction()\n",
      "  warnings.warn(_msg)\n"
     ]
    },
    {
     "name": "stdout",
     "output_type": "stream",
     "text": [
      "Epoch [3/10] Batch [1201/1813] Training loss: 3.0230979919433594 Validation loss: 3.2279369831085205 Cumulative BLEU Score: 6.197223199276648e-155 CIDEr Score: 0.0 METEOR Score: 0.07897681854516388 ROUGE_L: 0.28328173374613 \n",
      "\n",
      "Ground truth: a young boy rests in a hospital bed\n",
      "\n",
      "Predicted Caption: a man and a woman are sitting on a couch\n",
      "\n",
      "\n"
     ]
    },
    {
     "name": "stderr",
     "output_type": "stream",
     "text": [
      "/opt/conda/lib/python3.7/site-packages/nltk/translate/bleu_score.py:516: UserWarning: \n",
      "The hypothesis contains 0 counts of 2-gram overlaps.\n",
      "Therefore the BLEU score evaluates to 0, independently of\n",
      "how many N-gram overlaps of lower order it contains.\n",
      "Consider using lower n-gram order or use SmoothingFunction()\n",
      "  warnings.warn(_msg)\n",
      "/opt/conda/lib/python3.7/site-packages/nltk/translate/bleu_score.py:516: UserWarning: \n",
      "The hypothesis contains 0 counts of 3-gram overlaps.\n",
      "Therefore the BLEU score evaluates to 0, independently of\n",
      "how many N-gram overlaps of lower order it contains.\n",
      "Consider using lower n-gram order or use SmoothingFunction()\n",
      "  warnings.warn(_msg)\n",
      "/opt/conda/lib/python3.7/site-packages/nltk/translate/bleu_score.py:516: UserWarning: \n",
      "The hypothesis contains 0 counts of 4-gram overlaps.\n",
      "Therefore the BLEU score evaluates to 0, independently of\n",
      "how many N-gram overlaps of lower order it contains.\n",
      "Consider using lower n-gram order or use SmoothingFunction()\n",
      "  warnings.warn(_msg)\n"
     ]
    },
    {
     "name": "stdout",
     "output_type": "stream",
     "text": [
      "Epoch [3/10] Batch [1801/1813] Training loss: 2.970649242401123 Validation loss: 3.0335514545440674 Cumulative BLEU Score: 1.1795617510369435e-231 CIDEr Score: 0.0 METEOR Score: 0.14143331021078454 ROUGE_L: 0.18711656441717792 \n",
      "\n",
      "Ground truth: people are being photographed while mountain climbing or hiking\n",
      "\n",
      "Predicted Caption: a man is climbing a rock\n",
      "\n",
      "\n",
      "Epoch [4/10] Batch [1/1813] Training loss: 2.897747039794922 Validation loss: 3.0344724655151367 Cumulative BLEU Score: 0.28997844147152074 CIDEr Score: 0.0 METEOR Score: 0.17015795623333033 ROUGE_L: 0.41049798115746977 \n",
      "\n",
      "Ground truth: woman in coat outside a house while snowing\n",
      "\n",
      "Predicted Caption: a man in a blue shirt is working on a roof\n",
      "\n",
      "\n"
     ]
    },
    {
     "name": "stderr",
     "output_type": "stream",
     "text": [
      "/opt/conda/lib/python3.7/site-packages/nltk/translate/bleu_score.py:516: UserWarning: \n",
      "The hypothesis contains 0 counts of 3-gram overlaps.\n",
      "Therefore the BLEU score evaluates to 0, independently of\n",
      "how many N-gram overlaps of lower order it contains.\n",
      "Consider using lower n-gram order or use SmoothingFunction()\n",
      "  warnings.warn(_msg)\n",
      "/opt/conda/lib/python3.7/site-packages/nltk/translate/bleu_score.py:516: UserWarning: \n",
      "The hypothesis contains 0 counts of 4-gram overlaps.\n",
      "Therefore the BLEU score evaluates to 0, independently of\n",
      "how many N-gram overlaps of lower order it contains.\n",
      "Consider using lower n-gram order or use SmoothingFunction()\n",
      "  warnings.warn(_msg)\n"
     ]
    },
    {
     "name": "stdout",
     "output_type": "stream",
     "text": [
      "Epoch [4/10] Batch [601/1813] Training loss: 3.042846441268921 Validation loss: 3.041705846786499 Cumulative BLEU Score: 9.420708298915794e-155 CIDEr Score: 0.0 METEOR Score: 0.13046845852467348 ROUGE_L: 0.3388888888888889 \n",
      "\n",
      "Ground truth: a young indian boy sitting down thinking about his future\n",
      "\n",
      "Predicted Caption: a little girl in a pink shirt is sitting on a swing\n",
      "\n",
      "\n"
     ]
    },
    {
     "name": "stderr",
     "output_type": "stream",
     "text": [
      "/opt/conda/lib/python3.7/site-packages/nltk/translate/bleu_score.py:516: UserWarning: \n",
      "The hypothesis contains 0 counts of 3-gram overlaps.\n",
      "Therefore the BLEU score evaluates to 0, independently of\n",
      "how many N-gram overlaps of lower order it contains.\n",
      "Consider using lower n-gram order or use SmoothingFunction()\n",
      "  warnings.warn(_msg)\n",
      "/opt/conda/lib/python3.7/site-packages/nltk/translate/bleu_score.py:516: UserWarning: \n",
      "The hypothesis contains 0 counts of 4-gram overlaps.\n",
      "Therefore the BLEU score evaluates to 0, independently of\n",
      "how many N-gram overlaps of lower order it contains.\n",
      "Consider using lower n-gram order or use SmoothingFunction()\n",
      "  warnings.warn(_msg)\n"
     ]
    },
    {
     "name": "stdout",
     "output_type": "stream",
     "text": [
      "Epoch [4/10] Batch [1201/1813] Training loss: 3.1287050247192383 Validation loss: 2.995999336242676 Cumulative BLEU Score: 8.988913042377078e-155 CIDEr Score: 0.0 METEOR Score: 0.10251957047703934 ROUGE_L: 0.3293736501079914 \n",
      "\n",
      "Ground truth: two people are kneeling in two holes next to a couple of pails\n",
      "\n",
      "Predicted Caption: a group of people are sitting on the ground in front of a building\n",
      "\n",
      "\n",
      "Epoch [4/10] Batch [1801/1813] Training loss: 2.8377318382263184 Validation loss: 2.9641828536987305 Cumulative BLEU Score: 0.3347024142593402 CIDEr Score: 0.0 METEOR Score: 0.4404316252086416 ROUGE_L: 0.7557522123893805 \n",
      "\n",
      "Ground truth: a woman in yellow with a stroller and a man in a blue shirt with a backpack are walking on a busy city block\n",
      "\n",
      "Predicted Caption: a man and a woman are walking down the street\n",
      "\n",
      "\n"
     ]
    },
    {
     "name": "stderr",
     "output_type": "stream",
     "text": [
      "/opt/conda/lib/python3.7/site-packages/nltk/translate/bleu_score.py:516: UserWarning: \n",
      "The hypothesis contains 0 counts of 4-gram overlaps.\n",
      "Therefore the BLEU score evaluates to 0, independently of\n",
      "how many N-gram overlaps of lower order it contains.\n",
      "Consider using lower n-gram order or use SmoothingFunction()\n",
      "  warnings.warn(_msg)\n"
     ]
    },
    {
     "name": "stdout",
     "output_type": "stream",
     "text": [
      "Epoch [5/10] Batch [1/1813] Training loss: 2.925511360168457 Validation loss: 3.024815082550049 Cumulative BLEU Score: 5.542933034426911e-78 CIDEr Score: 0.0 METEOR Score: 0.18049042335070173 ROUGE_L: 0.5083333333333334 \n",
      "\n",
      "Ground truth: a woman is dancing in front of a shrub\n",
      "\n",
      "Predicted Caption: a brown dog is jumping in the air to catch a frisbee\n",
      "\n",
      "\n"
     ]
    },
    {
     "name": "stderr",
     "output_type": "stream",
     "text": [
      "/opt/conda/lib/python3.7/site-packages/nltk/translate/bleu_score.py:516: UserWarning: \n",
      "The hypothesis contains 0 counts of 3-gram overlaps.\n",
      "Therefore the BLEU score evaluates to 0, independently of\n",
      "how many N-gram overlaps of lower order it contains.\n",
      "Consider using lower n-gram order or use SmoothingFunction()\n",
      "  warnings.warn(_msg)\n",
      "/opt/conda/lib/python3.7/site-packages/nltk/translate/bleu_score.py:516: UserWarning: \n",
      "The hypothesis contains 0 counts of 4-gram overlaps.\n",
      "Therefore the BLEU score evaluates to 0, independently of\n",
      "how many N-gram overlaps of lower order it contains.\n",
      "Consider using lower n-gram order or use SmoothingFunction()\n",
      "  warnings.warn(_msg)\n"
     ]
    },
    {
     "name": "stdout",
     "output_type": "stream",
     "text": [
      "Epoch [5/10] Batch [601/1813] Training loss: 2.8605029582977295 Validation loss: 2.9201550483703613 Cumulative BLEU Score: 5.0437883815744365e-155 CIDEr Score: 0.0 METEOR Score: 0.06274509803921569 ROUGE_L: 0.25416666666666665 \n",
      "\n",
      "Ground truth: a group of musicians are recording music\n",
      "\n",
      "Predicted Caption: a man in a white shirt is playing a musical instrument in front of a crowd of people\n",
      "\n",
      "\n",
      "Epoch [5/10] Batch [1201/1813] Training loss: 2.89184308052063 Validation loss: 2.9765655994415283 Cumulative BLEU Score: 0.2620251007173262 CIDEr Score: 0.0 METEOR Score: 0.2099866051295984 ROUGE_L: 0.48878205128205127 \n",
      "\n",
      "Ground truth: a man in a beige shirt installing communications equipment\n",
      "\n",
      "Predicted Caption: a man in a blue shirt is looking at a computer screen\n",
      "\n",
      "\n",
      "Epoch [5/10] Batch [1801/1813] Training loss: 2.8083345890045166 Validation loss: 2.9537723064422607 Cumulative BLEU Score: 0.3405204944353418 CIDEr Score: 0.0 METEOR Score: 0.2669610885553915 ROUGE_L: 0.5689119170984456 \n",
      "\n",
      "Ground truth: people are bathing in water possibly for religious reasons\n",
      "\n",
      "Predicted Caption: a group of people are sitting on a bench in front of a large body of water\n",
      "\n",
      "\n"
     ]
    },
    {
     "name": "stderr",
     "output_type": "stream",
     "text": [
      "/opt/conda/lib/python3.7/site-packages/nltk/translate/bleu_score.py:516: UserWarning: \n",
      "The hypothesis contains 0 counts of 3-gram overlaps.\n",
      "Therefore the BLEU score evaluates to 0, independently of\n",
      "how many N-gram overlaps of lower order it contains.\n",
      "Consider using lower n-gram order or use SmoothingFunction()\n",
      "  warnings.warn(_msg)\n",
      "/opt/conda/lib/python3.7/site-packages/nltk/translate/bleu_score.py:516: UserWarning: \n",
      "The hypothesis contains 0 counts of 4-gram overlaps.\n",
      "Therefore the BLEU score evaluates to 0, independently of\n",
      "how many N-gram overlaps of lower order it contains.\n",
      "Consider using lower n-gram order or use SmoothingFunction()\n",
      "  warnings.warn(_msg)\n"
     ]
    },
    {
     "name": "stdout",
     "output_type": "stream",
     "text": [
      "Epoch [6/10] Batch [1/1813] Training loss: 2.7456796169281006 Validation loss: 3.018756628036499 Cumulative BLEU Score: 6.8489908526642754e-155 CIDEr Score: 0.0 METEOR Score: 0.18962962962962965 ROUGE_L: 0.31881533101045295 \n",
      "\n",
      "Ground truth: a dog playing in a park\n",
      "\n",
      "Predicted Caption: a brown and white dog is running through the grass\n",
      "\n",
      "\n",
      "Epoch [6/10] Batch [601/1813] Training loss: 2.966130018234253 Validation loss: 2.926445722579956 Cumulative BLEU Score: 0.42728700639623407 CIDEr Score: 0.0 METEOR Score: 0.2367474958382266 ROUGE_L: 0.48541114058355433 \n",
      "\n",
      "Ground truth: a woman wearing white reaches high above herself to hit a tennis ball\n",
      "\n",
      "Predicted Caption: a woman in a white tank top is playing tennis\n",
      "\n",
      "\n"
     ]
    },
    {
     "name": "stderr",
     "output_type": "stream",
     "text": [
      "/opt/conda/lib/python3.7/site-packages/nltk/translate/bleu_score.py:516: UserWarning: \n",
      "The hypothesis contains 0 counts of 4-gram overlaps.\n",
      "Therefore the BLEU score evaluates to 0, independently of\n",
      "how many N-gram overlaps of lower order it contains.\n",
      "Consider using lower n-gram order or use SmoothingFunction()\n",
      "  warnings.warn(_msg)\n"
     ]
    },
    {
     "name": "stdout",
     "output_type": "stream",
     "text": [
      "Epoch [6/10] Batch [1201/1813] Training loss: 2.8920464515686035 Validation loss: 3.0446014404296875 Cumulative BLEU Score: 5.333384990808849e-78 CIDEr Score: 0.0 METEOR Score: 0.16428262048585554 ROUGE_L: 0.4718232044198895 \n",
      "\n",
      "Ground truth: two men in a small boat rowing down a river\n",
      "\n",
      "Predicted Caption: a group of people are in a canoe on a river\n",
      "\n",
      "\n",
      "Epoch [6/10] Batch [1801/1813] Training loss: 2.6322267055511475 Validation loss: 2.8341917991638184 Cumulative BLEU Score: 0.10332090908268508 CIDEr Score: 0.0 METEOR Score: 0.12763090011657885 ROUGE_L: 0.27664399092970515 \n",
      "\n",
      "Ground truth: smiling girl with white shirt with boy standing behind making rabbit ears behind her head\n",
      "\n",
      "Predicted Caption: a woman in a blue shirt and a man in a blue shirt and a man in a white shirt are standing in front of a fence\n",
      "\n",
      "\n",
      "Epoch [7/10] Batch [1/1813] Training loss: 2.7569851875305176 Validation loss: 2.73681378364563 Cumulative BLEU Score: 0.35930411196308415 CIDEr Score: 0.0 METEOR Score: 0.297051612002213 ROUGE_L: 0.6297935103244838 \n",
      "\n",
      "Ground truth: about a dozen people are standing on a beach holding hands and looking out over the water\n",
      "\n",
      "Predicted Caption: a group of people are standing in the sand at the beach\n",
      "\n",
      "\n",
      "Epoch [7/10] Batch [601/1813] Training loss: 2.794412612915039 Validation loss: 2.8501691818237305 Cumulative BLEU Score: 0.5516251532744788 CIDEr Score: 0.0 METEOR Score: 0.24433230793980848 ROUGE_L: 0.6256410256410255 \n",
      "\n",
      "Ground truth: protester march through a park with signs\n",
      "\n",
      "Predicted Caption: a group of people are walking down a street\n",
      "\n",
      "\n"
     ]
    },
    {
     "name": "stderr",
     "output_type": "stream",
     "text": [
      "/opt/conda/lib/python3.7/site-packages/nltk/translate/bleu_score.py:516: UserWarning: \n",
      "The hypothesis contains 0 counts of 3-gram overlaps.\n",
      "Therefore the BLEU score evaluates to 0, independently of\n",
      "how many N-gram overlaps of lower order it contains.\n",
      "Consider using lower n-gram order or use SmoothingFunction()\n",
      "  warnings.warn(_msg)\n",
      "/opt/conda/lib/python3.7/site-packages/nltk/translate/bleu_score.py:516: UserWarning: \n",
      "The hypothesis contains 0 counts of 4-gram overlaps.\n",
      "Therefore the BLEU score evaluates to 0, independently of\n",
      "how many N-gram overlaps of lower order it contains.\n",
      "Consider using lower n-gram order or use SmoothingFunction()\n",
      "  warnings.warn(_msg)\n"
     ]
    },
    {
     "name": "stdout",
     "output_type": "stream",
     "text": [
      "Epoch [7/10] Batch [1201/1813] Training loss: 2.6529152393341064 Validation loss: 2.9480559825897217 Cumulative BLEU Score: 5.468392650512372e-155 CIDEr Score: 0.0 METEOR Score: 0.13170023719474355 ROUGE_L: 0.41838134430727025 \n",
      "\n",
      "Ground truth: a man with a ski cap and neon yellow jacket looking down with a tree behind him\n",
      "\n",
      "Predicted Caption: a man is doing a trick on a skateboard\n",
      "\n",
      "\n"
     ]
    },
    {
     "name": "stderr",
     "output_type": "stream",
     "text": [
      "/opt/conda/lib/python3.7/site-packages/nltk/translate/bleu_score.py:516: UserWarning: \n",
      "The hypothesis contains 0 counts of 4-gram overlaps.\n",
      "Therefore the BLEU score evaluates to 0, independently of\n",
      "how many N-gram overlaps of lower order it contains.\n",
      "Consider using lower n-gram order or use SmoothingFunction()\n",
      "  warnings.warn(_msg)\n"
     ]
    },
    {
     "name": "stdout",
     "output_type": "stream",
     "text": [
      "Epoch [7/10] Batch [1801/1813] Training loss: 2.7063865661621094 Validation loss: 2.9258475303649902 Cumulative BLEU Score: 3.869721816092234e-78 CIDEr Score: 0.0 METEOR Score: 0.22449007694018258 ROUGE_L: 0.4699537750385208 \n",
      "\n",
      "Ground truth: a young woman in a pink shirt attempting to rope a calf at the rodeo\n",
      "\n",
      "Predicted Caption: a man in a cowboy hat is riding a horse in a rodeo\n",
      "\n",
      "\n"
     ]
    },
    {
     "name": "stderr",
     "output_type": "stream",
     "text": [
      "/opt/conda/lib/python3.7/site-packages/nltk/translate/bleu_score.py:516: UserWarning: \n",
      "The hypothesis contains 0 counts of 3-gram overlaps.\n",
      "Therefore the BLEU score evaluates to 0, independently of\n",
      "how many N-gram overlaps of lower order it contains.\n",
      "Consider using lower n-gram order or use SmoothingFunction()\n",
      "  warnings.warn(_msg)\n",
      "/opt/conda/lib/python3.7/site-packages/nltk/translate/bleu_score.py:516: UserWarning: \n",
      "The hypothesis contains 0 counts of 4-gram overlaps.\n",
      "Therefore the BLEU score evaluates to 0, independently of\n",
      "how many N-gram overlaps of lower order it contains.\n",
      "Consider using lower n-gram order or use SmoothingFunction()\n",
      "  warnings.warn(_msg)\n"
     ]
    },
    {
     "name": "stdout",
     "output_type": "stream",
     "text": [
      "Epoch [8/10] Batch [1/1813] Training loss: 2.6618099212646484 Validation loss: 2.949052095413208 Cumulative BLEU Score: 8.57273414893938e-155 CIDEr Score: 0.0 METEOR Score: 0.1482545035913598 ROUGE_L: 0.42068965517241375 \n",
      "\n",
      "Ground truth: a young caucasian man is holding a little boy of perhaps hispanic descent in front of a worn building\n",
      "\n",
      "Predicted Caption: a man is playing a guitar and singing into a microphone\n",
      "\n",
      "\n"
     ]
    },
    {
     "name": "stderr",
     "output_type": "stream",
     "text": [
      "/opt/conda/lib/python3.7/site-packages/nltk/translate/bleu_score.py:516: UserWarning: \n",
      "The hypothesis contains 0 counts of 4-gram overlaps.\n",
      "Therefore the BLEU score evaluates to 0, independently of\n",
      "how many N-gram overlaps of lower order it contains.\n",
      "Consider using lower n-gram order or use SmoothingFunction()\n",
      "  warnings.warn(_msg)\n"
     ]
    },
    {
     "name": "stdout",
     "output_type": "stream",
     "text": [
      "Epoch [8/10] Batch [601/1813] Training loss: 2.6000208854675293 Validation loss: 2.9542324542999268 Cumulative BLEU Score: 5.30941411456236e-78 CIDEr Score: 0.0 METEOR Score: 0.2890102156773734 ROUGE_L: 0.594541910331384 \n",
      "\n",
      "Ground truth: a dog buries its head in the snow\n",
      "\n",
      "Predicted Caption: a dog jumps in the air in the snow\n",
      "\n",
      "\n",
      "Epoch [8/10] Batch [1201/1813] Training loss: 2.688284397125244 Validation loss: 2.8871641159057617 Cumulative BLEU Score: 0.2547696540824902 CIDEr Score: 0.0 METEOR Score: 0.1890481386763671 ROUGE_L: 0.37423312883435583 \n",
      "\n",
      "Ground truth: a military man holding a camera showing a child the film on the camera\n",
      "\n",
      "Predicted Caption: a man in a military uniform is looking through a telescope\n",
      "\n",
      "\n"
     ]
    },
    {
     "name": "stderr",
     "output_type": "stream",
     "text": [
      "/opt/conda/lib/python3.7/site-packages/nltk/translate/bleu_score.py:516: UserWarning: \n",
      "The hypothesis contains 0 counts of 3-gram overlaps.\n",
      "Therefore the BLEU score evaluates to 0, independently of\n",
      "how many N-gram overlaps of lower order it contains.\n",
      "Consider using lower n-gram order or use SmoothingFunction()\n",
      "  warnings.warn(_msg)\n",
      "/opt/conda/lib/python3.7/site-packages/nltk/translate/bleu_score.py:516: UserWarning: \n",
      "The hypothesis contains 0 counts of 4-gram overlaps.\n",
      "Therefore the BLEU score evaluates to 0, independently of\n",
      "how many N-gram overlaps of lower order it contains.\n",
      "Consider using lower n-gram order or use SmoothingFunction()\n",
      "  warnings.warn(_msg)\n"
     ]
    },
    {
     "name": "stdout",
     "output_type": "stream",
     "text": [
      "Epoch [8/10] Batch [1801/1813] Training loss: 2.7509243488311768 Validation loss: 2.8373308181762695 Cumulative BLEU Score: 8.014508691042773e-155 CIDEr Score: 0.0 METEOR Score: 0.15266006689934736 ROUGE_L: 0.3333333333333333 \n",
      "\n",
      "Ground truth: two construction workers assist in the loading of a dump truck at an urban construction site\n",
      "\n",
      "Predicted Caption: a man is working on a piece of machinery\n",
      "\n",
      "\n"
     ]
    },
    {
     "name": "stderr",
     "output_type": "stream",
     "text": [
      "/opt/conda/lib/python3.7/site-packages/nltk/translate/bleu_score.py:516: UserWarning: \n",
      "The hypothesis contains 0 counts of 4-gram overlaps.\n",
      "Therefore the BLEU score evaluates to 0, independently of\n",
      "how many N-gram overlaps of lower order it contains.\n",
      "Consider using lower n-gram order or use SmoothingFunction()\n",
      "  warnings.warn(_msg)\n"
     ]
    },
    {
     "name": "stdout",
     "output_type": "stream",
     "text": [
      "Epoch [9/10] Batch [1/1813] Training loss: 2.5092363357543945 Validation loss: 3.0261356830596924 Cumulative BLEU Score: 4.797597231912944e-78 CIDEr Score: 0.0 METEOR Score: 0.20452565316957166 ROUGE_L: 0.5213675213675214 \n",
      "\n",
      "Ground truth: a man spoon feeds a baby in a toddlers seat\n",
      "\n",
      "Predicted Caption: a baby is holding a baby in his mouth\n",
      "\n",
      "\n",
      "Epoch [9/10] Batch [601/1813] Training loss: 2.5830483436584473 Validation loss: 2.890787124633789 Cumulative BLEU Score: 0.3549481056010053 CIDEr Score: 0.0 METEOR Score: 0.3304757757859882 ROUGE_L: 0.6777777777777778 \n",
      "\n",
      "Ground truth: friends are having a great time\n",
      "\n",
      "Predicted Caption: a group of people are gathered in a room\n",
      "\n",
      "\n"
     ]
    },
    {
     "name": "stderr",
     "output_type": "stream",
     "text": [
      "/opt/conda/lib/python3.7/site-packages/nltk/translate/bleu_score.py:516: UserWarning: \n",
      "The hypothesis contains 0 counts of 3-gram overlaps.\n",
      "Therefore the BLEU score evaluates to 0, independently of\n",
      "how many N-gram overlaps of lower order it contains.\n",
      "Consider using lower n-gram order or use SmoothingFunction()\n",
      "  warnings.warn(_msg)\n",
      "/opt/conda/lib/python3.7/site-packages/nltk/translate/bleu_score.py:516: UserWarning: \n",
      "The hypothesis contains 0 counts of 4-gram overlaps.\n",
      "Therefore the BLEU score evaluates to 0, independently of\n",
      "how many N-gram overlaps of lower order it contains.\n",
      "Consider using lower n-gram order or use SmoothingFunction()\n",
      "  warnings.warn(_msg)\n"
     ]
    },
    {
     "name": "stdout",
     "output_type": "stream",
     "text": [
      "Epoch [9/10] Batch [1201/1813] Training loss: 2.64444899559021 Validation loss: 2.7044267654418945 Cumulative BLEU Score: 8.097571688037113e-155 CIDEr Score: 0.0 METEOR Score: 0.27390953925103506 ROUGE_L: 0.4641304347826086 \n",
      "\n",
      "Ground truth: a long haired man in the water is swinging his head causing the water to spray in a spiral\n",
      "\n",
      "Predicted Caption: a man is standing on the edge of a body of water with a body of water in the background\n",
      "\n",
      "\n"
     ]
    },
    {
     "name": "stderr",
     "output_type": "stream",
     "text": [
      "/opt/conda/lib/python3.7/site-packages/nltk/translate/bleu_score.py:516: UserWarning: \n",
      "The hypothesis contains 0 counts of 3-gram overlaps.\n",
      "Therefore the BLEU score evaluates to 0, independently of\n",
      "how many N-gram overlaps of lower order it contains.\n",
      "Consider using lower n-gram order or use SmoothingFunction()\n",
      "  warnings.warn(_msg)\n",
      "/opt/conda/lib/python3.7/site-packages/nltk/translate/bleu_score.py:516: UserWarning: \n",
      "The hypothesis contains 0 counts of 4-gram overlaps.\n",
      "Therefore the BLEU score evaluates to 0, independently of\n",
      "how many N-gram overlaps of lower order it contains.\n",
      "Consider using lower n-gram order or use SmoothingFunction()\n",
      "  warnings.warn(_msg)\n"
     ]
    },
    {
     "name": "stdout",
     "output_type": "stream",
     "text": [
      "Epoch [9/10] Batch [1801/1813] Training loss: 2.601038694381714 Validation loss: 2.782965898513794 Cumulative BLEU Score: 8.167155382413152e-155 CIDEr Score: 0.0 METEOR Score: 0.10707283390923819 ROUGE_L: 0.44721407624633425 \n",
      "\n",
      "Ground truth: people are walking down a sidewalk where there is an outdoors market\n",
      "\n",
      "Predicted Caption: a group of people are standing outside of a building\n",
      "\n",
      "\n"
     ]
    },
    {
     "name": "stderr",
     "output_type": "stream",
     "text": [
      "/opt/conda/lib/python3.7/site-packages/nltk/translate/bleu_score.py:516: UserWarning: \n",
      "The hypothesis contains 0 counts of 3-gram overlaps.\n",
      "Therefore the BLEU score evaluates to 0, independently of\n",
      "how many N-gram overlaps of lower order it contains.\n",
      "Consider using lower n-gram order or use SmoothingFunction()\n",
      "  warnings.warn(_msg)\n",
      "/opt/conda/lib/python3.7/site-packages/nltk/translate/bleu_score.py:516: UserWarning: \n",
      "The hypothesis contains 0 counts of 4-gram overlaps.\n",
      "Therefore the BLEU score evaluates to 0, independently of\n",
      "how many N-gram overlaps of lower order it contains.\n",
      "Consider using lower n-gram order or use SmoothingFunction()\n",
      "  warnings.warn(_msg)\n"
     ]
    },
    {
     "name": "stdout",
     "output_type": "stream",
     "text": [
      "Epoch [10/10] Batch [1/1813] Training loss: 2.4289557933807373 Validation loss: 2.701280355453491 Cumulative BLEU Score: 6.5806869883189804e-155 CIDEr Score: 0.0 METEOR Score: 0.05393182130112234 ROUGE_L: 0.2629310344827586 \n",
      "\n",
      "Ground truth: a woman dangles from a blue fabric connected to a tree\n",
      "\n",
      "Predicted Caption: a little girl in a pink shirt is jumping in the air\n",
      "\n",
      "\n",
      "Epoch [10/10] Batch [601/1813] Training loss: 2.6412129402160645 Validation loss: 2.878293991088867 Cumulative BLEU Score: 0.2521193618434983 CIDEr Score: 0.0 METEOR Score: 0.33685561701737793 ROUGE_L: 0.580952380952381 \n",
      "\n",
      "Ground truth: three dogs are in the snow\n",
      "\n",
      "Predicted Caption: a black dog and a brown dog are playing in the snow\n",
      "\n",
      "\n"
     ]
    },
    {
     "name": "stderr",
     "output_type": "stream",
     "text": [
      "/opt/conda/lib/python3.7/site-packages/nltk/translate/bleu_score.py:516: UserWarning: \n",
      "The hypothesis contains 0 counts of 3-gram overlaps.\n",
      "Therefore the BLEU score evaluates to 0, independently of\n",
      "how many N-gram overlaps of lower order it contains.\n",
      "Consider using lower n-gram order or use SmoothingFunction()\n",
      "  warnings.warn(_msg)\n",
      "/opt/conda/lib/python3.7/site-packages/nltk/translate/bleu_score.py:516: UserWarning: \n",
      "The hypothesis contains 0 counts of 4-gram overlaps.\n",
      "Therefore the BLEU score evaluates to 0, independently of\n",
      "how many N-gram overlaps of lower order it contains.\n",
      "Consider using lower n-gram order or use SmoothingFunction()\n",
      "  warnings.warn(_msg)\n"
     ]
    },
    {
     "name": "stdout",
     "output_type": "stream",
     "text": [
      "Epoch [10/10] Batch [1201/1813] Training loss: 2.6724796295166016 Validation loss: 2.9629733562469482 Cumulative BLEU Score: 4.565054879844424e-155 CIDEr Score: 0.0 METEOR Score: 0.0923457513777128 ROUGE_L: 0.18692543411644533 \n",
      "\n",
      "Ground truth: four women dressed up in funny costumes\n",
      "\n",
      "Predicted Caption: a woman in a black and white dress is dancing with a woman in a black and white dress\n",
      "\n",
      "\n"
     ]
    },
    {
     "name": "stderr",
     "output_type": "stream",
     "text": [
      "/opt/conda/lib/python3.7/site-packages/nltk/translate/bleu_score.py:516: UserWarning: \n",
      "The hypothesis contains 0 counts of 3-gram overlaps.\n",
      "Therefore the BLEU score evaluates to 0, independently of\n",
      "how many N-gram overlaps of lower order it contains.\n",
      "Consider using lower n-gram order or use SmoothingFunction()\n",
      "  warnings.warn(_msg)\n",
      "/opt/conda/lib/python3.7/site-packages/nltk/translate/bleu_score.py:516: UserWarning: \n",
      "The hypothesis contains 0 counts of 4-gram overlaps.\n",
      "Therefore the BLEU score evaluates to 0, independently of\n",
      "how many N-gram overlaps of lower order it contains.\n",
      "Consider using lower n-gram order or use SmoothingFunction()\n",
      "  warnings.warn(_msg)\n"
     ]
    },
    {
     "name": "stdout",
     "output_type": "stream",
     "text": [
      "Epoch [10/10] Batch [1801/1813] Training loss: 2.705225706100464 Validation loss: 2.83675217628479 Cumulative BLEU Score: 8.16437745974496e-155 CIDEr Score: 0.0 METEOR Score: 0.13892267425957402 ROUGE_L: 0.3719512195121951 \n",
      "\n",
      "Ground truth: a man having a beer and roasting a hotdog the old fashioned way on a stick over a fire pit\n",
      "\n",
      "Predicted Caption: a man in a black shirt is working on a piece of metal\n",
      "\n",
      "\n"
     ]
    },
    {
     "data": {
      "image/png": "[encoded data removed]",
      "text/plain": [
       "<Figure size 432x288 with 1 Axes>"
      ]
     },
     "metadata": {
      "needs_background": "light"
     },
     "output_type": "display_data"
    },
    {
     "data": {
      "image/png": "[encoded data removed]",
      "text/plain": [
       "<Figure size 432x288 with 1 Axes>"
      ]
     },
     "metadata": {
      "needs_background": "light"
     },
     "output_type": "display_data"
    },
    {
     "data": {
      "image/png": "[encoded data removed]",
      "text/plain": [
       "<Figure size 432x288 with 1 Axes>"
      ]
     },
     "metadata": {
      "needs_background": "light"
     },
     "output_type": "display_data"
    }
   ],
   "source": [
    "val_iter = iter(val_loader)\n",
    "train_losses = list()\n",
    "val_losses = list()\n",
    "cumulative_bleu_scores = list()\n",
    "cider_scores = list()\n",
    "meteor_scores = list()\n",
    "rougel_scores = list()\n",
    "bleu1_scores = list()\n",
    "bleu2_scores = list()\n",
    "bleu3_scores = list()\n",
    "bleu4_scores = list()\n",
    "\n",
    "for epoch in range(num_epochs):\n",
    "    \n",
    "    if (epoch+1) >= 21 and train_CNN == False:\n",
    "        train_CNN = True\n",
    "        enc.fine_tune(True)\n",
    "        \n",
    "    for batch_idx, (imgs, captions, img_ids) in enumerate(train_loader):\n",
    "        \n",
    "        enc.train()\n",
    "        dec.train()\n",
    "                \n",
    "        imgs = imgs.to(device)\n",
    "        captions = captions.to(device)\n",
    "\n",
    "        enc_imgs, global_features = enc(imgs)\n",
    "        outputs = dec(enc_imgs, global_features, captions[:-1], captions[:-1].size(0), device)\n",
    "\n",
    "        loss = criterion(outputs.reshape(-1, outputs.shape[2]), captions[1:].reshape(-1))\n",
    "        \n",
    "                \n",
    "        optim_enc.zero_grad()\n",
    "        optim_dec.zero_grad()\n",
    "        loss.backward()\n",
    "                \n",
    "        optim_enc.step()             \n",
    "        optim_dec.step()\n",
    "\n",
    "        if batch_idx%600 == 0:\n",
    "            \n",
    "            with torch.no_grad():\n",
    "                \n",
    "                enc.eval()\n",
    "                dec.eval()\n",
    "                \n",
    "                try:\n",
    "                    val_imgs, val_captions, val_img_ids = next(val_iter)\n",
    "                \n",
    "                except StopIteration:\n",
    "                    val_iter = iter(val_loader)\n",
    "                    val_imgs, val_captions, val_img_ids = next(val_iter)\n",
    "                \n",
    "                val_imgs = val_imgs.to(device)\n",
    "                val_captions = val_captions.to(device)\n",
    "\n",
    "                enc_val_imgs, global_val_features = enc(val_imgs)\n",
    "                val_outputs = dec(enc_val_imgs, global_val_features, val_captions[:-1], val_captions[:-1].size(0), device)\n",
    "\n",
    "                val_loss = criterion(val_outputs.reshape(-1, val_outputs.shape[2]), val_captions[1:].reshape(-1))\n",
    "                \n",
    "                val_losses.append(val_loss.item())\n",
    "                train_losses.append(loss.item())\n",
    "                \n",
    "                val_img_ids = val_img_ids.squeeze(1).numpy()\n",
    "                \n",
    "                r_set = np.arange(batch_size)\n",
    "                \n",
    "                np.random.shuffle(r_set)\n",
    "                \n",
    "                index = r_set[0]\n",
    "                \n",
    "                val_img = val_imgs[index]\n",
    "                candidate = caption_image_beam(val_img.unsqueeze(0), vocab, enc, dec, device)\n",
    "                ref_tokens = dict_tokens[val_img_ids[index]]\n",
    "                cumulative_bleu_score = sentence_bleu(ref_tokens, candidate, weights=(0.25, 0.25, 0.25, 0.25))\n",
    "                    \n",
    "                hyp = ' '.join(candidate)\n",
    "                refs = list()\n",
    "                    \n",
    "                for sentence in ref_tokens:\n",
    "                    ref = ' '.join(sentence)\n",
    "                    refs.append(ref)\n",
    "                    \n",
    "                metrics = compute_individual_metrics(refs, hyp)\n",
    "                \n",
    "                np.random.shuffle(refs)\n",
    "                \n",
    "                bleu1_scores.append(metrics['Bleu_1'])\n",
    "                bleu2_scores.append(metrics['Bleu_2'])\n",
    "                bleu3_scores.append(metrics['Bleu_3'])\n",
    "                bleu4_scores.append(metrics['Bleu_4'])\n",
    "                cider_scores.append(metrics['CIDEr'])\n",
    "                cumulative_bleu_scores.append(cumulative_bleu_score)\n",
    "                rougel_scores.append(metrics['ROUGE_L'])\n",
    "                meteor_scores.append(metrics['METEOR'])\n",
    "                \n",
    "                pil_img = Image.open(os.path.join('flickr30k_images', idx_imgs[val_img_ids[index]])).convert(\"RGB\")\n",
    "                plt.imshow(np.asarray(pil_img))\n",
    "                \n",
    "                print(f\"Epoch [{epoch+1}/{num_epochs}] Batch [{batch_idx+1}/{len(train_loader)}] Training loss: {loss.item()} Validation loss: {val_loss.item()} Cumulative BLEU Score: {cumulative_bleu_score} CIDEr Score: {metrics['CIDEr']} METEOR Score: {metrics['METEOR']} ROUGE_L: {metrics['ROUGE_L']} \\n\")\n",
    "                print(f\"Ground truth: {refs[0]}\\n\")\n",
    "                print(f\"Predicted Caption: {hyp}\\n\\n\")\n",
    "    \n",
    "        if batch_idx == (len(train_loader) - 1):\n",
    "            torch.save(enc.state_dict(), f'/kaggle/working/encoder_{freq_threshold}_{batch_size}_{hidden_size}_{epoch+1}.pth')\n",
    "            torch.save(dec.state_dict(), f'/kaggle/working/decoder_{freq_threshold}_{batch_size}_{hidden_size}_{epoch+1}.pth')\n",
    "    \n",
    "\n",
    "plt.figure(0)\n",
    "plt.plot(train_losses, label = 'Training loss')\n",
    "plt.plot(val_losses, label = 'Validation loss')\n",
    "plt.ylabel('Cross Entropy Loss')\n",
    "plt.legend()\n",
    "plt.savefig(f'/kaggle/working/{freq_threshold}_{batch_size}_{hidden_size}_{num_epochs}_losses.png')\n",
    "\n",
    "plt.figure(1)\n",
    "plt.plot(bleu1_scores, label = 'BLEU 1')\n",
    "plt.plot(bleu2_scores, label = 'BLEU 2')\n",
    "plt.plot(bleu3_scores, label = 'BLEU 3')\n",
    "plt.plot(bleu4_scores, label = 'BLEU 4')\n",
    "plt.ylabel('BLEU Scores')\n",
    "plt.legend()\n",
    "plt.savefig(f'/kaggle/working/{freq_threshold}_{batch_size}_{hidden_size}_{num_epochs}_bleu_scores.png')\n",
    "        \n",
    "plt.figure(2)\n",
    "plt.plot(cumulative_bleu_scores, label = 'Cumulative BLEU SCORE')\n",
    "plt.plot(cider_scores, label = 'CIDEr SCORE')\n",
    "plt.plot(meteor_scores, label = 'METEOR SCORE')\n",
    "plt.plot(rougel_scores, label = 'ROUGE_L SCORE')\n",
    "plt.ylabel('Scores')\n",
    "plt.legend()\n",
    "plt.savefig(f'/kaggle/working/{freq_threshold}_{batch_size}_{hidden_size}_{num_epochs}_scores.png')"
   ]
  },
  {
   "cell_type": "code",
   "execution_count": null,
   "id": "noble-louisiana",
   "metadata": {
    "papermill": {
     "duration": 0.084801,
     "end_time": "2021-07-14T17:15:29.632183",
     "exception": false,
     "start_time": "2021-07-14T17:15:29.547382",
     "status": "completed"
    },
    "tags": []
   },
   "outputs": [],
   "source": []
  }
 ],
 "metadata": {
  "kernelspec": {
   "display_name": "Python 3",
   "language": "python",
   "name": "python3"
  },
  "language_info": {
   "codemirror_mode": {
    "name": "ipython",
    "version": 3
   },
   "file_extension": ".py",
   "mimetype": "text/x-python",
   "name": "python",
   "nbconvert_exporter": "python",
   "pygments_lexer": "ipython3",
   "version": "3.7.10"
  },
  "papermill": {
   "default_parameters": {},
   "duration": 26649.461295,
   "end_time": "2021-07-14T17:15:33.490280",
   "environment_variables": {},
   "exception": null,
   "input_path": "__notebook__.ipynb",
   "output_path": "__notebook__.ipynb",
   "parameters": {},
   "start_time": "2021-07-14T09:51:24.028985",
   "version": "2.3.3"
  },
  "widgets": {
   "application/vnd.jupyter.widget-state+json": {
    "state": {
     "038551e9cd94474394cac8e5de171645": {
      "model_module": "@jupyter-widgets/controls",
      "model_module_version": "1.5.0",
      "model_name": "DescriptionStyleModel",
      "state": {
       "_model_module": "@jupyter-widgets/controls",
       "_model_module_version": "1.5.0",
       "_model_name": "DescriptionStyleModel",
       "_view_count": null,
       "_view_module": "@jupyter-widgets/base",
       "_view_module_version": "1.2.0",
       "_view_name": "StyleView",
       "description_width": ""
      }
     },
     "27af8e49371f42e9a84ea0168b01a4a2": {
      "model_module": "@jupyter-widgets/controls",
      "model_module_version": "1.5.0",
      "model_name": "HTMLModel",
      "state": {
       "_dom_classes": [],
       "_model_module": "@jupyter-widgets/controls",
       "_model_module_version": "1.5.0",
       "_model_name": "HTMLModel",
       "_view_count": null,
       "_view_module": "@jupyter-widgets/controls",
       "_view_module_version": "1.5.0",
       "_view_name": "HTMLView",
       "description": "",
       "description_tooltip": null,
       "layout": "IPY_MODEL_2891a1b92e33437385e1ab4c3b7ded4f",
       "placeholder": "​",
       "style": "IPY_MODEL_c8031407333349b88183d3bb2801975f",
       "value": " 170M/170M [00:08&lt;00:00, 21.8MB/s]"
      }
     },
     "2891a1b92e33437385e1ab4c3b7ded4f": {
      "model_module": "@jupyter-widgets/base",
      "model_module_version": "1.2.0",
      "model_name": "LayoutModel",
      "state": {
       "_model_module": "@jupyter-widgets/base",
       "_model_module_version": "1.2.0",
       "_model_name": "LayoutModel",
       "_view_count": null,
       "_view_module": "@jupyter-widgets/base",
       "_view_module_version": "1.2.0",
       "_view_name": "LayoutView",
       "align_content": null,
       "align_items": null,
       "align_self": null,
       "border": null,
       "bottom": null,
       "display": null,
       "flex": null,
       "flex_flow": null,
       "grid_area": null,
       "grid_auto_columns": null,
       "grid_auto_flow": null,
       "grid_auto_rows": null,
       "grid_column": null,
       "grid_gap": null,
       "grid_row": null,
       "grid_template_areas": null,
       "grid_template_columns": null,
       "grid_template_rows": null,
       "height": null,
       "justify_content": null,
       "justify_items": null,
       "left": null,
       "margin": null,
       "max_height": null,
       "max_width": null,
       "min_height": null,
       "min_width": null,
       "object_fit": null,
       "object_position": null,
       "order": null,
       "overflow": null,
       "overflow_x": null,
       "overflow_y": null,
       "padding": null,
       "right": null,
       "top": null,
       "visibility": null,
       "width": null
      }
     },
     "387c8ddbb62b4413a907522a58d926de": {
      "model_module": "@jupyter-widgets/controls",
      "model_module_version": "1.5.0",
      "model_name": "HTMLModel",
      "state": {
       "_dom_classes": [],
       "_model_module": "@jupyter-widgets/controls",
       "_model_module_version": "1.5.0",
       "_model_name": "HTMLModel",
       "_view_count": null,
       "_view_module": "@jupyter-widgets/controls",
       "_view_module_version": "1.5.0",
       "_view_name": "HTMLView",
       "description": "",
       "description_tooltip": null,
       "layout": "IPY_MODEL_b4a9ab3cf8e74017974836ec41bcc918",
       "placeholder": "​",
       "style": "IPY_MODEL_038551e9cd94474394cac8e5de171645",
       "value": "100%"
      }
     },
     "48611cce77e24ad1a5f482118a5e2405": {
      "model_module": "@jupyter-widgets/base",
      "model_module_version": "1.2.0",
      "model_name": "LayoutModel",
      "state": {
       "_model_module": "@jupyter-widgets/base",
       "_model_module_version": "1.2.0",
       "_model_name": "LayoutModel",
       "_view_count": null,
       "_view_module": "@jupyter-widgets/base",
       "_view_module_version": "1.2.0",
       "_view_name": "LayoutView",
       "align_content": null,
       "align_items": null,
       "align_self": null,
       "border": null,
       "bottom": null,
       "display": null,
       "flex": null,
       "flex_flow": null,
       "grid_area": null,
       "grid_auto_columns": null,
       "grid_auto_flow": null,
       "grid_auto_rows": null,
       "grid_column": null,
       "grid_gap": null,
       "grid_row": null,
       "grid_template_areas": null,
       "grid_template_columns": null,
       "grid_template_rows": null,
       "height": null,
       "justify_content": null,
       "justify_items": null,
       "left": null,
       "margin": null,
       "max_height": null,
       "max_width": null,
       "min_height": null,
       "min_width": null,
       "object_fit": null,
       "object_position": null,
       "order": null,
       "overflow": null,
       "overflow_x": null,
       "overflow_y": null,
       "padding": null,
       "right": null,
       "top": null,
       "visibility": null,
       "width": null
      }
     },
     "5dcb093020a443268416b735c49f184e": {
      "model_module": "@jupyter-widgets/controls",
      "model_module_version": "1.5.0",
      "model_name": "HBoxModel",
      "state": {
       "_dom_classes": [],
       "_model_module": "@jupyter-widgets/controls",
       "_model_module_version": "1.5.0",
       "_model_name": "HBoxModel",
       "_view_count": null,
       "_view_module": "@jupyter-widgets/controls",
       "_view_module_version": "1.5.0",
       "_view_name": "HBoxView",
       "box_style": "",
       "children": [
        "IPY_MODEL_387c8ddbb62b4413a907522a58d926de",
        "IPY_MODEL_ba6a7906dcb74608a0c0b09d2cd9067c",
        "IPY_MODEL_27af8e49371f42e9a84ea0168b01a4a2"
       ],
       "layout": "IPY_MODEL_48611cce77e24ad1a5f482118a5e2405"
      }
     },
     "5e1fc42e5dd34209ad74935d5fd58e79": {
      "model_module": "@jupyter-widgets/controls",
      "model_module_version": "1.5.0",
      "model_name": "ProgressStyleModel",
      "state": {
       "_model_module": "@jupyter-widgets/controls",
       "_model_module_version": "1.5.0",
       "_model_name": "ProgressStyleModel",
       "_view_count": null,
       "_view_module": "@jupyter-widgets/base",
       "_view_module_version": "1.2.0",
       "_view_name": "StyleView",
       "bar_color": null,
       "description_width": ""
      }
     },
     "a6631584f8964e2fa6a3f6e7379efa1d": {
      "model_module": "@jupyter-widgets/base",
      "model_module_version": "1.2.0",
      "model_name": "LayoutModel",
      "state": {
       "_model_module": "@jupyter-widgets/base",
       "_model_module_version": "1.2.0",
       "_model_name": "LayoutModel",
       "_view_count": null,
       "_view_module": "@jupyter-widgets/base",
       "_view_module_version": "1.2.0",
       "_view_name": "LayoutView",
       "align_content": null,
       "align_items": null,
       "align_self": null,
       "border": null,
       "bottom": null,
       "display": null,
       "flex": null,
       "flex_flow": null,
       "grid_area": null,
       "grid_auto_columns": null,
       "grid_auto_flow": null,
       "grid_auto_rows": null,
       "grid_column": null,
       "grid_gap": null,
       "grid_row": null,
       "grid_template_areas": null,
       "grid_template_columns": null,
       "grid_template_rows": null,
       "height": null,
       "justify_content": null,
       "justify_items": null,
       "left": null,
       "margin": null,
       "max_height": null,
       "max_width": null,
       "min_height": null,
       "min_width": null,
       "object_fit": null,
       "object_position": null,
       "order": null,
       "overflow": null,
       "overflow_x": null,
       "overflow_y": null,
       "padding": null,
       "right": null,
       "top": null,
       "visibility": null,
       "width": null
      }
     },
     "b4a9ab3cf8e74017974836ec41bcc918": {
      "model_module": "@jupyter-widgets/base",
      "model_module_version": "1.2.0",
      "model_name": "LayoutModel",
      "state": {
       "_model_module": "@jupyter-widgets/base",
       "_model_module_version": "1.2.0",
       "_model_name": "LayoutModel",
       "_view_count": null,
       "_view_module": "@jupyter-widgets/base",
       "_view_module_version": "1.2.0",
       "_view_name": "LayoutView",
       "align_content": null,
       "align_items": null,
       "align_self": null,
       "border": null,
       "bottom": null,
       "display": null,
       "flex": null,
       "flex_flow": null,
       "grid_area": null,
       "grid_auto_columns": null,
       "grid_auto_flow": null,
       "grid_auto_rows": null,
       "grid_column": null,
       "grid_gap": null,
       "grid_row": null,
       "grid_template_areas": null,
       "grid_template_columns": null,
       "grid_template_rows": null,
       "height": null,
       "justify_content": null,
       "justify_items": null,
       "left": null,
       "margin": null,
       "max_height": null,
       "max_width": null,
       "min_height": null,
       "min_width": null,
       "object_fit": null,
       "object_position": null,
       "order": null,
       "overflow": null,
       "overflow_x": null,
       "overflow_y": null,
       "padding": null,
       "right": null,
       "top": null,
       "visibility": null,
       "width": null
      }
     },
     "ba6a7906dcb74608a0c0b09d2cd9067c": {
      "model_module": "@jupyter-widgets/controls",
      "model_module_version": "1.5.0",
      "model_name": "FloatProgressModel",
      "state": {
       "_dom_classes": [],
       "_model_module": "@jupyter-widgets/controls",
       "_model_module_version": "1.5.0",
       "_model_name": "FloatProgressModel",
       "_view_count": null,
       "_view_module": "@jupyter-widgets/controls",
       "_view_module_version": "1.5.0",
       "_view_name": "ProgressView",
       "bar_style": "success",
       "description": "",
       "description_tooltip": null,
       "layout": "IPY_MODEL_a6631584f8964e2fa6a3f6e7379efa1d",
       "max": 178728960.0,
       "min": 0.0,
       "orientation": "horizontal",
       "style": "IPY_MODEL_5e1fc42e5dd34209ad74935d5fd58e79",
       "value": 178728960.0
      }
     },
     "c8031407333349b88183d3bb2801975f": {
      "model_module": "@jupyter-widgets/controls",
      "model_module_version": "1.5.0",
      "model_name": "DescriptionStyleModel",
      "state": {
       "_model_module": "@jupyter-widgets/controls",
       "_model_module_version": "1.5.0",
       "_model_name": "DescriptionStyleModel",
       "_view_count": null,
       "_view_module": "@jupyter-widgets/base",
       "_view_module_version": "1.2.0",
       "_view_name": "StyleView",
       "description_width": ""
      }
     }
    },
    "version_major": 2,
    "version_minor": 0
   }
  }
 },
 "nbformat": 4,
 "nbformat_minor": 5
}
