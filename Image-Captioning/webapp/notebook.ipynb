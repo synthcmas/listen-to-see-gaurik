{
 "cells": [
  {
   "cell_type": "markdown",
   "metadata": {
    "papermill": {
     "duration": 0.021903,
     "end_time": "2021-08-02T09:27:06.333408",
     "exception": false,
     "start_time": "2021-08-02T09:27:06.311505",
     "status": "completed"
    },
    "tags": []
   },
   "source": [
    "# Creating the Vocabulary"
   ]
  },
  {
   "cell_type": "code",
   "execution_count": 1,
   "metadata": {
    "execution": {
     "iopub.execute_input": "2021-08-02T09:27:06.383200Z",
     "iopub.status.busy": "2021-08-02T09:27:06.381679Z",
     "iopub.status.idle": "2021-08-02T09:27:10.478504Z",
     "shell.execute_reply": "2021-08-02T09:27:10.477269Z",
     "shell.execute_reply.started": "2021-08-02T08:58:16.794186Z"
    },
    "papermill": {
     "duration": 4.121317,
     "end_time": "2021-08-02T09:27:10.478734",
     "exception": false,
     "start_time": "2021-08-02T09:27:06.357417",
     "status": "completed"
    },
    "tags": []
   },
   "outputs": [],
   "source": [
    "import spacy\n",
    "spacy_eng = spacy.load(\"en_core_web_sm\")\n",
    "class Vocabulary:\n",
    "    PAD_token = 0   # Used for padding short sentences\n",
    "    SOS_token = 1   # Start-of-sentence token\n",
    "    EOS_token = 2   # End-of-sentence token\n",
    "\n",
    "    def __init__(self, name):\n",
    "        self.name = name\n",
    "        self.word2index = {'PAD': 0, 'SOS': 1, 'EOS': 2, 'UNK':3}\n",
    "        self.word2count = {}\n",
    "        self.index2word = {0: \"PAD\", 1: \"SOS\", 2: \"EOS\", 3: \"UNK\"}\n",
    "        self.num_words = 4\n",
    "        self.num_sentences = 0 \n",
    "        self.longest_sentence = 0\n",
    "    \n",
    "\n",
    "\n",
    "    def add_word(self, word):\n",
    "        \n",
    "        if word not in self.word2count:\n",
    "            # First entry of word into vocabulary\n",
    "            self.word2count[word] = 1\n",
    "        else:\n",
    "            if self.word2count[word]== 5:\n",
    "                self.word2index[word] = self.num_words\n",
    "                self.index2word[self.num_words] = word\n",
    "                self.num_words += 1\n",
    "                self.word2count[word] +=1\n",
    "            else:\n",
    "                self.word2count[word] += 1\n",
    "        \n",
    "    def tokenizer(self,text):\n",
    "        return [tok.text.lower() for tok in spacy_eng.tokenizer(text)]\n",
    "    \n",
    "    def add_sentence(self, sentence):\n",
    "        sentence_len = 0\n",
    "        #for word in sentence.split(' '):\n",
    "        for word in self.tokenizer(sentence):\n",
    "            sentence_len += 1\n",
    "            self.add_word(word)\n",
    "        if sentence_len > self.longest_sentence:\n",
    "            # This is the longest sentence\n",
    "            self.longest_sentence = sentence_len\n",
    "        # Count the number of sentences\n",
    "        self.num_sentences += 1\n",
    "\n",
    "    def to_word(self, index):\n",
    "        return self.index2word[index]\n",
    "\n",
    "    def to_index(self, word):\n",
    "        return self.word2index[word]"
   ]
  },
  {
   "cell_type": "code",
   "execution_count": 2,
   "metadata": {
    "execution": {
     "iopub.execute_input": "2021-08-02T09:27:10.538881Z",
     "iopub.status.busy": "2021-08-02T09:27:10.538210Z",
     "iopub.status.idle": "2021-08-02T09:27:32.983405Z",
     "shell.execute_reply": "2021-08-02T09:27:32.982971Z",
     "shell.execute_reply.started": "2021-08-02T08:58:22.685793Z"
    },
    "papermill": {
     "duration": 22.483551,
     "end_time": "2021-08-02T09:27:32.983540",
     "exception": false,
     "start_time": "2021-08-02T09:27:10.499989",
     "status": "completed"
    },
    "tags": []
   },
   "outputs": [
    {
     "data": {
      "text/plain": [
       "(158915, 83)"
      ]
     },
     "execution_count": 2,
     "metadata": {},
     "output_type": "execute_result"
    }
   ],
   "source": [
    "import pandas as pd\n",
    "import re\n",
    "df = pd.read_csv('flickr30k_images/results.csv',delimiter='|')\n",
    "df[' comment'] = df[' comment'].str.lower()\n",
    "df[' comment'].replace( { r'[^a-zA-Z0-9, ]' : '' }, inplace= True, regex = True)\n",
    "\n",
    "# fixing an issue in the dataset.\n",
    "df[' comment_number'][19999] = 4\n",
    "df[' comment'][19999] = ' a dog runs across the grass '\n",
    "\n",
    "# creating the vocabulary \n",
    "vocab = Vocabulary('test')\n",
    "\n",
    "# adding words to the vocabulary \n",
    "for sentence in df[' comment']:\n",
    "    vocab.add_sentence(sentence)\n",
    "\n",
    "# converting the captions to tokens \n",
    "sent_idxs = []\n",
    "captions = []\n",
    "for idx, sentence in enumerate (df[' comment']):\n",
    "    i = 0\n",
    "    \n",
    "    for word in vocab.tokenizer(sentence):\n",
    "        if word not in vocab.word2index:\n",
    "            sent_idxs.append(3)\n",
    "        else:\n",
    "            sent_idxs.append(vocab.to_index(word))\n",
    "        i+=1\n",
    "    while i < ((vocab.longest_sentence) + 1):\n",
    "        sent_idxs.append(0)\n",
    "        i+=1\n",
    "    captions.append(sent_idxs)\n",
    "    sent_idxs = []\n",
    "\n",
    "# converting list of word tokens to numpy array\n",
    "import numpy as np\n",
    "captions = np.array(captions)\n",
    "captions.shape"
   ]
  },
  {
   "cell_type": "code",
   "execution_count": 3,
   "metadata": {
    "execution": {
     "iopub.execute_input": "2021-08-02T09:27:33.056132Z",
     "iopub.status.busy": "2021-08-02T09:27:33.040814Z",
     "iopub.status.idle": "2021-08-02T09:27:34.788479Z",
     "shell.execute_reply": "2021-08-02T09:27:34.787951Z",
     "shell.execute_reply.started": "2021-08-02T08:58:57.643054Z"
    },
    "papermill": {
     "duration": 1.784921,
     "end_time": "2021-08-02T09:27:34.788608",
     "exception": false,
     "start_time": "2021-08-02T09:27:33.003687",
     "status": "completed"
    },
    "tags": []
   },
   "outputs": [],
   "source": [
    "# adding start and end tokens\n",
    "for i in range(len(captions)):\n",
    "    for j in range(1,84):\n",
    "        if captions[i,j] == 0:\n",
    "            if captions[i,j-1] == 4:\n",
    "                captions[i,j-1] = 2\n",
    "            else:\n",
    "                captions[i,j] = 2\n",
    "            break  \n",
    "captions[:,0] = 1"
   ]
  },
  {
   "cell_type": "code",
   "execution_count": 4,
   "metadata": {
    "execution": {
     "iopub.execute_input": "2021-08-02T09:27:34.832484Z",
     "iopub.status.busy": "2021-08-02T09:27:34.831731Z",
     "iopub.status.idle": "2021-08-02T09:27:34.835158Z",
     "shell.execute_reply": "2021-08-02T09:27:34.834753Z",
     "shell.execute_reply.started": "2021-08-02T08:59:00.614995Z"
    },
    "papermill": {
     "duration": 0.02698,
     "end_time": "2021-08-02T09:27:34.835270",
     "exception": false,
     "start_time": "2021-08-02T09:27:34.808290",
     "status": "completed"
    },
    "tags": []
   },
   "outputs": [
    {
     "data": {
      "text/plain": [
       "7075"
      ]
     },
     "execution_count": 4,
     "metadata": {},
     "output_type": "execute_result"
    }
   ],
   "source": [
    "vocab.num_words"
   ]
  },
  {
   "cell_type": "markdown",
   "metadata": {
    "papermill": {
     "duration": 0.019607,
     "end_time": "2021-08-02T09:27:34.874676",
     "exception": false,
     "start_time": "2021-08-02T09:27:34.855069",
     "status": "completed"
    },
    "tags": []
   },
   "source": [
    "# Loading the embeddings"
   ]
  },
  {
   "cell_type": "code",
   "execution_count": 5,
   "metadata": {
    "execution": {
     "iopub.execute_input": "2021-08-02T09:27:34.919107Z",
     "iopub.status.busy": "2021-08-02T09:27:34.918611Z",
     "iopub.status.idle": "2021-08-02T09:28:22.595783Z",
     "shell.execute_reply": "2021-08-02T09:28:22.595232Z",
     "shell.execute_reply.started": "2021-08-02T08:59:02.408436Z"
    },
    "papermill": {
     "duration": 47.701513,
     "end_time": "2021-08-02T09:28:22.595918",
     "exception": false,
     "start_time": "2021-08-02T09:27:34.894405",
     "status": "completed"
    },
    "tags": []
   },
   "outputs": [],
   "source": [
    "import numpy as np \n",
    "vocabs = vocab.word2index.keys()\n",
    "\n",
    "def load_embeds(root_dir):\n",
    "    embeddings_index = dict()\n",
    "    f = open(root_dir,encoding=\"utf8\")\n",
    "\n",
    "    for line in f:\n",
    "        values = line.split()\n",
    "        word = values[0]\n",
    "        coefs = np.asarray(values[1:], dtype='float32')\n",
    "        embeddings_index[word] = coefs\n",
    "\n",
    "    f.close()\n",
    "    return embeddings_index\n",
    "embeddings_index = load_embeds('flickr30k_images/glove.6B.300d.txt')"
   ]
  },
  {
   "cell_type": "code",
   "execution_count": 6,
   "metadata": {
    "execution": {
     "iopub.execute_input": "2021-08-02T09:28:22.644477Z",
     "iopub.status.busy": "2021-08-02T09:28:22.643888Z",
     "iopub.status.idle": "2021-08-02T09:28:22.647126Z",
     "shell.execute_reply": "2021-08-02T09:28:22.647533Z",
     "shell.execute_reply.started": "2021-08-02T08:59:50.629630Z"
    },
    "papermill": {
     "duration": 0.031034,
     "end_time": "2021-08-02T09:28:22.647652",
     "exception": false,
     "start_time": "2021-08-02T09:28:22.616618",
     "status": "completed"
    },
    "tags": []
   },
   "outputs": [
    {
     "data": {
      "text/plain": [
       "array([ 4.6560e-02,  2.1318e-01, -7.4364e-03, -4.5854e-01, -3.5639e-02,\n",
       "        2.3643e-01, -2.8836e-01,  2.1521e-01, -1.3486e-01, -1.6413e+00,\n",
       "       -2.6091e-01,  3.2434e-02,  5.6621e-02, -4.3296e-02, -2.1672e-02,\n",
       "        2.2476e-01, -7.5129e-02, -6.7018e-02, -1.4247e-01,  3.8825e-02,\n",
       "       -1.8951e-01,  2.9977e-01,  3.9305e-01,  1.7887e-01, -1.7343e-01,\n",
       "       -2.1178e-01,  2.3617e-01, -6.3681e-02, -4.2318e-01, -1.1661e-01,\n",
       "        9.3754e-02,  1.7296e-01, -3.3073e-01,  4.9112e-01, -6.8995e-01,\n",
       "       -9.2462e-02,  2.4742e-01, -1.7991e-01,  9.7908e-02,  8.3118e-02,\n",
       "        1.5299e-01, -2.7276e-01, -3.8934e-02,  5.4453e-01,  5.3737e-01,\n",
       "        2.9105e-01, -7.3514e-03,  4.7880e-02, -4.0760e-01, -2.6759e-02,\n",
       "        1.7919e-01,  1.0977e-02, -1.0963e-01, -2.6395e-01,  7.3990e-02,\n",
       "        2.6236e-01, -1.5080e-01,  3.4623e-01,  2.5758e-01,  1.1971e-01,\n",
       "       -3.7135e-02, -7.1593e-02,  4.3898e-01, -4.0764e-02,  1.6425e-02,\n",
       "       -4.4640e-01,  1.7197e-01,  4.6246e-02,  5.8639e-02,  4.1499e-02,\n",
       "        5.3948e-01,  5.2495e-01,  1.1361e-01, -4.8315e-02, -3.6385e-01,\n",
       "        1.8704e-01,  9.2761e-02, -1.1129e-01, -4.2085e-01,  1.3992e-01,\n",
       "       -3.9338e-01, -6.7945e-02,  1.2188e-01,  1.6707e-01,  7.5169e-02,\n",
       "       -1.5529e-02, -1.9499e-01,  1.9638e-01,  5.3194e-02,  2.5170e-01,\n",
       "       -3.4845e-01, -1.0638e-01, -3.4692e-01, -1.9024e-01, -2.0040e-01,\n",
       "        1.2154e-01, -2.9208e-01,  2.3353e-02, -1.1618e-01, -3.5768e-01,\n",
       "        6.2304e-02,  3.5884e-01,  2.9060e-02,  7.3005e-03,  4.9482e-03,\n",
       "       -1.5048e-01, -1.2313e-01,  1.9337e-01,  1.2173e-01,  4.4503e-01,\n",
       "        2.5147e-01,  1.0781e-01, -1.7716e-01,  3.8691e-02,  8.1530e-02,\n",
       "        1.4667e-01,  6.3666e-02,  6.1332e-02, -7.5569e-02, -3.7724e-01,\n",
       "        1.5850e-02, -3.0342e-01,  2.8374e-01, -4.2013e-02, -4.0715e-02,\n",
       "       -1.5269e-01,  7.4980e-02,  1.5577e-01,  1.0433e-01,  3.1393e-01,\n",
       "        1.9309e-01,  1.9429e-01,  1.5185e-01, -1.0192e-01, -1.8785e-02,\n",
       "        2.0791e-01,  1.3366e-01,  1.9038e-01, -2.5558e-01,  3.0400e-01,\n",
       "       -1.8960e-02,  2.0147e-01, -4.2110e-01, -7.5156e-03, -2.7977e-01,\n",
       "       -1.9314e-01,  4.6204e-02,  1.9971e-01, -3.0207e-01,  2.5735e-01,\n",
       "        6.8107e-01, -1.9409e-01,  2.3984e-01,  2.2493e-01,  6.5224e-01,\n",
       "       -1.3561e-01, -1.7383e-01, -4.8209e-02, -1.1860e-01,  2.1588e-03,\n",
       "       -1.9525e-02,  1.1948e-01,  1.9346e-01, -4.0820e-01, -8.2966e-02,\n",
       "        1.6626e-01, -1.0601e-01,  3.5861e-01,  1.6922e-01,  7.2590e-02,\n",
       "       -2.4803e-01, -1.0024e-01, -5.2491e-01, -1.7745e-01, -3.6647e-01,\n",
       "        2.6180e-01, -1.2077e-02,  8.3190e-02, -2.1528e-01,  4.1045e-01,\n",
       "        2.9136e-01,  3.0869e-01,  7.8864e-02,  3.2207e-01, -4.1023e-02,\n",
       "       -1.0970e-01, -9.2041e-02, -1.2339e-01, -1.6416e-01,  3.5382e-01,\n",
       "       -8.2774e-02,  3.3171e-01, -2.4738e-01, -4.8928e-02,  1.5746e-01,\n",
       "        1.8988e-01, -2.6642e-02,  6.3315e-02, -1.0673e-02,  3.4089e-01,\n",
       "        1.4106e+00,  1.3417e-01,  2.8191e-01, -2.5940e-01,  5.5267e-02,\n",
       "       -5.2425e-02, -2.5789e-01,  1.9127e-02, -2.2084e-02,  3.2113e-01,\n",
       "        6.8818e-02,  5.1207e-01,  1.6478e-01, -2.0194e-01,  2.9232e-01,\n",
       "        9.8575e-02,  1.3145e-02, -1.0652e-01,  1.3510e-01, -4.5332e-02,\n",
       "        2.0697e-01, -4.8425e-01, -4.4706e-01,  3.3305e-03,  2.9264e-03,\n",
       "       -1.0975e-01, -2.3325e-01,  2.2442e-01, -1.0503e-01,  1.2339e-01,\n",
       "        1.0978e-01,  4.8994e-02, -2.5157e-01,  4.0319e-01,  3.5318e-01,\n",
       "        1.8651e-01, -2.3622e-02, -1.2734e-01,  1.1475e-01,  2.7359e-01,\n",
       "       -2.1866e-01,  1.5794e-02,  8.1754e-01, -2.3792e-02, -8.5469e-01,\n",
       "       -1.6203e-01,  1.8076e-01,  2.8014e-02, -1.4340e-01,  1.3139e-03,\n",
       "       -9.1735e-02, -8.9704e-02,  1.1105e-01, -1.6703e-01,  6.8377e-02,\n",
       "       -8.7388e-02, -3.9789e-02,  1.4184e-02,  2.1187e-01,  2.8579e-01,\n",
       "       -2.8797e-01, -5.8996e-02, -3.2436e-02, -4.7009e-03, -1.7052e-01,\n",
       "       -3.4741e-02, -1.1489e-01,  7.5093e-02,  9.9526e-02,  4.8183e-02,\n",
       "       -7.3775e-02, -4.1817e-01,  4.1268e-03,  4.4414e-01, -1.6062e-01,\n",
       "        1.4294e-01, -2.2628e+00, -2.7347e-02,  8.1311e-01,  7.7417e-01,\n",
       "       -2.5639e-01, -1.1576e-01, -1.1982e-01, -2.1363e-01,  2.8429e-02,\n",
       "        2.7261e-01,  3.1026e-02,  9.6782e-02,  6.7769e-03,  1.4082e-01,\n",
       "       -1.3064e-02, -2.9686e-01, -7.9913e-02,  1.9500e-01,  3.1549e-02,\n",
       "        2.8506e-01, -8.7461e-02,  9.0611e-03, -2.0989e-01,  5.3913e-02],\n",
       "      dtype=float32)"
      ]
     },
     "execution_count": 6,
     "metadata": {},
     "output_type": "execute_result"
    }
   ],
   "source": [
    "embeddings_index['the']"
   ]
  },
  {
   "cell_type": "code",
   "execution_count": 7,
   "metadata": {
    "execution": {
     "iopub.execute_input": "2021-08-02T09:28:22.693768Z",
     "iopub.status.busy": "2021-08-02T09:28:22.693074Z",
     "iopub.status.idle": "2021-08-02T09:28:23.935484Z",
     "shell.execute_reply": "2021-08-02T09:28:23.936524Z",
     "shell.execute_reply.started": "2021-08-02T09:00:09.485496Z"
    },
    "papermill": {
     "duration": 1.268991,
     "end_time": "2021-08-02T09:28:23.936730",
     "exception": false,
     "start_time": "2021-08-02T09:28:22.667739",
     "status": "completed"
    },
    "tags": []
   },
   "outputs": [
    {
     "data": {
      "text/plain": [
       "torch.Size([7075, 300])"
      ]
     },
     "execution_count": 7,
     "metadata": {},
     "output_type": "execute_result"
    }
   ],
   "source": [
    "import torch\n",
    "def load_embed_weights(embeddings_index, embed_dim, vocab, vocab_size):\n",
    "    matrix_len = vocab_size\n",
    "    weights_matrix = np.zeros((matrix_len, embed_dim))\n",
    "    words_found = 0\n",
    "\n",
    "    for i, word in enumerate(vocab):\n",
    "        try: \n",
    "            weights_matrix[i] = embeddings_index[word]\n",
    "            words_found += 1\n",
    "        except KeyError:\n",
    "            weights_matrix[i] = np.random.normal(scale=0.6, size=(embed_dim, ))\n",
    "    weights_matrix = torch.tensor(weights_matrix)\n",
    "    return weights_matrix\n",
    "weights_matrix = load_embed_weights(embeddings_index, 300, vocabs, vocab.num_words)\n",
    "weights_matrix.shape"
   ]
  },
  {
   "cell_type": "markdown",
   "metadata": {
    "papermill": {
     "duration": 0.031298,
     "end_time": "2021-08-02T09:28:24.007382",
     "exception": false,
     "start_time": "2021-08-02T09:28:23.976084",
     "status": "completed"
    },
    "tags": []
   },
   "source": [
    "# Some helper functions which we will be using later"
   ]
  },
  {
   "cell_type": "code",
   "execution_count": 8,
   "metadata": {
    "execution": {
     "iopub.execute_input": "2021-08-02T09:28:24.087687Z",
     "iopub.status.busy": "2021-08-02T09:28:24.086886Z",
     "iopub.status.idle": "2021-08-02T09:28:24.090294Z",
     "shell.execute_reply": "2021-08-02T09:28:24.090873Z",
     "shell.execute_reply.started": "2021-08-02T09:00:12.332211Z"
    },
    "papermill": {
     "duration": 0.050496,
     "end_time": "2021-08-02T09:28:24.091065",
     "exception": false,
     "start_time": "2021-08-02T09:28:24.040569",
     "status": "completed"
    },
    "tags": []
   },
   "outputs": [],
   "source": [
    "def output_to_caption(outputs, index):\n",
    "    preds = outputs[index]\n",
    "    preds = torch.argmax(preds, dim = 1)\n",
    "    preds = preds.cpu()\n",
    "    preds = np.array(preds)\n",
    "    for index in preds:\n",
    "        if index == 2:\n",
    "            break    \n",
    "        if index != 1:    \n",
    "            print(vocab.to_word(index), end = ' ')\n",
    "\n",
    "def tensor_to_caption(preds, index):\n",
    "    preds = preds[index].cpu()\n",
    "    preds = np.array(preds)\n",
    "    for index in preds:\n",
    "        if index == 2:\n",
    "            break\n",
    "        if index != 1:    \n",
    "            print(vocab.to_word(index), end = ' ')\n",
    "\n",
    "def tensor_to_image(img_list, index):\n",
    "    img = img_list[index].permute(1,2,0)\n",
    "    plt.figure()\n",
    "    plt.imshow(img.cpu())"
   ]
  },
  {
   "cell_type": "code",
   "execution_count": 9,
   "metadata": {},
   "outputs": [
    {
     "name": "stdout",
     "output_type": "stream",
     "text": [
      "a man in a black coat walks past a red UNK with a parking ticket stuck to its window "
     ]
    },
    {
     "data": {
      "image/png": "[encoded data removed]",
      "text/plain": [
       "<Figure size 432x288 with 1 Axes>"
      ]
     },
     "metadata": {
      "needs_background": "light"
     },
     "output_type": "display_data"
    }
   ],
   "source": [
    "from torch.utils.data import Dataset, DataLoader, random_split\n",
    "from torchvision import transforms\n",
    "from glob import glob\n",
    "from PIL import Image\n",
    "import torch\n",
    "import torch.nn as nn\n",
    "import torch.nn.functional as F\n",
    "import numpy as np\n",
    "import pandas as pd\n",
    "import matplotlib.pyplot as plt\n",
    "\n",
    "\n",
    "class Data(Dataset):\n",
    "\n",
    "    def __init__(self, root_dir, captions):\n",
    "        \n",
    "        self.root_dir = root_dir\n",
    "        self.df = pd.read_csv(root_dir+'results.csv', delimiter = '|')\n",
    "        self.captions_tensor = torch.tensor(captions)\n",
    "        self.captions = captions\n",
    "        self.imgloc = self.df['image_name']\n",
    "        self.img_list = glob(root_dir+'flickr30k_images/*')\n",
    "    \n",
    "    def __getcaption__(self,index):\n",
    "        return self.captions[5*index]\n",
    "    \n",
    "    def __getitem__(self,index):\n",
    "        \n",
    "        img = self.root_dir+'flickr30k_images/'+ self.imgloc[5*index]\n",
    "        caption = self.captions[5*index]\n",
    "        img_tensor = (torch.tensor(np.array(Image.open(img).resize((224,224)))).permute(2,0,1) )/255\n",
    "        return img_tensor, caption\n",
    "    \n",
    "    def __len__(self):\n",
    "        return (len(self.img_list)-2)\n",
    "\n",
    "\n",
    "data = Data('flickr30k_images/', captions)\n",
    "img, caption_tensor = data.__getitem__(69)\n",
    "caption = data.__getcaption__(69)\n",
    "plt.imshow(img.permute(1,2,0))\n",
    "for idx in caption:\n",
    "    if idx == 1:\n",
    "        continue\n",
    "    if idx !=2:\n",
    "        print(vocab.to_word(idx), end =\" \")\n",
    "    else:\n",
    "        break"
   ]
  },
  {
   "cell_type": "code",
   "execution_count": 10,
   "metadata": {},
   "outputs": [
    {
     "name": "stdout",
     "output_type": "stream",
     "text": [
      "two people dressed up in white sheets and pink gloves stare at a snow covered glacier off in the distance "
     ]
    },
    {
     "data": {
      "image/png": "[encoded data removed]",
      "text/plain": [
       "<Figure size 432x288 with 1 Axes>"
      ]
     },
     "metadata": {
      "needs_background": "light"
     },
     "output_type": "display_data"
    }
   ],
   "source": [
    "batch_size = 32\n",
    "data_len = len(data)\n",
    "trainset, valset = random_split(data, [int(0.8*data_len), (data_len - int(0.8*data_len))])\n",
    "trainloader = DataLoader(dataset=trainset, batch_size=batch_size, shuffle = True)\n",
    "valloader = DataLoader(dataset=valset, batch_size=batch_size, shuffle = True)\n",
    "for img_list, caption in trainloader:\n",
    "    plt.imshow(img_list[4].permute(1,2,0))\n",
    "    tensor_to_caption(caption,4)\n",
    "    break\n"
   ]
  },
  {
   "cell_type": "markdown",
   "metadata": {
    "papermill": {
     "duration": 0.042612,
     "end_time": "2021-08-02T09:28:26.780250",
     "exception": false,
     "start_time": "2021-08-02T09:28:26.737638",
     "status": "completed"
    },
    "tags": []
   },
   "source": [
    "# Encoder"
   ]
  },
  {
   "cell_type": "code",
   "execution_count": 11,
   "metadata": {
    "execution": {
     "iopub.execute_input": "2021-08-02T09:28:26.877801Z",
     "iopub.status.busy": "2021-08-02T09:28:26.877228Z",
     "iopub.status.idle": "2021-08-02T09:28:30.692483Z",
     "shell.execute_reply": "2021-08-02T09:28:30.692900Z",
     "shell.execute_reply.started": "2021-08-02T09:00:23.278030Z"
    },
    "papermill": {
     "duration": 3.87028,
     "end_time": "2021-08-02T09:28:30.693073",
     "exception": false,
     "start_time": "2021-08-02T09:28:26.822793",
     "status": "completed"
    },
    "tags": []
   },
   "outputs": [],
   "source": [
    "import torchvision\n",
    "import torch.nn as  nn\n",
    "from torch.utils.data import Dataset, DataLoader, random_split\n",
    "from torchvision import transforms\n",
    "from glob import glob\n",
    "from PIL import Image\n",
    "import torch\n",
    "import torch.nn as nn\n",
    "import torch.nn.functional as F\n",
    "import numpy as np\n",
    "import pandas as pd\n",
    "import matplotlib.pyplot as plt\n",
    "\n",
    "class Encoder(nn.Module):\n",
    "    def __init__(self):\n",
    "        super().__init__()\n",
    "        self.model = torchvision.models.resnet50(pretrained=True)\n",
    "        for param in self.model.parameters():\n",
    "            param.requires_grad = False\n",
    "        self.model = torch.nn.Sequential(*(list(self.model.children())[:-2]))\n",
    "    def forward(self, x):\n",
    "        return self.model(x)\n",
    "\n",
    "encoder = Encoder()"
   ]
  },
  {
   "cell_type": "markdown",
   "metadata": {
    "papermill": {
     "duration": 0.026677,
     "end_time": "2021-08-02T09:28:30.747151",
     "exception": false,
     "start_time": "2021-08-02T09:28:30.720474",
     "status": "completed"
    },
    "tags": []
   },
   "source": [
    "# Attention (soft)"
   ]
  },
  {
   "cell_type": "code",
   "execution_count": 12,
   "metadata": {
    "execution": {
     "iopub.execute_input": "2021-08-02T09:28:30.812740Z",
     "iopub.status.busy": "2021-08-02T09:28:30.811950Z",
     "iopub.status.idle": "2021-08-02T09:28:30.814308Z",
     "shell.execute_reply": "2021-08-02T09:28:30.814790Z",
     "shell.execute_reply.started": "2021-08-02T09:00:31.209118Z"
    },
    "papermill": {
     "duration": 0.041052,
     "end_time": "2021-08-02T09:28:30.814915",
     "exception": false,
     "start_time": "2021-08-02T09:28:30.773863",
     "status": "completed"
    },
    "tags": []
   },
   "outputs": [],
   "source": [
    "class attention(nn.Module):\n",
    "  def __init__(self, feature_dim, hidden_dim, embed_dim, num_vecs):\n",
    "    super().__init__()\n",
    "    \n",
    "    self.features_fc = nn.Linear(feature_dim, num_vecs)\n",
    "    self.hidden_fc = nn.Linear(hidden_dim, num_vecs)\n",
    "    self.context_fc = nn.Linear(num_vecs, 1)\n",
    "    self.input_fc = nn.Linear(embed_dim, hidden_dim)\n",
    "    self.hidden_gate_fc = nn.Linear(hidden_dim, hidden_dim)\n",
    "    self.s_fc = nn.Linear(hidden_dim, num_vecs)\n",
    "    self.ones = torch.ones(num_vecs,1).to(device)\n",
    "    self.tanh = torch.tanh\n",
    "    self.sigma = torch.sigmoid\n",
    "  \n",
    "  def forward(self, features, hidden, inputs, memory):\n",
    "\n",
    "    c1 = []\n",
    "    #c1 = c1.to(device)\n",
    "    for i in range(features.shape[0]):\n",
    "      f = self.features_fc(features[i,:,:])            #3,3\n",
    "      h = self.hidden_fc(hidden[i,:].unsqueeze(0))     #1,3\n",
    "      h1 = self.ones @ h\n",
    "      c = self.tanh(f+h1)                               #3,3\n",
    "      z = self.context_fc(c).permute((1,0))            #1,3\n",
    "      a = F.softmax(z, dim = 1)\n",
    "      test = a @ features[i,:,:]\n",
    "\n",
    "    \n",
    "      gate = self.sigma( self.input_fc(inputs[i,:]) + self.hidden_gate_fc(hidden[i,:]) )\n",
    "      s = gate * self.tanh(memory[i,:])                \n",
    "  \n",
    "      ws = self.s_fc(s.unsqueeze(0))                   #1,3\n",
    "      \n",
    "      w = self.tanh(ws+h)                              #1,3\n",
    "      i = self.context_fc(w)                           \n",
    "      \n",
    "      concat = F.softmax(torch.cat((z,i), dim = 1), dim = 1).squeeze(0)\n",
    "      b = concat[-1]\n",
    "  \n",
    "      c1b = b*s + (1-b)*(test)\n",
    "      c1.append(c1b)\n",
    "\n",
    "\n",
    "    c1 = torch.stack(c1)\n",
    "\n",
    "    return  c1.squeeze(1)\n"
   ]
  },
  {
   "cell_type": "markdown",
   "metadata": {
    "papermill": {
     "duration": 0.026745,
     "end_time": "2021-08-02T09:28:30.868764",
     "exception": false,
     "start_time": "2021-08-02T09:28:30.842019",
     "status": "completed"
    },
    "tags": []
   },
   "source": [
    "# Decoder"
   ]
  },
  {
   "cell_type": "code",
   "execution_count": 13,
   "metadata": {
    "execution": {
     "iopub.execute_input": "2021-08-02T09:28:30.976909Z",
     "iopub.status.busy": "2021-08-02T09:28:30.976136Z",
     "iopub.status.idle": "2021-08-02T09:28:35.442430Z",
     "shell.execute_reply": "2021-08-02T09:28:35.441966Z",
     "shell.execute_reply.started": "2021-08-02T09:00:32.831337Z"
    },
    "papermill": {
     "duration": 4.546348,
     "end_time": "2021-08-02T09:28:35.442567",
     "exception": false,
     "start_time": "2021-08-02T09:28:30.896219",
     "status": "completed"
    },
    "tags": []
   },
   "outputs": [],
   "source": [
    "class Decoder(nn.Module):\n",
    "    def __init__(self, embed_size, hidden_size, vocab_size, weights_matrix, device, num_layers=1):\n",
    "        super(Decoder, self).__init__()\n",
    "        \n",
    "        # define the properties\n",
    "        self.embed_size = embed_size\n",
    "        self.hidden_size = hidden_size\n",
    "        self.vocab_size = vocab_size\n",
    "        \n",
    "        # lstm cell\n",
    "        #self.lstm_cell = nn.LSTMCell(input_size = embed_size + hidden_size, hidden_size=hidden_size)\n",
    "        self.lstm_cell = nn.LSTMCell(input_size = embed_size, hidden_size=hidden_size)\n",
    "        # output fully connected layer\n",
    "        self.fc_out = nn.Linear(in_features = self.hidden_size*2, out_features = self.vocab_size)\n",
    "    \n",
    "        # embedding layer\n",
    "        self.embed = nn.Embedding(num_embeddings = self.vocab_size, embedding_dim = self.embed_size)\n",
    "        self.embed.weight.requires_grad = False\n",
    "        self.embed.load_state_dict({'weight': weights_matrix})\n",
    "\n",
    "        self.attn = attention(2048, 2048, 300, 49)\n",
    "        \n",
    "        #self.embed_test = nn.Embedding(num_embeddings = self.vocab_size, embedding_dim = self.embed_size)\n",
    "        #self.embed_test.weight.requires_grad = False\n",
    "        #self.embed_test.load_state_dict({'weight': weights_matrix})\n",
    "         \n",
    "    def forward(self, features, captions, test = False):\n",
    "\n",
    "\n",
    "        # features = [32,196,512], captions = [32,num_words]\n",
    "        \n",
    "        # batch size\n",
    "        batch_size = features.size(0)    # 32\n",
    "        \n",
    "        # init the hidden and cell states to zeros\n",
    "        \n",
    "        #hidden_state = torch.zeros((batch_size, self.hidden_size)).to(device)    #[32,512]\n",
    "        #cell_state = torch.zeros((batch_size, self.hidden_size)).to(device)      #[32,512]\n",
    "        \n",
    "        hidden_state = torch.mean(features, dim = 1)    #[32,512]\n",
    "        cell_state = torch.mean(features, dim = 1)      #[32,512]\n",
    "        states = (hidden_state, cell_state)\n",
    "        outputs = torch.empty((batch_size, captions.size(1), self.vocab_size)).to(device) #captions.size(1) is the number of words \n",
    "        # outputs = [32,num_words,vocab_size]\n",
    "        \n",
    "        # embed the captions\n",
    "        captions_embed = self.embed(captions)    #[32,num_words,300]\n",
    "        \n",
    "        # pass the caption word by word\n",
    "        if test == False: \n",
    "            for t in range(captions.size(1)):\n",
    "\n",
    "                # getting the features of the image to be focussed on  \n",
    "                #context = attn(features, hidden_state)  #[32,512]\n",
    "\n",
    "                # concatnating it with the input word\n",
    "                #inputs = torch.cat((context, captions_embed[:, t, :]), dim = 1) # [32,812] \n",
    "\n",
    "                #passing the combination through lstm\n",
    "                #hidden_state, cell_state = self.lstm_cell(inputs, (hidden_state, cell_state))\n",
    "                hidden_state, cell_state = self.lstm_cell(captions_embed[:,t,:], (hidden_state, cell_state))\n",
    "\n",
    "\n",
    "                context = self.attn(features, hidden_state, captions_embed[:,t,:], cell_state)\n",
    "\n",
    "                out = torch.cat((context, hidden_state), dim = 1)\n",
    "                # output of the attention mechanism\n",
    "                out = self.fc_out(out)\n",
    "\n",
    "                # build the output tensor\n",
    "                outputs[:, t, :] = out      \n",
    "\n",
    "            return F.log_softmax(outputs, dim = 2)\n",
    "        \n",
    "        \n",
    "\n",
    "        \n",
    "    \n",
    "        else:\n",
    "            \n",
    "            word_idxs = torch.ones(batch_size).long().to(device)\n",
    "            \n",
    "            \n",
    "            for i in range(captions.size(1)):\n",
    "                \n",
    "                word_embeds = self.embed(word_idxs)     #[32,300]\n",
    "            \n",
    "                \n",
    "                hidden_state, cell_state = self.lstm_cell(word_embeds, (hidden_state, cell_state))\n",
    "\n",
    "\n",
    "                context = self.attn(features, hidden_state, word_embeds, cell_state)\n",
    "\n",
    "                out = torch.cat((context, hidden_state), dim = 1)\n",
    "                # output of the attention mechanism\n",
    "                out = self.fc_out(out)\n",
    "            \n",
    "                # build the output tensor\n",
    "                outputs[:, i, :] = out\n",
    "                \n",
    "                word_idxs = torch.argmax(out, dim = 1)\n",
    "                \n",
    "\n",
    "            return F.log_softmax(outputs, dim = 2)\n",
    "\n",
    "              \n",
    "            \n",
    "        \n",
    "        \n",
    "        \n",
    "vocab_size = vocab.num_words\n",
    "device = torch.device('cuda' if torch.cuda.is_available() else 'cpu')\n",
    "decoder = Decoder(300,2048, vocab_size,weights_matrix, device)"
   ]
  },
  {
   "cell_type": "code",
   "execution_count": 14,
   "metadata": {},
   "outputs": [
    {
     "data": {
      "text/plain": [
       "<All keys matched successfully>"
      ]
     },
     "execution_count": 14,
     "metadata": {},
     "output_type": "execute_result"
    }
   ],
   "source": [
    "encoder.to(device)\n",
    "decoder.to(device)\n",
    "decoder.load_state_dict(torch.load('weights/final_run3.pth'))"
   ]
  },
  {
   "cell_type": "code",
   "execution_count": 15,
   "metadata": {},
   "outputs": [
    {
     "name": "stderr",
     "output_type": "stream",
     "text": [
      "C:\\Users\\abhip\\anaconda3\\lib\\site-packages\\torch\\nn\\functional.py:718: UserWarning: Named tensors and all their associated APIs are an experimental feature and subject to change. Please do not use them for anything important until they are released as stable. (Triggered internally at  ..\\c10/core/TensorImpl.h:1156.)\n",
      "  return torch.max_pool2d(input, kernel_size, stride, padding, dilation, ceil_mode)\n"
     ]
    },
    {
     "ename": "TypeError",
     "evalue": "imshow() missing 1 required positional argument: 'X'",
     "output_type": "error",
     "traceback": [
      "\u001b[1;31m---------------------------------------------------------------------------\u001b[0m",
      "\u001b[1;31mTypeError\u001b[0m                                 Traceback (most recent call last)",
      "\u001b[1;32m<ipython-input-15-82ea04b071a7>\u001b[0m in \u001b[0;36m<module>\u001b[1;34m\u001b[0m\n\u001b[0;32m     24\u001b[0m                 \u001b[0ms\u001b[0m\u001b[1;33m+=\u001b[0m\u001b[0mword\u001b[0m\u001b[1;33m\u001b[0m\u001b[1;33m\u001b[0m\u001b[0m\n\u001b[0;32m     25\u001b[0m                 \u001b[0ms\u001b[0m\u001b[1;33m+=\u001b[0m\u001b[1;34m\" \"\u001b[0m\u001b[1;33m\u001b[0m\u001b[1;33m\u001b[0m\u001b[0m\n\u001b[1;32m---> 26\u001b[1;33m         \u001b[0mplt\u001b[0m\u001b[1;33m.\u001b[0m\u001b[0mimshow\u001b[0m\u001b[1;33m(\u001b[0m\u001b[1;33m)\u001b[0m\u001b[1;33m\u001b[0m\u001b[1;33m\u001b[0m\u001b[0m\n\u001b[0m",
      "\u001b[1;31mTypeError\u001b[0m: imshow() missing 1 required positional argument: 'X'"
     ]
    }
   ],
   "source": [
    "for idx, (img_list, caption) in enumerate (trainloader):\n",
    "\n",
    "        img_list = img_list.to(device)\n",
    "        caption_target = caption[:,1:]    # skips SOS\n",
    "        caption_train = caption[:,:-1]    # skips EOS\n",
    "        caption_target, caption_train = caption_target.to(device).long(), caption_train.to(device).long()\n",
    "        features = encoder(img_list) # [32,512,49,49]\n",
    "        features = features.permute(0,2,3,1)    # [32,7,7,2048]\n",
    "        features = features.view(-1, 49, 2048) # [32,196,512]\n",
    "        outputs = decoder(features, caption_train)\n",
    "        preds = outputs[0]\n",
    "        ################################################ converting the predictions to words ######################################################################\n",
    "        preds = torch.argmax(preds, dim = 1)\n",
    "        preds = preds.cpu()\n",
    "        preds = np.array(preds)\n",
    "        ans = []\n",
    "        for index in preds:\n",
    "                if index == 2:\n",
    "                        break    \n",
    "                if index != 1:    \n",
    "                        ans.append(vocab.to_word(index))\n",
    "        s = 'GREEDY DECODING: '\n",
    "        for word in ans:\n",
    "                s+=word\n",
    "                s+=\" \"\n",
    "        plt.imshow()"
   ]
  },
  {
   "cell_type": "code",
   "execution_count": 16,
   "metadata": {},
   "outputs": [
    {
     "name": "stdout",
     "output_type": "stream",
     "text": [
      "Dash is running on http://127.0.0.1:8050/\n",
      "\n",
      " * Serving Flask app \"__main__\" (lazy loading)\n",
      " * Environment: production\n",
      "   WARNING: This is a development server. Do not use it in a production deployment.\n",
      "   Use a production WSGI server instead.\n",
      " * Debug mode: off\n"
     ]
    },
    {
     "name": "stderr",
     "output_type": "stream",
     "text": [
      " * Running on http://127.0.0.1:8050/ (Press CTRL+C to quit)\n",
      "127.0.0.1 - - [25/Oct/2021 18:18:13] \"\u001b[37mGET / HTTP/1.1\u001b[0m\" 200 -\n",
      "127.0.0.1 - - [25/Oct/2021 18:18:14] \"\u001b[37mGET /_dash-layout HTTP/1.1\u001b[0m\" 200 -\n",
      "127.0.0.1 - - [25/Oct/2021 18:18:14] \"\u001b[37mGET /_dash-dependencies HTTP/1.1\u001b[0m\" 200 -\n",
      "127.0.0.1 - - [25/Oct/2021 18:18:14] \"\u001b[37mPOST /_dash-update-component HTTP/1.1\u001b[0m\" 200 -\n",
      "127.0.0.1 - - [25/Oct/2021 18:18:28] \"\u001b[37mPOST /_dash-update-component HTTP/1.1\u001b[0m\" 200 -\n",
      "127.0.0.1 - - [25/Oct/2021 18:18:41] \"\u001b[37mPOST /_dash-update-component HTTP/1.1\u001b[0m\" 200 -\n"
     ]
    }
   ],
   "source": [
    "import torch\n",
    "import numpy as np\n",
    "from PIL import Image\n",
    "import io\n",
    "import datetime\n",
    "import base64\n",
    "import dash\n",
    "from dash.dependencies import Input, Output, State\n",
    "import dash_core_components as dcc\n",
    "import dash_html_components as html\n",
    "\n",
    "\n",
    "external_stylesheets = ['https://codepen.io/chriddyp/pen/bWLwgP.css']\n",
    "\n",
    "app = dash.Dash(__name__, external_stylesheets=external_stylesheets)\n",
    "\n",
    "app.layout = html.Div([\n",
    "    html.H1(id = 'H1', children = 'Image Captioning', style = {'textAlign':'center',\\\n",
    "                                            'marginTop':40,'marginBottom':40}),\n",
    "    dcc.Upload(\n",
    "        id='upload-image',\n",
    "        children=html.Div([\n",
    "            'Drag and Drop or ',\n",
    "            html.A('Select Files')\n",
    "        ]),\n",
    "        style={\n",
    "            'width': '100%',\n",
    "            'height': '60px',\n",
    "            'lineHeight': '60px',\n",
    "            'borderWidth': '1px',\n",
    "            'borderStyle': 'dashed',\n",
    "            'borderRadius': '5px',\n",
    "            'textAlign': 'center',\n",
    "            'margin': '10px'\n",
    "        },\n",
    "        # Allow multiple files to be uploaded\n",
    "        multiple=True\n",
    "    ),\n",
    "    html.Div(id='greedy'),\n",
    "    #html.Div(id='beamsearch')\n",
    "])\n",
    "\n",
    "\n",
    "def parse_contents(contents, filename, date):\n",
    "    \n",
    "\n",
    "    ##############################################  converting image to tensor ##############################################################################\n",
    "    image = base64.b64decode(contents[23:])\n",
    "    image = torch.tensor(np.array(Image.open(io.BytesIO(image)).resize((224,224)))).permute(2,0,1)/255\n",
    "\n",
    "    image = image.to(device)\n",
    "    image = image.unsqueeze(0)\n",
    "    captions_train = torch.randint(0,1000,(1,82)).to(device)\n",
    "\n",
    "    ############################################### passing the image through the model ######################################################################\n",
    "    features = encoder(image) \n",
    "    features = features.permute(0,2,3,1)    \n",
    "    features = features.view(-1, 49, 2048) \n",
    "    outputs1 = decoder(features, captions_train, test = True)   \n",
    "    preds = outputs1[0]\n",
    "    ################################################ converting the predictions to words ######################################################################\n",
    "    preds = torch.argmax(preds, dim = 1)\n",
    "    preds = preds.cpu()\n",
    "    preds = np.array(preds)\n",
    "    ans = []\n",
    "    for index in preds:\n",
    "        if index == 2:\n",
    "            break    \n",
    "        if index != 1:    \n",
    "            ans.append(vocab.to_word(index))\n",
    "    s = 'GREEDY DECODING: '\n",
    "    for word in ans:\n",
    "        s+=word\n",
    "        s+=\" \"\n",
    "    #ans1 = beam_search(image.squeeze(0))\n",
    "    #s+= \"\\n BEAM SEARCH: \"\n",
    "    #for word in ans1:\n",
    "    #    s+=word\n",
    "    #    s+=\" \"\n",
    "\n",
    "\n",
    "\n",
    "    return s\n",
    "    \n",
    "\n",
    "@app.callback(Output('greedy', 'children'),\n",
    "              Input('upload-image', 'contents'),\n",
    "              State('upload-image', 'filename'),\n",
    "              State('upload-image', 'last_modified'))\n",
    "def update_output(list_of_contents, list_of_names, list_of_dates):\n",
    "    if list_of_contents is not None:        \n",
    "        children = [\n",
    "            parse_contents(c, n, d) for c, n, d in\n",
    "            zip(list_of_contents, list_of_names, list_of_dates)]\n",
    "        return children\n",
    "\n",
    "\n",
    "if __name__ == '__main__':\n",
    "    app.run_server()\n"
   ]
  },
  {
   "cell_type": "code",
   "execution_count": null,
   "metadata": {},
   "outputs": [],
   "source": []
  }
 ],
 "metadata": {
  "interpreter": {
   "hash": "220904bb1b11ba5d67ca5e275a7648fe664f61a92953245a3b038700f67bf254"
  },
  "kernelspec": {
   "display_name": "Python 3.8.8 64-bit ('base': conda)",
   "name": "python3"
  },
  "language_info": {
   "codemirror_mode": {
    "name": "ipython",
    "version": 3
   },
   "file_extension": ".py",
   "mimetype": "text/x-python",
   "name": "python",
   "nbconvert_exporter": "python",
   "pygments_lexer": "ipython3",
   "version": "3.8.8"
  },
  "papermill": {
   "default_parameters": {},
   "duration": 30098.782963,
   "end_time": "2021-08-02T17:48:38.107583",
   "environment_variables": {},
   "exception": true,
   "input_path": "__notebook__.ipynb",
   "output_path": "__notebook__.ipynb",
   "parameters": {},
   "start_time": "2021-08-02T09:26:59.324620",
   "version": "2.3.3"
  },
  "widgets": {
   "application/vnd.jupyter.widget-state+json": {
    "state": {
     "1caa12b54a9644aba1f3efbff8dc48a6": {
      "model_module": "@jupyter-widgets/controls",
      "model_module_version": "1.5.0",
      "model_name": "HTMLModel",
      "state": {
       "_dom_classes": [],
       "_model_module": "@jupyter-widgets/controls",
       "_model_module_version": "1.5.0",
       "_model_name": "HTMLModel",
       "_view_count": null,
       "_view_module": "@jupyter-widgets/controls",
       "_view_module_version": "1.5.0",
       "_view_name": "HTMLView",
       "description": "",
       "description_tooltip": null,
       "layout": "IPY_MODEL_627afa79ae0349b58660c9d7b73838cb",
       "placeholder": "​",
       "style": "IPY_MODEL_28f3c43407424f3fafca908496f44893",
       "value": "100%"
      }
     },
     "28f3c43407424f3fafca908496f44893": {
      "model_module": "@jupyter-widgets/controls",
      "model_module_version": "1.5.0",
      "model_name": "DescriptionStyleModel",
      "state": {
       "_model_module": "@jupyter-widgets/controls",
       "_model_module_version": "1.5.0",
       "_model_name": "DescriptionStyleModel",
       "_view_count": null,
       "_view_module": "@jupyter-widgets/base",
       "_view_module_version": "1.2.0",
       "_view_name": "StyleView",
       "description_width": ""
      }
     },
     "3226393dd1aa4fb98edde7e01b25adbf": {
      "model_module": "@jupyter-widgets/controls",
      "model_module_version": "1.5.0",
      "model_name": "DescriptionStyleModel",
      "state": {
       "_model_module": "@jupyter-widgets/controls",
       "_model_module_version": "1.5.0",
       "_model_name": "DescriptionStyleModel",
       "_view_count": null,
       "_view_module": "@jupyter-widgets/base",
       "_view_module_version": "1.2.0",
       "_view_name": "StyleView",
       "description_width": ""
      }
     },
     "627afa79ae0349b58660c9d7b73838cb": {
      "model_module": "@jupyter-widgets/base",
      "model_module_version": "1.2.0",
      "model_name": "LayoutModel",
      "state": {
       "_model_module": "@jupyter-widgets/base",
       "_model_module_version": "1.2.0",
       "_model_name": "LayoutModel",
       "_view_count": null,
       "_view_module": "@jupyter-widgets/base",
       "_view_module_version": "1.2.0",
       "_view_name": "LayoutView",
       "align_content": null,
       "align_items": null,
       "align_self": null,
       "border": null,
       "bottom": null,
       "display": null,
       "flex": null,
       "flex_flow": null,
       "grid_area": null,
       "grid_auto_columns": null,
       "grid_auto_flow": null,
       "grid_auto_rows": null,
       "grid_column": null,
       "grid_gap": null,
       "grid_row": null,
       "grid_template_areas": null,
       "grid_template_columns": null,
       "grid_template_rows": null,
       "height": null,
       "justify_content": null,
       "justify_items": null,
       "left": null,
       "margin": null,
       "max_height": null,
       "max_width": null,
       "min_height": null,
       "min_width": null,
       "object_fit": null,
       "object_position": null,
       "order": null,
       "overflow": null,
       "overflow_x": null,
       "overflow_y": null,
       "padding": null,
       "right": null,
       "top": null,
       "visibility": null,
       "width": null
      }
     },
     "b9697785d1fb4a1c807935adcce78bd7": {
      "model_module": "@jupyter-widgets/base",
      "model_module_version": "1.2.0",
      "model_name": "LayoutModel",
      "state": {
       "_model_module": "@jupyter-widgets/base",
       "_model_module_version": "1.2.0",
       "_model_name": "LayoutModel",
       "_view_count": null,
       "_view_module": "@jupyter-widgets/base",
       "_view_module_version": "1.2.0",
       "_view_name": "LayoutView",
       "align_content": null,
       "align_items": null,
       "align_self": null,
       "border": null,
       "bottom": null,
       "display": null,
       "flex": null,
       "flex_flow": null,
       "grid_area": null,
       "grid_auto_columns": null,
       "grid_auto_flow": null,
       "grid_auto_rows": null,
       "grid_column": null,
       "grid_gap": null,
       "grid_row": null,
       "grid_template_areas": null,
       "grid_template_columns": null,
       "grid_template_rows": null,
       "height": null,
       "justify_content": null,
       "justify_items": null,
       "left": null,
       "margin": null,
       "max_height": null,
       "max_width": null,
       "min_height": null,
       "min_width": null,
       "object_fit": null,
       "object_position": null,
       "order": null,
       "overflow": null,
       "overflow_x": null,
       "overflow_y": null,
       "padding": null,
       "right": null,
       "top": null,
       "visibility": null,
       "width": null
      }
     },
     "c0747e84f20e46948626cc7b79490d54": {
      "model_module": "@jupyter-widgets/base",
      "model_module_version": "1.2.0",
      "model_name": "LayoutModel",
      "state": {
       "_model_module": "@jupyter-widgets/base",
       "_model_module_version": "1.2.0",
       "_model_name": "LayoutModel",
       "_view_count": null,
       "_view_module": "@jupyter-widgets/base",
       "_view_module_version": "1.2.0",
       "_view_name": "LayoutView",
       "align_content": null,
       "align_items": null,
       "align_self": null,
       "border": null,
       "bottom": null,
       "display": null,
       "flex": null,
       "flex_flow": null,
       "grid_area": null,
       "grid_auto_columns": null,
       "grid_auto_flow": null,
       "grid_auto_rows": null,
       "grid_column": null,
       "grid_gap": null,
       "grid_row": null,
       "grid_template_areas": null,
       "grid_template_columns": null,
       "grid_template_rows": null,
       "height": null,
       "justify_content": null,
       "justify_items": null,
       "left": null,
       "margin": null,
       "max_height": null,
       "max_width": null,
       "min_height": null,
       "min_width": null,
       "object_fit": null,
       "object_position": null,
       "order": null,
       "overflow": null,
       "overflow_x": null,
       "overflow_y": null,
       "padding": null,
       "right": null,
       "top": null,
       "visibility": null,
       "width": null
      }
     },
     "c918597a09fa4c6fae21b1ca8982399e": {
      "model_module": "@jupyter-widgets/controls",
      "model_module_version": "1.5.0",
      "model_name": "HTMLModel",
      "state": {
       "_dom_classes": [],
       "_model_module": "@jupyter-widgets/controls",
       "_model_module_version": "1.5.0",
       "_model_name": "HTMLModel",
       "_view_count": null,
       "_view_module": "@jupyter-widgets/controls",
       "_view_module_version": "1.5.0",
       "_view_name": "HTMLView",
       "description": "",
       "description_tooltip": null,
       "layout": "IPY_MODEL_d701d180a9b74f9da7e6bf6947088a4b",
       "placeholder": "​",
       "style": "IPY_MODEL_3226393dd1aa4fb98edde7e01b25adbf",
       "value": " 97.8M/97.8M [00:02&lt;00:00, 40.4MB/s]"
      }
     },
     "d701d180a9b74f9da7e6bf6947088a4b": {
      "model_module": "@jupyter-widgets/base",
      "model_module_version": "1.2.0",
      "model_name": "LayoutModel",
      "state": {
       "_model_module": "@jupyter-widgets/base",
       "_model_module_version": "1.2.0",
       "_model_name": "LayoutModel",
       "_view_count": null,
       "_view_module": "@jupyter-widgets/base",
       "_view_module_version": "1.2.0",
       "_view_name": "LayoutView",
       "align_content": null,
       "align_items": null,
       "align_self": null,
       "border": null,
       "bottom": null,
       "display": null,
       "flex": null,
       "flex_flow": null,
       "grid_area": null,
       "grid_auto_columns": null,
       "grid_auto_flow": null,
       "grid_auto_rows": null,
       "grid_column": null,
       "grid_gap": null,
       "grid_row": null,
       "grid_template_areas": null,
       "grid_template_columns": null,
       "grid_template_rows": null,
       "height": null,
       "justify_content": null,
       "justify_items": null,
       "left": null,
       "margin": null,
       "max_height": null,
       "max_width": null,
       "min_height": null,
       "min_width": null,
       "object_fit": null,
       "object_position": null,
       "order": null,
       "overflow": null,
       "overflow_x": null,
       "overflow_y": null,
       "padding": null,
       "right": null,
       "top": null,
       "visibility": null,
       "width": null
      }
     },
     "e1c0d72dd745415ab7954ae87db9388a": {
      "model_module": "@jupyter-widgets/controls",
      "model_module_version": "1.5.0",
      "model_name": "ProgressStyleModel",
      "state": {
       "_model_module": "@jupyter-widgets/controls",
       "_model_module_version": "1.5.0",
       "_model_name": "ProgressStyleModel",
       "_view_count": null,
       "_view_module": "@jupyter-widgets/base",
       "_view_module_version": "1.2.0",
       "_view_name": "StyleView",
       "bar_color": null,
       "description_width": ""
      }
     },
     "ecc8c51ae770433b885aa8ab69801eac": {
      "model_module": "@jupyter-widgets/controls",
      "model_module_version": "1.5.0",
      "model_name": "FloatProgressModel",
      "state": {
       "_dom_classes": [],
       "_model_module": "@jupyter-widgets/controls",
       "_model_module_version": "1.5.0",
       "_model_name": "FloatProgressModel",
       "_view_count": null,
       "_view_module": "@jupyter-widgets/controls",
       "_view_module_version": "1.5.0",
       "_view_name": "ProgressView",
       "bar_style": "success",
       "description": "",
       "description_tooltip": null,
       "layout": "IPY_MODEL_b9697785d1fb4a1c807935adcce78bd7",
       "max": 102502400,
       "min": 0,
       "orientation": "horizontal",
       "style": "IPY_MODEL_e1c0d72dd745415ab7954ae87db9388a",
       "value": 102502400
      }
     },
     "f316020eb9bb4276bc578fd6e96e1c45": {
      "model_module": "@jupyter-widgets/controls",
      "model_module_version": "1.5.0",
      "model_name": "HBoxModel",
      "state": {
       "_dom_classes": [],
       "_model_module": "@jupyter-widgets/controls",
       "_model_module_version": "1.5.0",
       "_model_name": "HBoxModel",
       "_view_count": null,
       "_view_module": "@jupyter-widgets/controls",
       "_view_module_version": "1.5.0",
       "_view_name": "HBoxView",
       "box_style": "",
       "children": [
        "IPY_MODEL_1caa12b54a9644aba1f3efbff8dc48a6",
        "IPY_MODEL_ecc8c51ae770433b885aa8ab69801eac",
        "IPY_MODEL_c918597a09fa4c6fae21b1ca8982399e"
       ],
       "layout": "IPY_MODEL_c0747e84f20e46948626cc7b79490d54"
      }
     }
    },
    "version_major": 2,
    "version_minor": 0
   }
  }
 },
 "nbformat": 4,
 "nbformat_minor": 5
}
